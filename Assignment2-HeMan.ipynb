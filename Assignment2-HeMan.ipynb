{
 "cells": [
  {
   "cell_type": "markdown",
   "metadata": {},
   "source": [
    "<a id='all'></a>\n",
    "## Assignment 2  - Ensemble Learning\n",
    "-- QF624 Machine Learning and Financial Applications  He Man 01387756\n",
    "\n",
    "[0. Data Pre-processing](#1)<br>\n",
    "[1. [Question 1] Ensemble Learning](#2)<br>\n",
    "[2. [Question 2] Ensemble Learning with External Data](#3)<br>\n",
    "\n",
    "\n",
    "### **<code style=\"color:red\">Directly to the results part</code>**\n",
    ">[[Question 1] Ensemble Learning](#4)<br>\n",
    ">[[Question 2] Ensemble Learning with External Data](#5)<br>"
   ]
  },
  {
   "cell_type": "markdown",
   "metadata": {},
   "source": [
    "<a id='1'></a>\n",
    "# Data Pre-processing\n",
    "\n",
    "[back to main list](#all)"
   ]
  },
  {
   "cell_type": "code",
   "execution_count": 1,
   "metadata": {},
   "outputs": [],
   "source": [
    "import pandas as pd"
   ]
  },
  {
   "cell_type": "code",
   "execution_count": 2,
   "metadata": {},
   "outputs": [
    {
     "name": "stderr",
     "output_type": "stream",
     "text": [
      "/Users/matt/opt/anaconda3/lib/python3.7/site-packages/IPython/core/interactiveshell.py:3063: DtypeWarning: Columns (0,19) have mixed types.Specify dtype option on import or set low_memory=False.\n",
      "  interactivity=interactivity, compiler=compiler, result=result)\n"
     ]
    }
   ],
   "source": [
    "loanStats = pd.read_csv('LoanStats_2016Q4.csv', skiprows = 1)\n",
    "rejectStats = pd.read_csv('RejectStats_2016Q4.csv', skiprows = 1)"
   ]
  },
  {
   "cell_type": "code",
   "execution_count": 3,
   "metadata": {},
   "outputs": [
    {
     "name": "stdout",
     "output_type": "stream",
     "text": [
      "(103546, 142)\n",
      "Index(['loan_amnt', 'funded_amnt', 'funded_amnt_inv', 'term', 'int_rate',\n",
      "       'installment', 'grade', 'sub_grade', 'emp_title', 'emp_length',\n",
      "       ...\n",
      "       'orig_projected_additional_accrued_interest',\n",
      "       'hardship_payoff_balance_amount', 'hardship_last_payment_amount',\n",
      "       'debt_settlement_flag', 'debt_settlement_flag_date',\n",
      "       'settlement_status', 'settlement_date', 'settlement_amount',\n",
      "       'settlement_percentage', 'settlement_term'],\n",
      "      dtype='object', length=142)\n",
      "(1404490, 9)\n",
      "Index(['Amount Requested', 'Application Date', 'Loan Title', 'Risk_Score',\n",
      "       'Debt-To-Income Ratio', 'Zip Code', 'State', 'Employment Length',\n",
      "       'Policy Code'],\n",
      "      dtype='object')\n",
      "count    103546.000000\n",
      "mean      14151.435835\n",
      "std        9215.032376\n",
      "min        1000.000000\n",
      "25%        7000.000000\n",
      "50%       12000.000000\n",
      "75%       20000.000000\n",
      "max       40000.000000\n",
      "Name: loan_amnt, dtype: float64\n",
      "count    1.404490e+06\n",
      "mean     1.293313e+04\n",
      "std      1.567272e+04\n",
      "min      0.000000e+00\n",
      "25%      4.000000e+03\n",
      "50%      1.000000e+04\n",
      "75%      2.000000e+04\n",
      "max      3.000000e+05\n",
      "Name: Amount Requested, dtype: float64\n",
      "Debt consolidation         59749\n",
      "Credit card refinancing    20528\n",
      "Home improvement            7393\n",
      "Other                       7383\n",
      "Major purchase              2470\n",
      "Medical expenses            1468\n",
      "Business                    1216\n",
      "Car financing               1162\n",
      "Vacation                     829\n",
      "Moving and relocation        772\n",
      "Home buying                  475\n",
      "Green loan                    97\n",
      "Name: title, dtype: int64\n",
      "debt_consolidation         359782\n",
      "Debt consolidation         324415\n",
      "other                      146389\n",
      "credit_card                 96179\n",
      "Other                       71882\n",
      "Credit card refinancing     67381\n",
      "home_improvement            44136\n",
      "Home improvement            31054\n",
      "car                         29480\n",
      "major_purchase              29301\n",
      "Car financing               22788\n",
      "moving                      20836\n",
      "medical                     20814\n",
      "Medical expenses            19315\n",
      "Business Loan               18575\n",
      "Moving and relocation       17616\n",
      "Major purchase              17505\n",
      "Business                    13845\n",
      "small_business              13410\n",
      "house                       11088\n",
      "vacation                     9842\n",
      "Vacation                     7392\n",
      "Home buying                  7300\n",
      "Green loan                   2075\n",
      "renewable_energy             2009\n",
      "Name: Loan Title, dtype: int64\n",
      "10+ years    35981\n",
      "2 years       9652\n",
      "3 years       8244\n",
      "< 1 year      7591\n",
      "1 year        6707\n",
      "5 years       6292\n",
      "4 years       6249\n",
      "6 years       4786\n",
      "8 years       3951\n",
      "9 years       3870\n",
      "7 years       3346\n",
      "Name: emp_length, dtype: int64\n",
      "< 1 year     1022412\n",
      "5 years       274322\n",
      "10+ years      16782\n",
      "2 years         5248\n",
      "3 years         4502\n",
      "1 year          4389\n",
      "4 years         3314\n",
      "6 years         2494\n",
      "8 years         1953\n",
      "7 years         1918\n",
      "9 years         1586\n",
      "Name: Employment Length, dtype: int64\n",
      "1.0    103546\n",
      "Name: policy_code, dtype: int64\n",
      "0    1403661\n",
      "2        829\n",
      "Name: Policy Code, dtype: int64\n",
      "Index(['amount', 'debt_to_income', 'zip3', 'state', 'employ_length',\n",
      "       'reason_=_business', 'reason_=_car', 'reason_=_credit_card',\n",
      "       'reason_=_debt_consolidation', 'reason_=_green', 'reason_=_home_buying',\n",
      "       'reason_=_home_improvement', 'reason_=_major_purchase',\n",
      "       'reason_=_medical', 'reason_=_moving_relocation', 'reason_=_vacation',\n",
      "       'approved'],\n",
      "      dtype='object')\n",
      "Index(['amount', 'debt_to_income', 'zip3', 'state', 'employ_length',\n",
      "       'reason_=_business', 'reason_=_car', 'reason_=_credit_card',\n",
      "       'reason_=_debt_consolidation', 'reason_=_green', 'reason_=_home_buying',\n",
      "       'reason_=_home_improvement', 'reason_=_major_purchase',\n",
      "       'reason_=_medical', 'reason_=_moving_relocation', 'reason_=_vacation',\n",
      "       'approved'],\n",
      "      dtype='object')\n"
     ]
    }
   ],
   "source": [
    "# Drop last two rows\n",
    "loanStats = loanStats.drop(loanStats.index[-2:])\n",
    "\n",
    "# Drop first two columns since they are empty\n",
    "loanStats = loanStats.drop(['id', 'member_id'], axis = 1)\n",
    "\n",
    "print(loanStats.shape)\n",
    "print(loanStats.columns)\n",
    "print(rejectStats.shape)\n",
    "print(rejectStats.columns)\n",
    "\n",
    "print(loanStats['loan_amnt'].describe())\n",
    "print(rejectStats['Amount Requested'].describe())\n",
    "\n",
    "print(loanStats['title'].value_counts())\n",
    "print(rejectStats['Loan Title'].value_counts())\n",
    "\n",
    "\"\"\"\n",
    "There are only 9 columns in reject data, let's try to match loan data with reject data:\n",
    "\n",
    "'loan_amnt' in loanStats should match with 'Amount Requested' in rejectStats.\n",
    "'issue_d' in loanStats is the issue date, it should be later than 'Application Date' in rejectStats, let's ignore this pair for now.\n",
    "'title' in loanStats should match with 'Loan Title' in rejectStats. However, we need to deal with upper/lower case and space/underscore issues.\n",
    "There is no column in loanStats matches with 'Risk_Score' in rejectStats, would be very useful if there was one.\n",
    "'dti' in loanStats matches with 'Debt-To-Income Ratio' in rejectStats.\n",
    "'zip_code' and 'addr_state' in loanStats match with 'Zip Code' and 'State' in rejectStats respectively. Zip codes are only available in first 3 digits, and we might need to get external data for the demographics about the zip code.\n",
    "'emp_length' in loanStats matches with 'Employment Length' in rejectStats.\n",
    "'policy_code' in loanStats matches with 'Policy Code' in rejectStats.\n",
    "\"\"\"\n",
    "\n",
    "print(loanStats['emp_length'].value_counts())\n",
    "print(rejectStats['Employment Length'].value_counts())\n",
    "\n",
    "print(loanStats['policy_code'].value_counts())\n",
    "print(rejectStats['Policy Code'].value_counts())\n",
    "\n",
    "#However, policy code is useless since it carries different meaning in the two datasets, \n",
    "#so we should ignore this pair of columns.\n",
    "#Let's now build two new dataframes, and keep their columns consistent.\n",
    "\n",
    "approved = pd.DataFrame()\n",
    "rejected = pd.DataFrame()\n",
    "\n",
    "#Copy values from 'loan_amnt' and 'Amount Requested' directly to the new dataframes\n",
    "approved['amount'] = loanStats['loan_amnt']\n",
    "rejected['amount'] = rejectStats['Amount Requested']\n",
    "\n",
    "#Using lambda functions to convert strings, first make all characters lower cases, and split them by space, \n",
    "#then join them using '_'. While joining, remove words like 'and', 'expenses', 'financing', 'loan', 'refinancing', \n",
    "#as these words are not important in reasons for loans. To further consolidate the reasons, \n",
    "#we merge 'housing' to 'home_buying', 'moving' to 'moving_relocation', 'renewable_energy' to 'green', \n",
    "#and 'small_business' to 'business'.\n",
    "stop_words = ['and', 'expenses', 'financing', 'loan', 'refinancing']\n",
    "approved['reason'] = loanStats['title'].apply(lambda x: 'other' if type(x) != str else '_'.join([i for i in x.lower().split() if i not in stop_words]))\n",
    "rejected['reason'] = rejectStats['Loan Title'].apply(lambda x: 'other' if type(x) != str else '_'.join([i for i in x.lower().split() if i not in stop_words]))\n",
    "convert = {'house': 'home_buying', 'moving': 'moving_relocation', 'renewable_energy': 'green', 'small_business': 'business'}\n",
    "rejected['reason'] = rejected['reason'].apply(lambda x: convert[x] if x in convert else x)\n",
    "\n",
    "#Copy values from 'dti' and 'Debt-To-Income Ratio', however, to identify Not-a-Number floats, we test x == x, in it's a NaN, \n",
    "#we set it to the maximum in the dataset.\n",
    "approved['debt_to_income'] = loanStats['dti'].apply(lambda x: max(0.0, min(x / 100, 1.0)) if x == x else 1.0)\n",
    "rejected['debt_to_income'] = rejectStats['Debt-To-Income Ratio'].apply(lambda x: max(0.0, min(float(x[:-1]) / 100, 1.0)))\n",
    "\n",
    "#Keep the first 3 digits of the zip codes since the last 2 digits are masked, however, it is unnecessary to convert them to numbers.\n",
    "approved['zip3'] = loanStats['zip_code'].apply(lambda x: x[:3] if type(x) == str else 'N/A')\n",
    "rejected['zip3'] = rejectStats['Zip Code'].apply(lambda x: x[:3] if type(x) == str else 'N/A')\n",
    "approved['state'] = loanStats['addr_state']\n",
    "rejected['state'] = rejectStats['State']\n",
    "\n",
    "#Convert the employment length to numerical values, if it is not specified, or less than a year, we take them as 0.\n",
    "approved['employ_length'] = loanStats['emp_length'].apply(lambda x: 0 if type(x) != str or x[:3] == '< 1' else int(x[:2]))\n",
    "rejected['employ_length'] = rejectStats['Employment Length'].apply(lambda x: 0 if type(x) != str or x[:3] == '< 1' else int(x[:2]))\n",
    "\n",
    "#The column 'reason' is now the only nominal column, we may use function get_dummies, \n",
    "#drop 'other' is recommended since 'reason_=_other' is fuzzy, \n",
    "#and should be expressed by 0 in all other reason columns.\n",
    "approved = pd.concat([approved, pd.get_dummies(approved['reason'], prefix = 'reason', prefix_sep = '_=_').drop('reason_=_other', axis = 1)], axis = 1).drop('reason', axis = 1)\n",
    "rejected = pd.concat([rejected, pd.get_dummies(rejected['reason'], prefix = 'reason', prefix_sep = '_=_').drop('reason_=_other', axis = 1)], axis = 1).drop('reason', axis = 1)\n",
    "\n",
    "#Add the response column to the two dataframes.\n",
    "approved['approved'] = 1\n",
    "rejected['approved'] = 0\n",
    "\n",
    "#Convert the two dataframes to numpy arrays.\n",
    "data_pos = approved.drop(['zip3', 'state'], axis = 1).values\n",
    "data_neg = rejected.drop(['zip3', 'state'], axis = 1).values\n",
    "\n",
    "print(approved.columns)\n",
    "print(rejected.columns)"
   ]
  },
  {
   "cell_type": "markdown",
   "metadata": {},
   "source": [
    "<a id='2'></a>\n",
    "<a id='list'></a>\n",
    "# <code style=\"color:green\">[Question 1] Ensemble Learning</code>\n",
    "In this assignment, you are given the lending club dataset on the approve/reject classification of personal loans, and the .ipynb demonstrated in class on how to build classifiers with grid search and with your own F 0.5 scoring function. You are to build ensemble models for the same task."
   ]
  },
  {
   "cell_type": "markdown",
   "metadata": {},
   "source": [
    "[1.1 Data preparation](#a)<br>\n",
    "[1.2 Simple Model (logistic, Decision Tree, Random Forest, KNN)](#b)<br>\n",
    "[1.3 Bagging](#c)<br>\n",
    "[1.4 Boosting (Adaboost, Gradient boosting)](#d)<br>\n",
    "[1.5 Stacking](#e)<br>\n",
    "[1.6 Performance Comparation](#f)<br>\n",
    "<br>\n",
    "<br>\n",
    "[back to main list](#all)"
   ]
  },
  {
   "cell_type": "markdown",
   "metadata": {},
   "source": [
    "<a id='a'></a>\n",
    "## 1.1 Data preparation\n",
    "- Test size: 0.25\n",
    "- Random state: 2020\n",
    "\n",
    "[back to contents list](#list)"
   ]
  },
  {
   "cell_type": "code",
   "execution_count": 4,
   "metadata": {},
   "outputs": [],
   "source": [
    "import numpy as np\n",
    "data = np.vstack((data_pos, data_neg))"
   ]
  },
  {
   "cell_type": "code",
   "execution_count": 5,
   "metadata": {},
   "outputs": [],
   "source": [
    "seed = 2020\n",
    "np.random.seed(seed)"
   ]
  },
  {
   "cell_type": "code",
   "execution_count": 6,
   "metadata": {},
   "outputs": [],
   "source": [
    "from sklearn import model_selection\n",
    "x_train, x_test, y_train, y_test = model_selection.train_test_split(data[:,:-1], data[:,-1].astype(int), \n",
    "                                                                    test_size = 0.25, random_state = 2020)"
   ]
  },
  {
   "cell_type": "code",
   "execution_count": 7,
   "metadata": {},
   "outputs": [],
   "source": [
    "from sklearn import preprocessing\n",
    "min_max_scaler = preprocessing.MinMaxScaler()\n",
    "x_train = min_max_scaler.fit_transform(x_train)\n",
    "x_test = min_max_scaler.transform(x_test)"
   ]
  },
  {
   "cell_type": "code",
   "execution_count": 8,
   "metadata": {},
   "outputs": [],
   "source": [
    "from sklearn import ensemble\n",
    "from sklearn import metrics\n",
    "from sklearn.metrics import fbeta_score, make_scorer\n",
    "from sklearn import linear_model\n",
    "from sklearn import tree\n",
    "from sklearn.metrics import roc_curve"
   ]
  },
  {
   "cell_type": "code",
   "execution_count": 9,
   "metadata": {},
   "outputs": [],
   "source": [
    "def gen_table(df, model_name, y_test, y_pred, y_pred_s):\n",
    "    fpr, tpr, _ = roc_curve(y_test, y_pred_s)\n",
    "    res = np.array([model_name, \n",
    "                    round(metrics.precision_score(y_test, y_pred),6), \n",
    "                    round(metrics.recall_score(y_test, y_pred), 6),\n",
    "                    round(metrics.f1_score(y_test, y_pred), 6),\n",
    "                    round(metrics.auc(fpr, tpr), 6)])\n",
    "    df = df.append(dict(zip(df.columns, res)), ignore_index = True)\n",
    "    return df"
   ]
  },
  {
   "cell_type": "code",
   "execution_count": 10,
   "metadata": {},
   "outputs": [],
   "source": [
    "table = pd.DataFrame(columns=['model','precision','recall','F_beta','AUC'])"
   ]
  },
  {
   "cell_type": "markdown",
   "metadata": {},
   "source": [
    "<a id='b'></a>\n",
    "## 1.2 Simple Model\n",
    "- Logistic\n",
    "- Decision Tree\n",
    "- Random Forest\n",
    "- KNN\n",
    "\n",
    "[back to contents list](#list)"
   ]
  },
  {
   "cell_type": "markdown",
   "metadata": {},
   "source": [
    "### 1.2.1 Logistc\n",
    "Parameter setting:\n",
    "\n",
    "    'C': 10\n",
    "    'solver': 'newton-cg'"
   ]
  },
  {
   "cell_type": "code",
   "execution_count": 30,
   "metadata": {},
   "outputs": [
    {
     "name": "stdout",
     "output_type": "stream",
     "text": [
      "{'C': 10, 'solver': 'newton-cg'}\n",
      "CPU times: user 39min 58s, sys: 30.9 s, total: 40min 29s\n",
      "Wall time: 22min 46s\n"
     ]
    }
   ],
   "source": [
    "%%time\n",
    "fhalf_scorer = metrics.make_scorer(metrics.fbeta_score, beta = 0.5)\n",
    "grid = model_selection.GridSearchCV(linear_model.LogisticRegression(random_state = 2020), \n",
    "                                    param_grid = {'C': [1, 10, 100, 1000], \n",
    "                                                  'solver': ['liblinear', 'newton-cg', 'lbfgs', 'sag', 'saga']}, \n",
    "                                    scoring = fhalf_scorer, cv = 10)\n",
    "grid.fit(x_train, y_train)\n",
    "print(grid.best_params_)"
   ]
  },
  {
   "cell_type": "markdown",
   "metadata": {},
   "source": [
    "    {'C': 10, 'solver': 'newton-cg'}\n",
    "    CPU times: user 39min 58s, sys: 30.9 s, total: 40min 29s\n",
    "    Wall time: 22min 46s"
   ]
  },
  {
   "cell_type": "code",
   "execution_count": 11,
   "metadata": {},
   "outputs": [
    {
     "name": "stdout",
     "output_type": "stream",
     "text": [
      "      model precision    recall    F_beta       AUC\n",
      "0  logistic  0.709591  0.336463  0.456479  0.854925\n",
      "CPU times: user 22.5 s, sys: 588 ms, total: 23.1 s\n",
      "Wall time: 5.97 s\n"
     ]
    }
   ],
   "source": [
    "%%time\n",
    "# params = grid.best_params_\n",
    "# params_C = params['C']\n",
    "# params_solver = params['solver']\n",
    "params_C = 10\n",
    "params_solver = 'newton-cg'\n",
    "\n",
    "logit = linear_model.LogisticRegression(C = params_C, solver = params_solver)\n",
    "logit.fit(x_train, y_train)\n",
    "y_pred = logit.predict(x_test)\n",
    "y_pred_s = logit.predict_proba(x_test)[:,1]\n",
    "table = gen_table(table, 'logistic', y_test, y_pred, y_pred_s)\n",
    "print(table)"
   ]
  },
  {
   "cell_type": "markdown",
   "metadata": {},
   "source": [
    "### 1.2.2 Decision Tree\n",
    "Parameter setting:\n",
    "\n",
    "    default"
   ]
  },
  {
   "cell_type": "code",
   "execution_count": 12,
   "metadata": {},
   "outputs": [
    {
     "name": "stdout",
     "output_type": "stream",
     "text": [
      "      model precision    recall    F_beta       AUC\n",
      "0  logistic  0.709591  0.336463  0.456479  0.854925\n",
      "1        DT  0.649097  0.606941  0.627311  0.793089\n",
      "CPU times: user 7.05 s, sys: 78.7 ms, total: 7.13 s\n",
      "Wall time: 7.14 s\n"
     ]
    }
   ],
   "source": [
    "%%time\n",
    "DT = tree.DecisionTreeClassifier()\n",
    "DT.fit(x_train, y_train)\n",
    "y_pred = DT.predict(x_test)\n",
    "y_pred_s = DT.predict_proba(x_test)[:,1]\n",
    "table = gen_table(table, 'DT', y_test, y_pred, y_pred_s)\n",
    "print(table)"
   ]
  },
  {
   "cell_type": "markdown",
   "metadata": {},
   "source": [
    "### 1.2.3 Random Forest\n",
    "Parameter setting:\n",
    "\n",
    "    default"
   ]
  },
  {
   "cell_type": "code",
   "execution_count": null,
   "metadata": {},
   "outputs": [],
   "source": [
    "%%time\n",
    "fhalf_scorer = metrics.make_scorer(metrics.fbeta_score, beta = 0.5)\n",
    "grid = model_selection.GridSearchCV(ensemble.RandomForestClassifier(), \n",
    "                                    param_grid = {'max_features':['auto', 'sqrt', 'log2']}, \n",
    "                                    scoring = fhalf_scorer, cv = 5)\n",
    "grid.fit(x_train, y_train)\n",
    "print(grid.best_params_)"
   ]
  },
  {
   "cell_type": "code",
   "execution_count": null,
   "metadata": {},
   "outputs": [],
   "source": [
    "SVC = SVC(gamma='scale', class_weight='balanced')"
   ]
  },
  {
   "cell_type": "code",
   "execution_count": null,
   "metadata": {},
   "outputs": [],
   "source": [
    "SVC = SVC(gamma='scale', class_weight='balanced')\n",
    "fhalf_scorer = metrics.make_scorer(metrics.fbeta_score, beta = 0.5)\n",
    "param_grid = {\n",
    "        'kernel': [‘linear’, ‘poly’, ‘rbf’],\n",
    "        'C':[10, 100],\n",
    "        'max_iter':[20, 50, 100],\n",
    "        }\n",
    "grid = RandomizedSearchCV(SVC, param_grid, cv = 5, scoring = fhalf_scorer, n_iter = 20, n_jobs = -1)\n",
    "grid.fit(x_train, y_train)\n",
    "\n",
    "params = grid.best_params_\n",
    "params_kernel = params['kernel']\n",
    "params_C = params['C']\n",
    "params_max_iter = params['max_iter']\n",
    "\n",
    "SVC = SVC(kernel = params_kernel, C = params_C, max_iter = params_max_iter,\n",
    "          gamma='scale', class_weight='balanced')\n",
    "SVC.fit(x_train, y_train)\n",
    "y_pred = SVC.predict(x_test) #to get precision, recall...\n",
    "y_pred_s = SVC.predict_proba(x_test)[:,1] #to get AUC"
   ]
  },
  {
   "cell_type": "code",
   "execution_count": null,
   "metadata": {},
   "outputs": [],
   "source": [
    "params = grid.best_params_\n",
    "params_kernel = params['kernel']\n",
    "params_C = params['C']\n",
    "params_max_iter = params['max_iter']\n",
    "\n",
    "SVC = SVC(kernel = params_kernel, C = params_C, max_iter = params_max_iter,\n",
    "          gamma='scale', class_weight='balanced')\n",
    "SVC.fit(x_train, y_train)\n",
    "y_pred = SVC.predict(x_test) #to get precision, recall...\n",
    "y_pred_s = SVC.predict_proba(x_test)[:,1] #to get AUC"
   ]
  },
  {
   "cell_type": "markdown",
   "metadata": {},
   "source": [
    "    {'max_features': 'log2'}\n",
    "    CPU times: user 58min 45s, sys: 25.7 s, total: 59min 11s\n",
    "    Wall time: 59min 16s"
   ]
  },
  {
   "cell_type": "code",
   "execution_count": 13,
   "metadata": {},
   "outputs": [
    {
     "name": "stdout",
     "output_type": "stream",
     "text": [
      "      model precision    recall    F_beta       AUC\n",
      "0  logistic  0.709591  0.336463  0.456479  0.854925\n",
      "1        DT  0.649097  0.606941  0.627311  0.793089\n",
      "2        RF  0.679593  0.625024  0.651167  0.922701\n",
      "CPU times: user 4min 16s, sys: 2.7 s, total: 4min 19s\n",
      "Wall time: 4min 20s\n"
     ]
    }
   ],
   "source": [
    "%%time\n",
    "# params = grid.best_params_\n",
    "# params_max_features = params['max_features']\n",
    "\n",
    "RF = ensemble.RandomForestClassifier(max_features = 'log2')\n",
    "RF.fit(x_train, y_train)\n",
    "y_pred = RF.predict(x_test)\n",
    "y_pred_s = RF.predict_proba(x_test)[:,1]\n",
    "table = gen_table(table, 'RF', y_test, y_pred, y_pred_s)\n",
    "print(table)"
   ]
  },
  {
   "cell_type": "markdown",
   "metadata": {},
   "source": [
    "### 1.2.4 KNN"
   ]
  },
  {
   "cell_type": "code",
   "execution_count": 18,
   "metadata": {},
   "outputs": [],
   "source": [
    "from sklearn.neighbors import KNeighborsClassifier"
   ]
  },
  {
   "cell_type": "code",
   "execution_count": 21,
   "metadata": {},
   "outputs": [
    {
     "name": "stdout",
     "output_type": "stream",
     "text": [
      "               model precision    recall    F_beta       AUC\n",
      "0           logistic  0.709591  0.336463  0.456479  0.854925\n",
      "1                 DT  0.649097  0.606941  0.627311  0.793089\n",
      "2                 RF  0.679593  0.625024  0.651167  0.922701\n",
      "3   bagging-logistic  0.709628  0.336617  0.456628  0.854954\n",
      "4         bagging-DT  0.739342  0.671271  0.703664  0.938534\n",
      "5    boosting-Ada-DT   0.66146  0.617483  0.638715   0.87244\n",
      "6  boosting-Gradient  0.715461  0.749375  0.732025   0.96119\n",
      "7                KNN   0.59917  0.577661  0.588219  0.774524\n",
      "8                KNN  0.708381  0.637682  0.671175  0.899424\n",
      "CPU times: user 37min 43s, sys: 7.9 s, total: 37min 51s\n",
      "Wall time: 37min 53s\n"
     ]
    }
   ],
   "source": [
    "%%time\n",
    "knn = KNeighborsClassifier()\n",
    "knn.fit(x_train, y_train)\n",
    "y_pred = knn.predict(x_test)\n",
    "y_pred_s = knn.predict_proba(x_test)[:,1]\n",
    "table = gen_table(table, 'KNN', y_test, y_pred, y_pred_s)\n",
    "print(table)"
   ]
  },
  {
   "cell_type": "markdown",
   "metadata": {},
   "source": [
    "<a id='c'></a>\n",
    "## 1.3 Bagging\n",
    "    1. Logistic based bagging\n",
    "    2. Decision Tree based bagging\n",
    "    \n",
    "[back to contents list](#list)"
   ]
  },
  {
   "cell_type": "markdown",
   "metadata": {},
   "source": [
    "### 1.3.1 Logistc based bagging\n",
    "Parameter setting:\n",
    "\n",
    "    'C': 10\n",
    "    'solver': 'newton-cg'\n",
    "    'max_samples': 0.3\n",
    "    'n_estimators': 80"
   ]
  },
  {
   "cell_type": "code",
   "execution_count": 35,
   "metadata": {},
   "outputs": [
    {
     "name": "stderr",
     "output_type": "stream",
     "text": [
      "/Users/matt/opt/anaconda3/lib/python3.7/site-packages/sklearn/ensemble/_bagging.py:638: UserWarning: Some inputs do not have OOB scores. This probably means too few estimators were used to compute any reliable oob estimates.\n",
      "  warn(\"Some inputs do not have OOB scores. \"\n",
      "/Users/matt/opt/anaconda3/lib/python3.7/site-packages/sklearn/ensemble/_bagging.py:643: RuntimeWarning: invalid value encountered in true_divide\n",
      "  predictions.sum(axis=1)[:, np.newaxis])\n",
      "/Users/matt/opt/anaconda3/lib/python3.7/site-packages/sklearn/ensemble/_bagging.py:638: UserWarning: Some inputs do not have OOB scores. This probably means too few estimators were used to compute any reliable oob estimates.\n",
      "  warn(\"Some inputs do not have OOB scores. \"\n",
      "/Users/matt/opt/anaconda3/lib/python3.7/site-packages/sklearn/ensemble/_bagging.py:643: RuntimeWarning: invalid value encountered in true_divide\n",
      "  predictions.sum(axis=1)[:, np.newaxis])\n",
      "/Users/matt/opt/anaconda3/lib/python3.7/site-packages/sklearn/ensemble/_bagging.py:638: UserWarning: Some inputs do not have OOB scores. This probably means too few estimators were used to compute any reliable oob estimates.\n",
      "  warn(\"Some inputs do not have OOB scores. \"\n",
      "/Users/matt/opt/anaconda3/lib/python3.7/site-packages/sklearn/ensemble/_bagging.py:643: RuntimeWarning: invalid value encountered in true_divide\n",
      "  predictions.sum(axis=1)[:, np.newaxis])\n",
      "/Users/matt/opt/anaconda3/lib/python3.7/site-packages/sklearn/ensemble/_bagging.py:638: UserWarning: Some inputs do not have OOB scores. This probably means too few estimators were used to compute any reliable oob estimates.\n",
      "  warn(\"Some inputs do not have OOB scores. \"\n",
      "/Users/matt/opt/anaconda3/lib/python3.7/site-packages/sklearn/ensemble/_bagging.py:643: RuntimeWarning: invalid value encountered in true_divide\n",
      "  predictions.sum(axis=1)[:, np.newaxis])\n",
      "/Users/matt/opt/anaconda3/lib/python3.7/site-packages/sklearn/ensemble/_bagging.py:638: UserWarning: Some inputs do not have OOB scores. This probably means too few estimators were used to compute any reliable oob estimates.\n",
      "  warn(\"Some inputs do not have OOB scores. \"\n",
      "/Users/matt/opt/anaconda3/lib/python3.7/site-packages/sklearn/ensemble/_bagging.py:643: RuntimeWarning: invalid value encountered in true_divide\n",
      "  predictions.sum(axis=1)[:, np.newaxis])\n",
      "/Users/matt/opt/anaconda3/lib/python3.7/site-packages/sklearn/ensemble/_bagging.py:638: UserWarning: Some inputs do not have OOB scores. This probably means too few estimators were used to compute any reliable oob estimates.\n",
      "  warn(\"Some inputs do not have OOB scores. \"\n",
      "/Users/matt/opt/anaconda3/lib/python3.7/site-packages/sklearn/ensemble/_bagging.py:643: RuntimeWarning: invalid value encountered in true_divide\n",
      "  predictions.sum(axis=1)[:, np.newaxis])\n",
      "/Users/matt/opt/anaconda3/lib/python3.7/site-packages/sklearn/ensemble/_bagging.py:638: UserWarning: Some inputs do not have OOB scores. This probably means too few estimators were used to compute any reliable oob estimates.\n",
      "  warn(\"Some inputs do not have OOB scores. \"\n",
      "/Users/matt/opt/anaconda3/lib/python3.7/site-packages/sklearn/ensemble/_bagging.py:643: RuntimeWarning: invalid value encountered in true_divide\n",
      "  predictions.sum(axis=1)[:, np.newaxis])\n",
      "/Users/matt/opt/anaconda3/lib/python3.7/site-packages/sklearn/ensemble/_bagging.py:638: UserWarning: Some inputs do not have OOB scores. This probably means too few estimators were used to compute any reliable oob estimates.\n",
      "  warn(\"Some inputs do not have OOB scores. \"\n",
      "/Users/matt/opt/anaconda3/lib/python3.7/site-packages/sklearn/ensemble/_bagging.py:643: RuntimeWarning: invalid value encountered in true_divide\n",
      "  predictions.sum(axis=1)[:, np.newaxis])\n",
      "/Users/matt/opt/anaconda3/lib/python3.7/site-packages/sklearn/ensemble/_bagging.py:638: UserWarning: Some inputs do not have OOB scores. This probably means too few estimators were used to compute any reliable oob estimates.\n",
      "  warn(\"Some inputs do not have OOB scores. \"\n",
      "/Users/matt/opt/anaconda3/lib/python3.7/site-packages/sklearn/ensemble/_bagging.py:643: RuntimeWarning: invalid value encountered in true_divide\n",
      "  predictions.sum(axis=1)[:, np.newaxis])\n",
      "/Users/matt/opt/anaconda3/lib/python3.7/site-packages/sklearn/ensemble/_bagging.py:638: UserWarning: Some inputs do not have OOB scores. This probably means too few estimators were used to compute any reliable oob estimates.\n",
      "  warn(\"Some inputs do not have OOB scores. \"\n",
      "/Users/matt/opt/anaconda3/lib/python3.7/site-packages/sklearn/ensemble/_bagging.py:643: RuntimeWarning: invalid value encountered in true_divide\n",
      "  predictions.sum(axis=1)[:, np.newaxis])\n",
      "/Users/matt/opt/anaconda3/lib/python3.7/site-packages/sklearn/ensemble/_bagging.py:638: UserWarning: Some inputs do not have OOB scores. This probably means too few estimators were used to compute any reliable oob estimates.\n",
      "  warn(\"Some inputs do not have OOB scores. \"\n",
      "/Users/matt/opt/anaconda3/lib/python3.7/site-packages/sklearn/ensemble/_bagging.py:643: RuntimeWarning: invalid value encountered in true_divide\n",
      "  predictions.sum(axis=1)[:, np.newaxis])\n",
      "/Users/matt/opt/anaconda3/lib/python3.7/site-packages/sklearn/ensemble/_bagging.py:638: UserWarning: Some inputs do not have OOB scores. This probably means too few estimators were used to compute any reliable oob estimates.\n",
      "  warn(\"Some inputs do not have OOB scores. \"\n",
      "/Users/matt/opt/anaconda3/lib/python3.7/site-packages/sklearn/ensemble/_bagging.py:643: RuntimeWarning: invalid value encountered in true_divide\n",
      "  predictions.sum(axis=1)[:, np.newaxis])\n",
      "/Users/matt/opt/anaconda3/lib/python3.7/site-packages/sklearn/ensemble/_bagging.py:638: UserWarning: Some inputs do not have OOB scores. This probably means too few estimators were used to compute any reliable oob estimates.\n",
      "  warn(\"Some inputs do not have OOB scores. \"\n",
      "/Users/matt/opt/anaconda3/lib/python3.7/site-packages/sklearn/ensemble/_bagging.py:643: RuntimeWarning: invalid value encountered in true_divide\n",
      "  predictions.sum(axis=1)[:, np.newaxis])\n",
      "/Users/matt/opt/anaconda3/lib/python3.7/site-packages/sklearn/ensemble/_bagging.py:638: UserWarning: Some inputs do not have OOB scores. This probably means too few estimators were used to compute any reliable oob estimates.\n",
      "  warn(\"Some inputs do not have OOB scores. \"\n",
      "/Users/matt/opt/anaconda3/lib/python3.7/site-packages/sklearn/ensemble/_bagging.py:643: RuntimeWarning: invalid value encountered in true_divide\n",
      "  predictions.sum(axis=1)[:, np.newaxis])\n",
      "/Users/matt/opt/anaconda3/lib/python3.7/site-packages/sklearn/ensemble/_bagging.py:638: UserWarning: Some inputs do not have OOB scores. This probably means too few estimators were used to compute any reliable oob estimates.\n",
      "  warn(\"Some inputs do not have OOB scores. \"\n",
      "/Users/matt/opt/anaconda3/lib/python3.7/site-packages/sklearn/ensemble/_bagging.py:643: RuntimeWarning: invalid value encountered in true_divide\n",
      "  predictions.sum(axis=1)[:, np.newaxis])\n",
      "/Users/matt/opt/anaconda3/lib/python3.7/site-packages/sklearn/ensemble/_bagging.py:638: UserWarning: Some inputs do not have OOB scores. This probably means too few estimators were used to compute any reliable oob estimates.\n",
      "  warn(\"Some inputs do not have OOB scores. \"\n",
      "/Users/matt/opt/anaconda3/lib/python3.7/site-packages/sklearn/ensemble/_bagging.py:643: RuntimeWarning: invalid value encountered in true_divide\n",
      "  predictions.sum(axis=1)[:, np.newaxis])\n",
      "/Users/matt/opt/anaconda3/lib/python3.7/site-packages/sklearn/ensemble/_bagging.py:638: UserWarning: Some inputs do not have OOB scores. This probably means too few estimators were used to compute any reliable oob estimates.\n",
      "  warn(\"Some inputs do not have OOB scores. \"\n",
      "/Users/matt/opt/anaconda3/lib/python3.7/site-packages/sklearn/ensemble/_bagging.py:643: RuntimeWarning: invalid value encountered in true_divide\n",
      "  predictions.sum(axis=1)[:, np.newaxis])\n",
      "/Users/matt/opt/anaconda3/lib/python3.7/site-packages/sklearn/ensemble/_bagging.py:638: UserWarning: Some inputs do not have OOB scores. This probably means too few estimators were used to compute any reliable oob estimates.\n",
      "  warn(\"Some inputs do not have OOB scores. \"\n",
      "/Users/matt/opt/anaconda3/lib/python3.7/site-packages/sklearn/ensemble/_bagging.py:643: RuntimeWarning: invalid value encountered in true_divide\n",
      "  predictions.sum(axis=1)[:, np.newaxis])\n"
     ]
    },
    {
     "name": "stderr",
     "output_type": "stream",
     "text": [
      "/Users/matt/opt/anaconda3/lib/python3.7/site-packages/sklearn/ensemble/_bagging.py:638: UserWarning: Some inputs do not have OOB scores. This probably means too few estimators were used to compute any reliable oob estimates.\n",
      "  warn(\"Some inputs do not have OOB scores. \"\n",
      "/Users/matt/opt/anaconda3/lib/python3.7/site-packages/sklearn/ensemble/_bagging.py:643: RuntimeWarning: invalid value encountered in true_divide\n",
      "  predictions.sum(axis=1)[:, np.newaxis])\n",
      "/Users/matt/opt/anaconda3/lib/python3.7/site-packages/sklearn/ensemble/_bagging.py:638: UserWarning: Some inputs do not have OOB scores. This probably means too few estimators were used to compute any reliable oob estimates.\n",
      "  warn(\"Some inputs do not have OOB scores. \"\n",
      "/Users/matt/opt/anaconda3/lib/python3.7/site-packages/sklearn/ensemble/_bagging.py:643: RuntimeWarning: invalid value encountered in true_divide\n",
      "  predictions.sum(axis=1)[:, np.newaxis])\n",
      "/Users/matt/opt/anaconda3/lib/python3.7/site-packages/sklearn/ensemble/_bagging.py:638: UserWarning: Some inputs do not have OOB scores. This probably means too few estimators were used to compute any reliable oob estimates.\n",
      "  warn(\"Some inputs do not have OOB scores. \"\n",
      "/Users/matt/opt/anaconda3/lib/python3.7/site-packages/sklearn/ensemble/_bagging.py:643: RuntimeWarning: invalid value encountered in true_divide\n",
      "  predictions.sum(axis=1)[:, np.newaxis])\n",
      "/Users/matt/opt/anaconda3/lib/python3.7/site-packages/sklearn/ensemble/_bagging.py:638: UserWarning: Some inputs do not have OOB scores. This probably means too few estimators were used to compute any reliable oob estimates.\n",
      "  warn(\"Some inputs do not have OOB scores. \"\n",
      "/Users/matt/opt/anaconda3/lib/python3.7/site-packages/sklearn/ensemble/_bagging.py:643: RuntimeWarning: invalid value encountered in true_divide\n",
      "  predictions.sum(axis=1)[:, np.newaxis])\n",
      "/Users/matt/opt/anaconda3/lib/python3.7/site-packages/sklearn/ensemble/_bagging.py:638: UserWarning: Some inputs do not have OOB scores. This probably means too few estimators were used to compute any reliable oob estimates.\n",
      "  warn(\"Some inputs do not have OOB scores. \"\n",
      "/Users/matt/opt/anaconda3/lib/python3.7/site-packages/sklearn/ensemble/_bagging.py:643: RuntimeWarning: invalid value encountered in true_divide\n",
      "  predictions.sum(axis=1)[:, np.newaxis])\n",
      "/Users/matt/opt/anaconda3/lib/python3.7/site-packages/sklearn/ensemble/_bagging.py:638: UserWarning: Some inputs do not have OOB scores. This probably means too few estimators were used to compute any reliable oob estimates.\n",
      "  warn(\"Some inputs do not have OOB scores. \"\n",
      "/Users/matt/opt/anaconda3/lib/python3.7/site-packages/sklearn/ensemble/_bagging.py:643: RuntimeWarning: invalid value encountered in true_divide\n",
      "  predictions.sum(axis=1)[:, np.newaxis])\n",
      "/Users/matt/opt/anaconda3/lib/python3.7/site-packages/sklearn/ensemble/_bagging.py:638: UserWarning: Some inputs do not have OOB scores. This probably means too few estimators were used to compute any reliable oob estimates.\n",
      "  warn(\"Some inputs do not have OOB scores. \"\n",
      "/Users/matt/opt/anaconda3/lib/python3.7/site-packages/sklearn/ensemble/_bagging.py:643: RuntimeWarning: invalid value encountered in true_divide\n",
      "  predictions.sum(axis=1)[:, np.newaxis])\n",
      "/Users/matt/opt/anaconda3/lib/python3.7/site-packages/sklearn/ensemble/_bagging.py:638: UserWarning: Some inputs do not have OOB scores. This probably means too few estimators were used to compute any reliable oob estimates.\n",
      "  warn(\"Some inputs do not have OOB scores. \"\n",
      "/Users/matt/opt/anaconda3/lib/python3.7/site-packages/sklearn/ensemble/_bagging.py:643: RuntimeWarning: invalid value encountered in true_divide\n",
      "  predictions.sum(axis=1)[:, np.newaxis])\n",
      "/Users/matt/opt/anaconda3/lib/python3.7/site-packages/sklearn/ensemble/_bagging.py:638: UserWarning: Some inputs do not have OOB scores. This probably means too few estimators were used to compute any reliable oob estimates.\n",
      "  warn(\"Some inputs do not have OOB scores. \"\n",
      "/Users/matt/opt/anaconda3/lib/python3.7/site-packages/sklearn/ensemble/_bagging.py:643: RuntimeWarning: invalid value encountered in true_divide\n",
      "  predictions.sum(axis=1)[:, np.newaxis])\n",
      "/Users/matt/opt/anaconda3/lib/python3.7/site-packages/sklearn/ensemble/_bagging.py:638: UserWarning: Some inputs do not have OOB scores. This probably means too few estimators were used to compute any reliable oob estimates.\n",
      "  warn(\"Some inputs do not have OOB scores. \"\n",
      "/Users/matt/opt/anaconda3/lib/python3.7/site-packages/sklearn/ensemble/_bagging.py:643: RuntimeWarning: invalid value encountered in true_divide\n",
      "  predictions.sum(axis=1)[:, np.newaxis])\n",
      "/Users/matt/opt/anaconda3/lib/python3.7/site-packages/sklearn/ensemble/_bagging.py:638: UserWarning: Some inputs do not have OOB scores. This probably means too few estimators were used to compute any reliable oob estimates.\n",
      "  warn(\"Some inputs do not have OOB scores. \"\n",
      "/Users/matt/opt/anaconda3/lib/python3.7/site-packages/sklearn/ensemble/_bagging.py:643: RuntimeWarning: invalid value encountered in true_divide\n",
      "  predictions.sum(axis=1)[:, np.newaxis])\n",
      "/Users/matt/opt/anaconda3/lib/python3.7/site-packages/sklearn/ensemble/_bagging.py:638: UserWarning: Some inputs do not have OOB scores. This probably means too few estimators were used to compute any reliable oob estimates.\n",
      "  warn(\"Some inputs do not have OOB scores. \"\n",
      "/Users/matt/opt/anaconda3/lib/python3.7/site-packages/sklearn/ensemble/_bagging.py:643: RuntimeWarning: invalid value encountered in true_divide\n",
      "  predictions.sum(axis=1)[:, np.newaxis])\n",
      "/Users/matt/opt/anaconda3/lib/python3.7/site-packages/sklearn/ensemble/_bagging.py:638: UserWarning: Some inputs do not have OOB scores. This probably means too few estimators were used to compute any reliable oob estimates.\n",
      "  warn(\"Some inputs do not have OOB scores. \"\n",
      "/Users/matt/opt/anaconda3/lib/python3.7/site-packages/sklearn/ensemble/_bagging.py:643: RuntimeWarning: invalid value encountered in true_divide\n",
      "  predictions.sum(axis=1)[:, np.newaxis])\n",
      "/Users/matt/opt/anaconda3/lib/python3.7/site-packages/sklearn/ensemble/_bagging.py:638: UserWarning: Some inputs do not have OOB scores. This probably means too few estimators were used to compute any reliable oob estimates.\n",
      "  warn(\"Some inputs do not have OOB scores. \"\n",
      "/Users/matt/opt/anaconda3/lib/python3.7/site-packages/sklearn/ensemble/_bagging.py:643: RuntimeWarning: invalid value encountered in true_divide\n",
      "  predictions.sum(axis=1)[:, np.newaxis])\n",
      "/Users/matt/opt/anaconda3/lib/python3.7/site-packages/sklearn/ensemble/_bagging.py:638: UserWarning: Some inputs do not have OOB scores. This probably means too few estimators were used to compute any reliable oob estimates.\n",
      "  warn(\"Some inputs do not have OOB scores. \"\n",
      "/Users/matt/opt/anaconda3/lib/python3.7/site-packages/sklearn/ensemble/_bagging.py:643: RuntimeWarning: invalid value encountered in true_divide\n",
      "  predictions.sum(axis=1)[:, np.newaxis])\n",
      "/Users/matt/opt/anaconda3/lib/python3.7/site-packages/sklearn/ensemble/_bagging.py:638: UserWarning: Some inputs do not have OOB scores. This probably means too few estimators were used to compute any reliable oob estimates.\n",
      "  warn(\"Some inputs do not have OOB scores. \"\n",
      "/Users/matt/opt/anaconda3/lib/python3.7/site-packages/sklearn/ensemble/_bagging.py:643: RuntimeWarning: invalid value encountered in true_divide\n",
      "  predictions.sum(axis=1)[:, np.newaxis])\n",
      "/Users/matt/opt/anaconda3/lib/python3.7/site-packages/sklearn/ensemble/_bagging.py:638: UserWarning: Some inputs do not have OOB scores. This probably means too few estimators were used to compute any reliable oob estimates.\n",
      "  warn(\"Some inputs do not have OOB scores. \"\n",
      "/Users/matt/opt/anaconda3/lib/python3.7/site-packages/sklearn/ensemble/_bagging.py:643: RuntimeWarning: invalid value encountered in true_divide\n",
      "  predictions.sum(axis=1)[:, np.newaxis])\n",
      "/Users/matt/opt/anaconda3/lib/python3.7/site-packages/sklearn/ensemble/_bagging.py:638: UserWarning: Some inputs do not have OOB scores. This probably means too few estimators were used to compute any reliable oob estimates.\n",
      "  warn(\"Some inputs do not have OOB scores. \"\n",
      "/Users/matt/opt/anaconda3/lib/python3.7/site-packages/sklearn/ensemble/_bagging.py:643: RuntimeWarning: invalid value encountered in true_divide\n",
      "  predictions.sum(axis=1)[:, np.newaxis])\n"
     ]
    },
    {
     "name": "stderr",
     "output_type": "stream",
     "text": [
      "/Users/matt/opt/anaconda3/lib/python3.7/site-packages/sklearn/ensemble/_bagging.py:638: UserWarning: Some inputs do not have OOB scores. This probably means too few estimators were used to compute any reliable oob estimates.\n",
      "  warn(\"Some inputs do not have OOB scores. \"\n",
      "/Users/matt/opt/anaconda3/lib/python3.7/site-packages/sklearn/ensemble/_bagging.py:643: RuntimeWarning: invalid value encountered in true_divide\n",
      "  predictions.sum(axis=1)[:, np.newaxis])\n",
      "/Users/matt/opt/anaconda3/lib/python3.7/site-packages/sklearn/ensemble/_bagging.py:638: UserWarning: Some inputs do not have OOB scores. This probably means too few estimators were used to compute any reliable oob estimates.\n",
      "  warn(\"Some inputs do not have OOB scores. \"\n",
      "/Users/matt/opt/anaconda3/lib/python3.7/site-packages/sklearn/ensemble/_bagging.py:643: RuntimeWarning: invalid value encountered in true_divide\n",
      "  predictions.sum(axis=1)[:, np.newaxis])\n",
      "/Users/matt/opt/anaconda3/lib/python3.7/site-packages/sklearn/ensemble/_bagging.py:638: UserWarning: Some inputs do not have OOB scores. This probably means too few estimators were used to compute any reliable oob estimates.\n",
      "  warn(\"Some inputs do not have OOB scores. \"\n",
      "/Users/matt/opt/anaconda3/lib/python3.7/site-packages/sklearn/ensemble/_bagging.py:643: RuntimeWarning: invalid value encountered in true_divide\n",
      "  predictions.sum(axis=1)[:, np.newaxis])\n",
      "/Users/matt/opt/anaconda3/lib/python3.7/site-packages/sklearn/ensemble/_bagging.py:638: UserWarning: Some inputs do not have OOB scores. This probably means too few estimators were used to compute any reliable oob estimates.\n",
      "  warn(\"Some inputs do not have OOB scores. \"\n",
      "/Users/matt/opt/anaconda3/lib/python3.7/site-packages/sklearn/ensemble/_bagging.py:643: RuntimeWarning: invalid value encountered in true_divide\n",
      "  predictions.sum(axis=1)[:, np.newaxis])\n",
      "/Users/matt/opt/anaconda3/lib/python3.7/site-packages/sklearn/ensemble/_bagging.py:638: UserWarning: Some inputs do not have OOB scores. This probably means too few estimators were used to compute any reliable oob estimates.\n",
      "  warn(\"Some inputs do not have OOB scores. \"\n",
      "/Users/matt/opt/anaconda3/lib/python3.7/site-packages/sklearn/ensemble/_bagging.py:643: RuntimeWarning: invalid value encountered in true_divide\n",
      "  predictions.sum(axis=1)[:, np.newaxis])\n",
      "/Users/matt/opt/anaconda3/lib/python3.7/site-packages/sklearn/ensemble/_bagging.py:638: UserWarning: Some inputs do not have OOB scores. This probably means too few estimators were used to compute any reliable oob estimates.\n",
      "  warn(\"Some inputs do not have OOB scores. \"\n",
      "/Users/matt/opt/anaconda3/lib/python3.7/site-packages/sklearn/ensemble/_bagging.py:643: RuntimeWarning: invalid value encountered in true_divide\n",
      "  predictions.sum(axis=1)[:, np.newaxis])\n",
      "/Users/matt/opt/anaconda3/lib/python3.7/site-packages/sklearn/ensemble/_bagging.py:638: UserWarning: Some inputs do not have OOB scores. This probably means too few estimators were used to compute any reliable oob estimates.\n",
      "  warn(\"Some inputs do not have OOB scores. \"\n",
      "/Users/matt/opt/anaconda3/lib/python3.7/site-packages/sklearn/ensemble/_bagging.py:643: RuntimeWarning: invalid value encountered in true_divide\n",
      "  predictions.sum(axis=1)[:, np.newaxis])\n",
      "/Users/matt/opt/anaconda3/lib/python3.7/site-packages/sklearn/ensemble/_bagging.py:638: UserWarning: Some inputs do not have OOB scores. This probably means too few estimators were used to compute any reliable oob estimates.\n",
      "  warn(\"Some inputs do not have OOB scores. \"\n",
      "/Users/matt/opt/anaconda3/lib/python3.7/site-packages/sklearn/ensemble/_bagging.py:643: RuntimeWarning: invalid value encountered in true_divide\n",
      "  predictions.sum(axis=1)[:, np.newaxis])\n",
      "/Users/matt/opt/anaconda3/lib/python3.7/site-packages/sklearn/ensemble/_bagging.py:638: UserWarning: Some inputs do not have OOB scores. This probably means too few estimators were used to compute any reliable oob estimates.\n",
      "  warn(\"Some inputs do not have OOB scores. \"\n",
      "/Users/matt/opt/anaconda3/lib/python3.7/site-packages/sklearn/ensemble/_bagging.py:643: RuntimeWarning: invalid value encountered in true_divide\n",
      "  predictions.sum(axis=1)[:, np.newaxis])\n",
      "/Users/matt/opt/anaconda3/lib/python3.7/site-packages/sklearn/ensemble/_bagging.py:638: UserWarning: Some inputs do not have OOB scores. This probably means too few estimators were used to compute any reliable oob estimates.\n",
      "  warn(\"Some inputs do not have OOB scores. \"\n",
      "/Users/matt/opt/anaconda3/lib/python3.7/site-packages/sklearn/ensemble/_bagging.py:643: RuntimeWarning: invalid value encountered in true_divide\n",
      "  predictions.sum(axis=1)[:, np.newaxis])\n",
      "/Users/matt/opt/anaconda3/lib/python3.7/site-packages/sklearn/ensemble/_bagging.py:638: UserWarning: Some inputs do not have OOB scores. This probably means too few estimators were used to compute any reliable oob estimates.\n",
      "  warn(\"Some inputs do not have OOB scores. \"\n",
      "/Users/matt/opt/anaconda3/lib/python3.7/site-packages/sklearn/ensemble/_bagging.py:643: RuntimeWarning: invalid value encountered in true_divide\n",
      "  predictions.sum(axis=1)[:, np.newaxis])\n",
      "/Users/matt/opt/anaconda3/lib/python3.7/site-packages/sklearn/ensemble/_bagging.py:638: UserWarning: Some inputs do not have OOB scores. This probably means too few estimators were used to compute any reliable oob estimates.\n",
      "  warn(\"Some inputs do not have OOB scores. \"\n",
      "/Users/matt/opt/anaconda3/lib/python3.7/site-packages/sklearn/ensemble/_bagging.py:643: RuntimeWarning: invalid value encountered in true_divide\n",
      "  predictions.sum(axis=1)[:, np.newaxis])\n",
      "/Users/matt/opt/anaconda3/lib/python3.7/site-packages/sklearn/ensemble/_bagging.py:638: UserWarning: Some inputs do not have OOB scores. This probably means too few estimators were used to compute any reliable oob estimates.\n",
      "  warn(\"Some inputs do not have OOB scores. \"\n",
      "/Users/matt/opt/anaconda3/lib/python3.7/site-packages/sklearn/ensemble/_bagging.py:643: RuntimeWarning: invalid value encountered in true_divide\n",
      "  predictions.sum(axis=1)[:, np.newaxis])\n",
      "/Users/matt/opt/anaconda3/lib/python3.7/site-packages/sklearn/ensemble/_bagging.py:638: UserWarning: Some inputs do not have OOB scores. This probably means too few estimators were used to compute any reliable oob estimates.\n",
      "  warn(\"Some inputs do not have OOB scores. \"\n",
      "/Users/matt/opt/anaconda3/lib/python3.7/site-packages/sklearn/ensemble/_bagging.py:643: RuntimeWarning: invalid value encountered in true_divide\n",
      "  predictions.sum(axis=1)[:, np.newaxis])\n",
      "/Users/matt/opt/anaconda3/lib/python3.7/site-packages/sklearn/ensemble/_bagging.py:638: UserWarning: Some inputs do not have OOB scores. This probably means too few estimators were used to compute any reliable oob estimates.\n",
      "  warn(\"Some inputs do not have OOB scores. \"\n",
      "/Users/matt/opt/anaconda3/lib/python3.7/site-packages/sklearn/ensemble/_bagging.py:643: RuntimeWarning: invalid value encountered in true_divide\n",
      "  predictions.sum(axis=1)[:, np.newaxis])\n",
      "/Users/matt/opt/anaconda3/lib/python3.7/site-packages/sklearn/ensemble/_bagging.py:638: UserWarning: Some inputs do not have OOB scores. This probably means too few estimators were used to compute any reliable oob estimates.\n",
      "  warn(\"Some inputs do not have OOB scores. \"\n",
      "/Users/matt/opt/anaconda3/lib/python3.7/site-packages/sklearn/ensemble/_bagging.py:643: RuntimeWarning: invalid value encountered in true_divide\n",
      "  predictions.sum(axis=1)[:, np.newaxis])\n",
      "/Users/matt/opt/anaconda3/lib/python3.7/site-packages/sklearn/ensemble/_bagging.py:638: UserWarning: Some inputs do not have OOB scores. This probably means too few estimators were used to compute any reliable oob estimates.\n",
      "  warn(\"Some inputs do not have OOB scores. \"\n",
      "/Users/matt/opt/anaconda3/lib/python3.7/site-packages/sklearn/ensemble/_bagging.py:643: RuntimeWarning: invalid value encountered in true_divide\n",
      "  predictions.sum(axis=1)[:, np.newaxis])\n",
      "/Users/matt/opt/anaconda3/lib/python3.7/site-packages/sklearn/ensemble/_bagging.py:638: UserWarning: Some inputs do not have OOB scores. This probably means too few estimators were used to compute any reliable oob estimates.\n",
      "  warn(\"Some inputs do not have OOB scores. \"\n",
      "/Users/matt/opt/anaconda3/lib/python3.7/site-packages/sklearn/ensemble/_bagging.py:643: RuntimeWarning: invalid value encountered in true_divide\n",
      "  predictions.sum(axis=1)[:, np.newaxis])\n"
     ]
    },
    {
     "name": "stderr",
     "output_type": "stream",
     "text": [
      "/Users/matt/opt/anaconda3/lib/python3.7/site-packages/sklearn/ensemble/_bagging.py:638: UserWarning: Some inputs do not have OOB scores. This probably means too few estimators were used to compute any reliable oob estimates.\n",
      "  warn(\"Some inputs do not have OOB scores. \"\n",
      "/Users/matt/opt/anaconda3/lib/python3.7/site-packages/sklearn/ensemble/_bagging.py:643: RuntimeWarning: invalid value encountered in true_divide\n",
      "  predictions.sum(axis=1)[:, np.newaxis])\n",
      "/Users/matt/opt/anaconda3/lib/python3.7/site-packages/sklearn/ensemble/_bagging.py:638: UserWarning: Some inputs do not have OOB scores. This probably means too few estimators were used to compute any reliable oob estimates.\n",
      "  warn(\"Some inputs do not have OOB scores. \"\n",
      "/Users/matt/opt/anaconda3/lib/python3.7/site-packages/sklearn/ensemble/_bagging.py:643: RuntimeWarning: invalid value encountered in true_divide\n",
      "  predictions.sum(axis=1)[:, np.newaxis])\n",
      "/Users/matt/opt/anaconda3/lib/python3.7/site-packages/sklearn/ensemble/_bagging.py:638: UserWarning: Some inputs do not have OOB scores. This probably means too few estimators were used to compute any reliable oob estimates.\n",
      "  warn(\"Some inputs do not have OOB scores. \"\n",
      "/Users/matt/opt/anaconda3/lib/python3.7/site-packages/sklearn/ensemble/_bagging.py:643: RuntimeWarning: invalid value encountered in true_divide\n",
      "  predictions.sum(axis=1)[:, np.newaxis])\n",
      "/Users/matt/opt/anaconda3/lib/python3.7/site-packages/sklearn/ensemble/_bagging.py:638: UserWarning: Some inputs do not have OOB scores. This probably means too few estimators were used to compute any reliable oob estimates.\n",
      "  warn(\"Some inputs do not have OOB scores. \"\n",
      "/Users/matt/opt/anaconda3/lib/python3.7/site-packages/sklearn/ensemble/_bagging.py:643: RuntimeWarning: invalid value encountered in true_divide\n",
      "  predictions.sum(axis=1)[:, np.newaxis])\n",
      "/Users/matt/opt/anaconda3/lib/python3.7/site-packages/sklearn/ensemble/_bagging.py:638: UserWarning: Some inputs do not have OOB scores. This probably means too few estimators were used to compute any reliable oob estimates.\n",
      "  warn(\"Some inputs do not have OOB scores. \"\n",
      "/Users/matt/opt/anaconda3/lib/python3.7/site-packages/sklearn/ensemble/_bagging.py:643: RuntimeWarning: invalid value encountered in true_divide\n",
      "  predictions.sum(axis=1)[:, np.newaxis])\n",
      "/Users/matt/opt/anaconda3/lib/python3.7/site-packages/sklearn/ensemble/_bagging.py:638: UserWarning: Some inputs do not have OOB scores. This probably means too few estimators were used to compute any reliable oob estimates.\n",
      "  warn(\"Some inputs do not have OOB scores. \"\n",
      "/Users/matt/opt/anaconda3/lib/python3.7/site-packages/sklearn/ensemble/_bagging.py:643: RuntimeWarning: invalid value encountered in true_divide\n",
      "  predictions.sum(axis=1)[:, np.newaxis])\n"
     ]
    },
    {
     "name": "stdout",
     "output_type": "stream",
     "text": [
      "{'max_samples': 0.3, 'n_estimators': 80}\n",
      "CPU times: user 1h 29min 25s, sys: 3min 26s, total: 1h 32min 52s\n",
      "Wall time: 7h 57min 44s\n"
     ]
    }
   ],
   "source": [
    "%%time\n",
    "bagging_logistic = ensemble.BaggingClassifier(logit, \n",
    "                                              max_features = 1.0, \n",
    "                                              oob_score = True, \n",
    "                                              random_state = 2020, \n",
    "                                              n_jobs = -1)\n",
    "\n",
    "fhalf_scorer = metrics.make_scorer(metrics.fbeta_score, beta = 0.5)\n",
    "grid2 = model_selection.GridSearchCV(bagging_logistic, \n",
    "                                     param_grid = {'n_estimators': [10, 20, 50, 80, 100], \n",
    "                                                   'max_samples':[0.3,0.5,0.7,0.8]}, \n",
    "                                     scoring = fhalf_scorer, cv = 10)\n",
    "grid2.fit(x_train, y_train)\n",
    "print(grid2.best_params_)"
   ]
  },
  {
   "cell_type": "markdown",
   "metadata": {},
   "source": [
    "    {'max_samples': 0.3, 'n_estimators': 80}\n",
    "    CPU times: user 1h 29min 25s, sys: 3min 26s, total: 1h 32min 52s\n",
    "    Wall time: 7h 57min 44s"
   ]
  },
  {
   "cell_type": "code",
   "execution_count": 14,
   "metadata": {},
   "outputs": [
    {
     "name": "stdout",
     "output_type": "stream",
     "text": [
      "              model precision    recall    F_beta       AUC\n",
      "0          logistic  0.709591  0.336463  0.456479  0.854925\n",
      "1                DT  0.649097  0.606941  0.627311  0.793089\n",
      "2                RF  0.679593  0.625024  0.651167  0.922701\n",
      "3  bagging-logistic  0.709628  0.336617  0.456628  0.854954\n",
      "CPU times: user 57 s, sys: 3.03 s, total: 60 s\n",
      "Wall time: 4min 23s\n"
     ]
    }
   ],
   "source": [
    "%%time\n",
    "# params = grid2.best_params_\n",
    "# params_n_estimators = params['n_estimators']\n",
    "# params_max_samples = params['max_samples']\n",
    "params_n_estimators = 80\n",
    "params_max_samples = 0.3\n",
    "\n",
    "best_bagging_logistic = ensemble.BaggingClassifier(logit, max_features = 1.0, \n",
    "                                                   max_samples = params_max_samples, \n",
    "                                                   n_estimators = params_n_estimators, \n",
    "                                                   oob_score = True, n_jobs = -1)\n",
    "best_bagging_logistic.fit(x_train, y_train)\n",
    "y_pred = best_bagging_logistic.predict(x_test)\n",
    "y_pred_s = best_bagging_logistic.predict_proba(x_test)[:,1]\n",
    "table = gen_table(table, 'bagging-logistic', y_test, y_pred, y_pred_s)\n",
    "print(table)"
   ]
  },
  {
   "cell_type": "markdown",
   "metadata": {},
   "source": [
    "### 1.3.2 Decision Tree based bagging\n",
    "Parameter setting:\n",
    "\n",
    "    'max_samples': 0.3\n",
    "    'n_estimators': 100"
   ]
  },
  {
   "cell_type": "code",
   "execution_count": 37,
   "metadata": {},
   "outputs": [
    {
     "name": "stderr",
     "output_type": "stream",
     "text": [
      "/Users/matt/opt/anaconda3/lib/python3.7/site-packages/sklearn/ensemble/_bagging.py:638: UserWarning: Some inputs do not have OOB scores. This probably means too few estimators were used to compute any reliable oob estimates.\n",
      "  warn(\"Some inputs do not have OOB scores. \"\n",
      "/Users/matt/opt/anaconda3/lib/python3.7/site-packages/sklearn/ensemble/_bagging.py:643: RuntimeWarning: invalid value encountered in true_divide\n",
      "  predictions.sum(axis=1)[:, np.newaxis])\n",
      "/Users/matt/opt/anaconda3/lib/python3.7/site-packages/sklearn/ensemble/_bagging.py:638: UserWarning: Some inputs do not have OOB scores. This probably means too few estimators were used to compute any reliable oob estimates.\n",
      "  warn(\"Some inputs do not have OOB scores. \"\n",
      "/Users/matt/opt/anaconda3/lib/python3.7/site-packages/sklearn/ensemble/_bagging.py:643: RuntimeWarning: invalid value encountered in true_divide\n",
      "  predictions.sum(axis=1)[:, np.newaxis])\n",
      "/Users/matt/opt/anaconda3/lib/python3.7/site-packages/sklearn/ensemble/_bagging.py:638: UserWarning: Some inputs do not have OOB scores. This probably means too few estimators were used to compute any reliable oob estimates.\n",
      "  warn(\"Some inputs do not have OOB scores. \"\n",
      "/Users/matt/opt/anaconda3/lib/python3.7/site-packages/sklearn/ensemble/_bagging.py:643: RuntimeWarning: invalid value encountered in true_divide\n",
      "  predictions.sum(axis=1)[:, np.newaxis])\n",
      "/Users/matt/opt/anaconda3/lib/python3.7/site-packages/sklearn/ensemble/_bagging.py:638: UserWarning: Some inputs do not have OOB scores. This probably means too few estimators were used to compute any reliable oob estimates.\n",
      "  warn(\"Some inputs do not have OOB scores. \"\n",
      "/Users/matt/opt/anaconda3/lib/python3.7/site-packages/sklearn/ensemble/_bagging.py:643: RuntimeWarning: invalid value encountered in true_divide\n",
      "  predictions.sum(axis=1)[:, np.newaxis])\n",
      "/Users/matt/opt/anaconda3/lib/python3.7/site-packages/sklearn/ensemble/_bagging.py:638: UserWarning: Some inputs do not have OOB scores. This probably means too few estimators were used to compute any reliable oob estimates.\n",
      "  warn(\"Some inputs do not have OOB scores. \"\n",
      "/Users/matt/opt/anaconda3/lib/python3.7/site-packages/sklearn/ensemble/_bagging.py:643: RuntimeWarning: invalid value encountered in true_divide\n",
      "  predictions.sum(axis=1)[:, np.newaxis])\n",
      "/Users/matt/opt/anaconda3/lib/python3.7/site-packages/sklearn/ensemble/_bagging.py:638: UserWarning: Some inputs do not have OOB scores. This probably means too few estimators were used to compute any reliable oob estimates.\n",
      "  warn(\"Some inputs do not have OOB scores. \"\n",
      "/Users/matt/opt/anaconda3/lib/python3.7/site-packages/sklearn/ensemble/_bagging.py:643: RuntimeWarning: invalid value encountered in true_divide\n",
      "  predictions.sum(axis=1)[:, np.newaxis])\n",
      "/Users/matt/opt/anaconda3/lib/python3.7/site-packages/sklearn/ensemble/_bagging.py:638: UserWarning: Some inputs do not have OOB scores. This probably means too few estimators were used to compute any reliable oob estimates.\n",
      "  warn(\"Some inputs do not have OOB scores. \"\n",
      "/Users/matt/opt/anaconda3/lib/python3.7/site-packages/sklearn/ensemble/_bagging.py:643: RuntimeWarning: invalid value encountered in true_divide\n",
      "  predictions.sum(axis=1)[:, np.newaxis])\n",
      "/Users/matt/opt/anaconda3/lib/python3.7/site-packages/sklearn/ensemble/_bagging.py:638: UserWarning: Some inputs do not have OOB scores. This probably means too few estimators were used to compute any reliable oob estimates.\n",
      "  warn(\"Some inputs do not have OOB scores. \"\n",
      "/Users/matt/opt/anaconda3/lib/python3.7/site-packages/sklearn/ensemble/_bagging.py:643: RuntimeWarning: invalid value encountered in true_divide\n",
      "  predictions.sum(axis=1)[:, np.newaxis])\n",
      "/Users/matt/opt/anaconda3/lib/python3.7/site-packages/sklearn/ensemble/_bagging.py:638: UserWarning: Some inputs do not have OOB scores. This probably means too few estimators were used to compute any reliable oob estimates.\n",
      "  warn(\"Some inputs do not have OOB scores. \"\n",
      "/Users/matt/opt/anaconda3/lib/python3.7/site-packages/sklearn/ensemble/_bagging.py:643: RuntimeWarning: invalid value encountered in true_divide\n",
      "  predictions.sum(axis=1)[:, np.newaxis])\n",
      "/Users/matt/opt/anaconda3/lib/python3.7/site-packages/sklearn/ensemble/_bagging.py:638: UserWarning: Some inputs do not have OOB scores. This probably means too few estimators were used to compute any reliable oob estimates.\n",
      "  warn(\"Some inputs do not have OOB scores. \"\n",
      "/Users/matt/opt/anaconda3/lib/python3.7/site-packages/sklearn/ensemble/_bagging.py:643: RuntimeWarning: invalid value encountered in true_divide\n",
      "  predictions.sum(axis=1)[:, np.newaxis])\n",
      "/Users/matt/opt/anaconda3/lib/python3.7/site-packages/sklearn/ensemble/_bagging.py:638: UserWarning: Some inputs do not have OOB scores. This probably means too few estimators were used to compute any reliable oob estimates.\n",
      "  warn(\"Some inputs do not have OOB scores. \"\n",
      "/Users/matt/opt/anaconda3/lib/python3.7/site-packages/sklearn/ensemble/_bagging.py:643: RuntimeWarning: invalid value encountered in true_divide\n",
      "  predictions.sum(axis=1)[:, np.newaxis])\n",
      "/Users/matt/opt/anaconda3/lib/python3.7/site-packages/sklearn/ensemble/_bagging.py:638: UserWarning: Some inputs do not have OOB scores. This probably means too few estimators were used to compute any reliable oob estimates.\n",
      "  warn(\"Some inputs do not have OOB scores. \"\n",
      "/Users/matt/opt/anaconda3/lib/python3.7/site-packages/sklearn/ensemble/_bagging.py:643: RuntimeWarning: invalid value encountered in true_divide\n",
      "  predictions.sum(axis=1)[:, np.newaxis])\n",
      "/Users/matt/opt/anaconda3/lib/python3.7/site-packages/sklearn/ensemble/_bagging.py:638: UserWarning: Some inputs do not have OOB scores. This probably means too few estimators were used to compute any reliable oob estimates.\n",
      "  warn(\"Some inputs do not have OOB scores. \"\n",
      "/Users/matt/opt/anaconda3/lib/python3.7/site-packages/sklearn/ensemble/_bagging.py:643: RuntimeWarning: invalid value encountered in true_divide\n",
      "  predictions.sum(axis=1)[:, np.newaxis])\n",
      "/Users/matt/opt/anaconda3/lib/python3.7/site-packages/sklearn/ensemble/_bagging.py:638: UserWarning: Some inputs do not have OOB scores. This probably means too few estimators were used to compute any reliable oob estimates.\n",
      "  warn(\"Some inputs do not have OOB scores. \"\n",
      "/Users/matt/opt/anaconda3/lib/python3.7/site-packages/sklearn/ensemble/_bagging.py:643: RuntimeWarning: invalid value encountered in true_divide\n",
      "  predictions.sum(axis=1)[:, np.newaxis])\n",
      "/Users/matt/opt/anaconda3/lib/python3.7/site-packages/sklearn/ensemble/_bagging.py:638: UserWarning: Some inputs do not have OOB scores. This probably means too few estimators were used to compute any reliable oob estimates.\n",
      "  warn(\"Some inputs do not have OOB scores. \"\n",
      "/Users/matt/opt/anaconda3/lib/python3.7/site-packages/sklearn/ensemble/_bagging.py:643: RuntimeWarning: invalid value encountered in true_divide\n",
      "  predictions.sum(axis=1)[:, np.newaxis])\n",
      "/Users/matt/opt/anaconda3/lib/python3.7/site-packages/sklearn/ensemble/_bagging.py:638: UserWarning: Some inputs do not have OOB scores. This probably means too few estimators were used to compute any reliable oob estimates.\n",
      "  warn(\"Some inputs do not have OOB scores. \"\n",
      "/Users/matt/opt/anaconda3/lib/python3.7/site-packages/sklearn/ensemble/_bagging.py:643: RuntimeWarning: invalid value encountered in true_divide\n",
      "  predictions.sum(axis=1)[:, np.newaxis])\n",
      "/Users/matt/opt/anaconda3/lib/python3.7/site-packages/sklearn/ensemble/_bagging.py:638: UserWarning: Some inputs do not have OOB scores. This probably means too few estimators were used to compute any reliable oob estimates.\n",
      "  warn(\"Some inputs do not have OOB scores. \"\n",
      "/Users/matt/opt/anaconda3/lib/python3.7/site-packages/sklearn/ensemble/_bagging.py:643: RuntimeWarning: invalid value encountered in true_divide\n",
      "  predictions.sum(axis=1)[:, np.newaxis])\n",
      "/Users/matt/opt/anaconda3/lib/python3.7/site-packages/sklearn/ensemble/_bagging.py:638: UserWarning: Some inputs do not have OOB scores. This probably means too few estimators were used to compute any reliable oob estimates.\n",
      "  warn(\"Some inputs do not have OOB scores. \"\n",
      "/Users/matt/opt/anaconda3/lib/python3.7/site-packages/sklearn/ensemble/_bagging.py:643: RuntimeWarning: invalid value encountered in true_divide\n",
      "  predictions.sum(axis=1)[:, np.newaxis])\n"
     ]
    },
    {
     "name": "stderr",
     "output_type": "stream",
     "text": [
      "/Users/matt/opt/anaconda3/lib/python3.7/site-packages/sklearn/ensemble/_bagging.py:638: UserWarning: Some inputs do not have OOB scores. This probably means too few estimators were used to compute any reliable oob estimates.\n",
      "  warn(\"Some inputs do not have OOB scores. \"\n",
      "/Users/matt/opt/anaconda3/lib/python3.7/site-packages/sklearn/ensemble/_bagging.py:643: RuntimeWarning: invalid value encountered in true_divide\n",
      "  predictions.sum(axis=1)[:, np.newaxis])\n",
      "/Users/matt/opt/anaconda3/lib/python3.7/site-packages/sklearn/ensemble/_bagging.py:638: UserWarning: Some inputs do not have OOB scores. This probably means too few estimators were used to compute any reliable oob estimates.\n",
      "  warn(\"Some inputs do not have OOB scores. \"\n",
      "/Users/matt/opt/anaconda3/lib/python3.7/site-packages/sklearn/ensemble/_bagging.py:643: RuntimeWarning: invalid value encountered in true_divide\n",
      "  predictions.sum(axis=1)[:, np.newaxis])\n",
      "/Users/matt/opt/anaconda3/lib/python3.7/site-packages/sklearn/ensemble/_bagging.py:638: UserWarning: Some inputs do not have OOB scores. This probably means too few estimators were used to compute any reliable oob estimates.\n",
      "  warn(\"Some inputs do not have OOB scores. \"\n",
      "/Users/matt/opt/anaconda3/lib/python3.7/site-packages/sklearn/ensemble/_bagging.py:643: RuntimeWarning: invalid value encountered in true_divide\n",
      "  predictions.sum(axis=1)[:, np.newaxis])\n",
      "/Users/matt/opt/anaconda3/lib/python3.7/site-packages/sklearn/ensemble/_bagging.py:638: UserWarning: Some inputs do not have OOB scores. This probably means too few estimators were used to compute any reliable oob estimates.\n",
      "  warn(\"Some inputs do not have OOB scores. \"\n",
      "/Users/matt/opt/anaconda3/lib/python3.7/site-packages/sklearn/ensemble/_bagging.py:643: RuntimeWarning: invalid value encountered in true_divide\n",
      "  predictions.sum(axis=1)[:, np.newaxis])\n",
      "/Users/matt/opt/anaconda3/lib/python3.7/site-packages/sklearn/ensemble/_bagging.py:638: UserWarning: Some inputs do not have OOB scores. This probably means too few estimators were used to compute any reliable oob estimates.\n",
      "  warn(\"Some inputs do not have OOB scores. \"\n",
      "/Users/matt/opt/anaconda3/lib/python3.7/site-packages/sklearn/ensemble/_bagging.py:643: RuntimeWarning: invalid value encountered in true_divide\n",
      "  predictions.sum(axis=1)[:, np.newaxis])\n",
      "/Users/matt/opt/anaconda3/lib/python3.7/site-packages/sklearn/ensemble/_bagging.py:638: UserWarning: Some inputs do not have OOB scores. This probably means too few estimators were used to compute any reliable oob estimates.\n",
      "  warn(\"Some inputs do not have OOB scores. \"\n",
      "/Users/matt/opt/anaconda3/lib/python3.7/site-packages/sklearn/ensemble/_bagging.py:643: RuntimeWarning: invalid value encountered in true_divide\n",
      "  predictions.sum(axis=1)[:, np.newaxis])\n",
      "/Users/matt/opt/anaconda3/lib/python3.7/site-packages/sklearn/ensemble/_bagging.py:638: UserWarning: Some inputs do not have OOB scores. This probably means too few estimators were used to compute any reliable oob estimates.\n",
      "  warn(\"Some inputs do not have OOB scores. \"\n",
      "/Users/matt/opt/anaconda3/lib/python3.7/site-packages/sklearn/ensemble/_bagging.py:643: RuntimeWarning: invalid value encountered in true_divide\n",
      "  predictions.sum(axis=1)[:, np.newaxis])\n",
      "/Users/matt/opt/anaconda3/lib/python3.7/site-packages/sklearn/ensemble/_bagging.py:638: UserWarning: Some inputs do not have OOB scores. This probably means too few estimators were used to compute any reliable oob estimates.\n",
      "  warn(\"Some inputs do not have OOB scores. \"\n",
      "/Users/matt/opt/anaconda3/lib/python3.7/site-packages/sklearn/ensemble/_bagging.py:643: RuntimeWarning: invalid value encountered in true_divide\n",
      "  predictions.sum(axis=1)[:, np.newaxis])\n",
      "/Users/matt/opt/anaconda3/lib/python3.7/site-packages/sklearn/ensemble/_bagging.py:638: UserWarning: Some inputs do not have OOB scores. This probably means too few estimators were used to compute any reliable oob estimates.\n",
      "  warn(\"Some inputs do not have OOB scores. \"\n",
      "/Users/matt/opt/anaconda3/lib/python3.7/site-packages/sklearn/ensemble/_bagging.py:643: RuntimeWarning: invalid value encountered in true_divide\n",
      "  predictions.sum(axis=1)[:, np.newaxis])\n",
      "/Users/matt/opt/anaconda3/lib/python3.7/site-packages/sklearn/ensemble/_bagging.py:638: UserWarning: Some inputs do not have OOB scores. This probably means too few estimators were used to compute any reliable oob estimates.\n",
      "  warn(\"Some inputs do not have OOB scores. \"\n",
      "/Users/matt/opt/anaconda3/lib/python3.7/site-packages/sklearn/ensemble/_bagging.py:643: RuntimeWarning: invalid value encountered in true_divide\n",
      "  predictions.sum(axis=1)[:, np.newaxis])\n",
      "/Users/matt/opt/anaconda3/lib/python3.7/site-packages/sklearn/ensemble/_bagging.py:638: UserWarning: Some inputs do not have OOB scores. This probably means too few estimators were used to compute any reliable oob estimates.\n",
      "  warn(\"Some inputs do not have OOB scores. \"\n",
      "/Users/matt/opt/anaconda3/lib/python3.7/site-packages/sklearn/ensemble/_bagging.py:643: RuntimeWarning: invalid value encountered in true_divide\n",
      "  predictions.sum(axis=1)[:, np.newaxis])\n",
      "/Users/matt/opt/anaconda3/lib/python3.7/site-packages/sklearn/ensemble/_bagging.py:638: UserWarning: Some inputs do not have OOB scores. This probably means too few estimators were used to compute any reliable oob estimates.\n",
      "  warn(\"Some inputs do not have OOB scores. \"\n",
      "/Users/matt/opt/anaconda3/lib/python3.7/site-packages/sklearn/ensemble/_bagging.py:643: RuntimeWarning: invalid value encountered in true_divide\n",
      "  predictions.sum(axis=1)[:, np.newaxis])\n",
      "/Users/matt/opt/anaconda3/lib/python3.7/site-packages/sklearn/ensemble/_bagging.py:638: UserWarning: Some inputs do not have OOB scores. This probably means too few estimators were used to compute any reliable oob estimates.\n",
      "  warn(\"Some inputs do not have OOB scores. \"\n",
      "/Users/matt/opt/anaconda3/lib/python3.7/site-packages/sklearn/ensemble/_bagging.py:643: RuntimeWarning: invalid value encountered in true_divide\n",
      "  predictions.sum(axis=1)[:, np.newaxis])\n",
      "/Users/matt/opt/anaconda3/lib/python3.7/site-packages/sklearn/ensemble/_bagging.py:638: UserWarning: Some inputs do not have OOB scores. This probably means too few estimators were used to compute any reliable oob estimates.\n",
      "  warn(\"Some inputs do not have OOB scores. \"\n",
      "/Users/matt/opt/anaconda3/lib/python3.7/site-packages/sklearn/ensemble/_bagging.py:643: RuntimeWarning: invalid value encountered in true_divide\n",
      "  predictions.sum(axis=1)[:, np.newaxis])\n",
      "/Users/matt/opt/anaconda3/lib/python3.7/site-packages/sklearn/ensemble/_bagging.py:638: UserWarning: Some inputs do not have OOB scores. This probably means too few estimators were used to compute any reliable oob estimates.\n",
      "  warn(\"Some inputs do not have OOB scores. \"\n",
      "/Users/matt/opt/anaconda3/lib/python3.7/site-packages/sklearn/ensemble/_bagging.py:643: RuntimeWarning: invalid value encountered in true_divide\n",
      "  predictions.sum(axis=1)[:, np.newaxis])\n",
      "/Users/matt/opt/anaconda3/lib/python3.7/site-packages/sklearn/ensemble/_bagging.py:638: UserWarning: Some inputs do not have OOB scores. This probably means too few estimators were used to compute any reliable oob estimates.\n",
      "  warn(\"Some inputs do not have OOB scores. \"\n",
      "/Users/matt/opt/anaconda3/lib/python3.7/site-packages/sklearn/ensemble/_bagging.py:643: RuntimeWarning: invalid value encountered in true_divide\n",
      "  predictions.sum(axis=1)[:, np.newaxis])\n",
      "/Users/matt/opt/anaconda3/lib/python3.7/site-packages/sklearn/ensemble/_bagging.py:638: UserWarning: Some inputs do not have OOB scores. This probably means too few estimators were used to compute any reliable oob estimates.\n",
      "  warn(\"Some inputs do not have OOB scores. \"\n",
      "/Users/matt/opt/anaconda3/lib/python3.7/site-packages/sklearn/ensemble/_bagging.py:643: RuntimeWarning: invalid value encountered in true_divide\n",
      "  predictions.sum(axis=1)[:, np.newaxis])\n",
      "/Users/matt/opt/anaconda3/lib/python3.7/site-packages/sklearn/ensemble/_bagging.py:638: UserWarning: Some inputs do not have OOB scores. This probably means too few estimators were used to compute any reliable oob estimates.\n",
      "  warn(\"Some inputs do not have OOB scores. \"\n",
      "/Users/matt/opt/anaconda3/lib/python3.7/site-packages/sklearn/ensemble/_bagging.py:643: RuntimeWarning: invalid value encountered in true_divide\n",
      "  predictions.sum(axis=1)[:, np.newaxis])\n"
     ]
    },
    {
     "name": "stderr",
     "output_type": "stream",
     "text": [
      "/Users/matt/opt/anaconda3/lib/python3.7/site-packages/sklearn/ensemble/_bagging.py:638: UserWarning: Some inputs do not have OOB scores. This probably means too few estimators were used to compute any reliable oob estimates.\n",
      "  warn(\"Some inputs do not have OOB scores. \"\n",
      "/Users/matt/opt/anaconda3/lib/python3.7/site-packages/sklearn/ensemble/_bagging.py:643: RuntimeWarning: invalid value encountered in true_divide\n",
      "  predictions.sum(axis=1)[:, np.newaxis])\n",
      "/Users/matt/opt/anaconda3/lib/python3.7/site-packages/sklearn/ensemble/_bagging.py:638: UserWarning: Some inputs do not have OOB scores. This probably means too few estimators were used to compute any reliable oob estimates.\n",
      "  warn(\"Some inputs do not have OOB scores. \"\n",
      "/Users/matt/opt/anaconda3/lib/python3.7/site-packages/sklearn/ensemble/_bagging.py:643: RuntimeWarning: invalid value encountered in true_divide\n",
      "  predictions.sum(axis=1)[:, np.newaxis])\n",
      "/Users/matt/opt/anaconda3/lib/python3.7/site-packages/sklearn/ensemble/_bagging.py:638: UserWarning: Some inputs do not have OOB scores. This probably means too few estimators were used to compute any reliable oob estimates.\n",
      "  warn(\"Some inputs do not have OOB scores. \"\n",
      "/Users/matt/opt/anaconda3/lib/python3.7/site-packages/sklearn/ensemble/_bagging.py:643: RuntimeWarning: invalid value encountered in true_divide\n",
      "  predictions.sum(axis=1)[:, np.newaxis])\n",
      "/Users/matt/opt/anaconda3/lib/python3.7/site-packages/sklearn/ensemble/_bagging.py:638: UserWarning: Some inputs do not have OOB scores. This probably means too few estimators were used to compute any reliable oob estimates.\n",
      "  warn(\"Some inputs do not have OOB scores. \"\n",
      "/Users/matt/opt/anaconda3/lib/python3.7/site-packages/sklearn/ensemble/_bagging.py:643: RuntimeWarning: invalid value encountered in true_divide\n",
      "  predictions.sum(axis=1)[:, np.newaxis])\n",
      "/Users/matt/opt/anaconda3/lib/python3.7/site-packages/sklearn/ensemble/_bagging.py:638: UserWarning: Some inputs do not have OOB scores. This probably means too few estimators were used to compute any reliable oob estimates.\n",
      "  warn(\"Some inputs do not have OOB scores. \"\n",
      "/Users/matt/opt/anaconda3/lib/python3.7/site-packages/sklearn/ensemble/_bagging.py:643: RuntimeWarning: invalid value encountered in true_divide\n",
      "  predictions.sum(axis=1)[:, np.newaxis])\n",
      "/Users/matt/opt/anaconda3/lib/python3.7/site-packages/sklearn/ensemble/_bagging.py:638: UserWarning: Some inputs do not have OOB scores. This probably means too few estimators were used to compute any reliable oob estimates.\n",
      "  warn(\"Some inputs do not have OOB scores. \"\n",
      "/Users/matt/opt/anaconda3/lib/python3.7/site-packages/sklearn/ensemble/_bagging.py:643: RuntimeWarning: invalid value encountered in true_divide\n",
      "  predictions.sum(axis=1)[:, np.newaxis])\n",
      "/Users/matt/opt/anaconda3/lib/python3.7/site-packages/sklearn/ensemble/_bagging.py:638: UserWarning: Some inputs do not have OOB scores. This probably means too few estimators were used to compute any reliable oob estimates.\n",
      "  warn(\"Some inputs do not have OOB scores. \"\n",
      "/Users/matt/opt/anaconda3/lib/python3.7/site-packages/sklearn/ensemble/_bagging.py:643: RuntimeWarning: invalid value encountered in true_divide\n",
      "  predictions.sum(axis=1)[:, np.newaxis])\n",
      "/Users/matt/opt/anaconda3/lib/python3.7/site-packages/sklearn/ensemble/_bagging.py:638: UserWarning: Some inputs do not have OOB scores. This probably means too few estimators were used to compute any reliable oob estimates.\n",
      "  warn(\"Some inputs do not have OOB scores. \"\n",
      "/Users/matt/opt/anaconda3/lib/python3.7/site-packages/sklearn/ensemble/_bagging.py:643: RuntimeWarning: invalid value encountered in true_divide\n",
      "  predictions.sum(axis=1)[:, np.newaxis])\n",
      "/Users/matt/opt/anaconda3/lib/python3.7/site-packages/sklearn/ensemble/_bagging.py:638: UserWarning: Some inputs do not have OOB scores. This probably means too few estimators were used to compute any reliable oob estimates.\n",
      "  warn(\"Some inputs do not have OOB scores. \"\n",
      "/Users/matt/opt/anaconda3/lib/python3.7/site-packages/sklearn/ensemble/_bagging.py:643: RuntimeWarning: invalid value encountered in true_divide\n",
      "  predictions.sum(axis=1)[:, np.newaxis])\n",
      "/Users/matt/opt/anaconda3/lib/python3.7/site-packages/sklearn/ensemble/_bagging.py:638: UserWarning: Some inputs do not have OOB scores. This probably means too few estimators were used to compute any reliable oob estimates.\n",
      "  warn(\"Some inputs do not have OOB scores. \"\n",
      "/Users/matt/opt/anaconda3/lib/python3.7/site-packages/sklearn/ensemble/_bagging.py:643: RuntimeWarning: invalid value encountered in true_divide\n",
      "  predictions.sum(axis=1)[:, np.newaxis])\n",
      "/Users/matt/opt/anaconda3/lib/python3.7/site-packages/sklearn/ensemble/_bagging.py:638: UserWarning: Some inputs do not have OOB scores. This probably means too few estimators were used to compute any reliable oob estimates.\n",
      "  warn(\"Some inputs do not have OOB scores. \"\n",
      "/Users/matt/opt/anaconda3/lib/python3.7/site-packages/sklearn/ensemble/_bagging.py:643: RuntimeWarning: invalid value encountered in true_divide\n",
      "  predictions.sum(axis=1)[:, np.newaxis])\n",
      "/Users/matt/opt/anaconda3/lib/python3.7/site-packages/sklearn/ensemble/_bagging.py:638: UserWarning: Some inputs do not have OOB scores. This probably means too few estimators were used to compute any reliable oob estimates.\n",
      "  warn(\"Some inputs do not have OOB scores. \"\n",
      "/Users/matt/opt/anaconda3/lib/python3.7/site-packages/sklearn/ensemble/_bagging.py:643: RuntimeWarning: invalid value encountered in true_divide\n",
      "  predictions.sum(axis=1)[:, np.newaxis])\n",
      "/Users/matt/opt/anaconda3/lib/python3.7/site-packages/sklearn/ensemble/_bagging.py:638: UserWarning: Some inputs do not have OOB scores. This probably means too few estimators were used to compute any reliable oob estimates.\n",
      "  warn(\"Some inputs do not have OOB scores. \"\n",
      "/Users/matt/opt/anaconda3/lib/python3.7/site-packages/sklearn/ensemble/_bagging.py:643: RuntimeWarning: invalid value encountered in true_divide\n",
      "  predictions.sum(axis=1)[:, np.newaxis])\n",
      "/Users/matt/opt/anaconda3/lib/python3.7/site-packages/sklearn/ensemble/_bagging.py:638: UserWarning: Some inputs do not have OOB scores. This probably means too few estimators were used to compute any reliable oob estimates.\n",
      "  warn(\"Some inputs do not have OOB scores. \"\n",
      "/Users/matt/opt/anaconda3/lib/python3.7/site-packages/sklearn/ensemble/_bagging.py:643: RuntimeWarning: invalid value encountered in true_divide\n",
      "  predictions.sum(axis=1)[:, np.newaxis])\n",
      "/Users/matt/opt/anaconda3/lib/python3.7/site-packages/sklearn/ensemble/_bagging.py:638: UserWarning: Some inputs do not have OOB scores. This probably means too few estimators were used to compute any reliable oob estimates.\n",
      "  warn(\"Some inputs do not have OOB scores. \"\n",
      "/Users/matt/opt/anaconda3/lib/python3.7/site-packages/sklearn/ensemble/_bagging.py:643: RuntimeWarning: invalid value encountered in true_divide\n",
      "  predictions.sum(axis=1)[:, np.newaxis])\n",
      "/Users/matt/opt/anaconda3/lib/python3.7/site-packages/sklearn/ensemble/_bagging.py:638: UserWarning: Some inputs do not have OOB scores. This probably means too few estimators were used to compute any reliable oob estimates.\n",
      "  warn(\"Some inputs do not have OOB scores. \"\n",
      "/Users/matt/opt/anaconda3/lib/python3.7/site-packages/sklearn/ensemble/_bagging.py:643: RuntimeWarning: invalid value encountered in true_divide\n",
      "  predictions.sum(axis=1)[:, np.newaxis])\n",
      "/Users/matt/opt/anaconda3/lib/python3.7/site-packages/sklearn/ensemble/_bagging.py:638: UserWarning: Some inputs do not have OOB scores. This probably means too few estimators were used to compute any reliable oob estimates.\n",
      "  warn(\"Some inputs do not have OOB scores. \"\n",
      "/Users/matt/opt/anaconda3/lib/python3.7/site-packages/sklearn/ensemble/_bagging.py:643: RuntimeWarning: invalid value encountered in true_divide\n",
      "  predictions.sum(axis=1)[:, np.newaxis])\n",
      "/Users/matt/opt/anaconda3/lib/python3.7/site-packages/sklearn/ensemble/_bagging.py:638: UserWarning: Some inputs do not have OOB scores. This probably means too few estimators were used to compute any reliable oob estimates.\n",
      "  warn(\"Some inputs do not have OOB scores. \"\n",
      "/Users/matt/opt/anaconda3/lib/python3.7/site-packages/sklearn/ensemble/_bagging.py:643: RuntimeWarning: invalid value encountered in true_divide\n",
      "  predictions.sum(axis=1)[:, np.newaxis])\n"
     ]
    },
    {
     "name": "stderr",
     "output_type": "stream",
     "text": [
      "/Users/matt/opt/anaconda3/lib/python3.7/site-packages/sklearn/ensemble/_bagging.py:638: UserWarning: Some inputs do not have OOB scores. This probably means too few estimators were used to compute any reliable oob estimates.\n",
      "  warn(\"Some inputs do not have OOB scores. \"\n",
      "/Users/matt/opt/anaconda3/lib/python3.7/site-packages/sklearn/ensemble/_bagging.py:643: RuntimeWarning: invalid value encountered in true_divide\n",
      "  predictions.sum(axis=1)[:, np.newaxis])\n",
      "/Users/matt/opt/anaconda3/lib/python3.7/site-packages/sklearn/ensemble/_bagging.py:638: UserWarning: Some inputs do not have OOB scores. This probably means too few estimators were used to compute any reliable oob estimates.\n",
      "  warn(\"Some inputs do not have OOB scores. \"\n",
      "/Users/matt/opt/anaconda3/lib/python3.7/site-packages/sklearn/ensemble/_bagging.py:643: RuntimeWarning: invalid value encountered in true_divide\n",
      "  predictions.sum(axis=1)[:, np.newaxis])\n",
      "/Users/matt/opt/anaconda3/lib/python3.7/site-packages/sklearn/ensemble/_bagging.py:638: UserWarning: Some inputs do not have OOB scores. This probably means too few estimators were used to compute any reliable oob estimates.\n",
      "  warn(\"Some inputs do not have OOB scores. \"\n",
      "/Users/matt/opt/anaconda3/lib/python3.7/site-packages/sklearn/ensemble/_bagging.py:643: RuntimeWarning: invalid value encountered in true_divide\n",
      "  predictions.sum(axis=1)[:, np.newaxis])\n",
      "/Users/matt/opt/anaconda3/lib/python3.7/site-packages/sklearn/ensemble/_bagging.py:638: UserWarning: Some inputs do not have OOB scores. This probably means too few estimators were used to compute any reliable oob estimates.\n",
      "  warn(\"Some inputs do not have OOB scores. \"\n",
      "/Users/matt/opt/anaconda3/lib/python3.7/site-packages/sklearn/ensemble/_bagging.py:643: RuntimeWarning: invalid value encountered in true_divide\n",
      "  predictions.sum(axis=1)[:, np.newaxis])\n",
      "/Users/matt/opt/anaconda3/lib/python3.7/site-packages/sklearn/ensemble/_bagging.py:638: UserWarning: Some inputs do not have OOB scores. This probably means too few estimators were used to compute any reliable oob estimates.\n",
      "  warn(\"Some inputs do not have OOB scores. \"\n",
      "/Users/matt/opt/anaconda3/lib/python3.7/site-packages/sklearn/ensemble/_bagging.py:643: RuntimeWarning: invalid value encountered in true_divide\n",
      "  predictions.sum(axis=1)[:, np.newaxis])\n",
      "/Users/matt/opt/anaconda3/lib/python3.7/site-packages/sklearn/ensemble/_bagging.py:638: UserWarning: Some inputs do not have OOB scores. This probably means too few estimators were used to compute any reliable oob estimates.\n",
      "  warn(\"Some inputs do not have OOB scores. \"\n",
      "/Users/matt/opt/anaconda3/lib/python3.7/site-packages/sklearn/ensemble/_bagging.py:643: RuntimeWarning: invalid value encountered in true_divide\n",
      "  predictions.sum(axis=1)[:, np.newaxis])\n"
     ]
    },
    {
     "name": "stdout",
     "output_type": "stream",
     "text": [
      "{'max_samples': 0.3, 'n_estimators': 100}\n",
      "CPU times: user 45min 45s, sys: 5min 2s, total: 50min 48s\n",
      "Wall time: 3h 6min 46s\n"
     ]
    }
   ],
   "source": [
    "%%time\n",
    "bagging_DT = ensemble.BaggingClassifier(DT, \n",
    "                                        max_features = 1.0, \n",
    "                                        oob_score = True, \n",
    "                                        random_state = 2020, \n",
    "                                        n_jobs = -1)\n",
    "\n",
    "fhalf_scorer = metrics.make_scorer(metrics.fbeta_score, beta = 0.5)\n",
    "grid3 = model_selection.GridSearchCV(bagging_DT, \n",
    "                                     param_grid = {'n_estimators': [10, 20, 50, 80, 100], \n",
    "                                                   'max_samples':[0.3,0.5,0.7,0.8]}, \n",
    "                                     scoring = fhalf_scorer, cv = 10)\n",
    "grid3.fit(x_train, y_train)\n",
    "print(grid3.best_params_)"
   ]
  },
  {
   "cell_type": "markdown",
   "metadata": {},
   "source": [
    "    {'max_samples': 0.3, 'n_estimators': 100}\n",
    "    CPU times: user 45min 45s, sys: 5min 2s, total: 50min 48s\n",
    "    Wall time: 3h 6min 46s"
   ]
  },
  {
   "cell_type": "code",
   "execution_count": 15,
   "metadata": {},
   "outputs": [
    {
     "name": "stdout",
     "output_type": "stream",
     "text": [
      "              model precision    recall    F_beta       AUC\n",
      "0          logistic  0.709591  0.336463  0.456479  0.854925\n",
      "1                DT  0.649097  0.606941  0.627311  0.793089\n",
      "2                RF  0.679593  0.625024  0.651167  0.922701\n",
      "3  bagging-logistic  0.709628  0.336617  0.456628  0.854954\n",
      "4        bagging-DT  0.739342  0.671271  0.703664  0.938534\n",
      "CPU times: user 34.7 s, sys: 3.57 s, total: 38.2 s\n",
      "Wall time: 1min 41s\n"
     ]
    }
   ],
   "source": [
    "%%time\n",
    "# params = grid3.best_params_\n",
    "# params_n_estimators = params['n_estimators']\n",
    "# params_max_samples = params['max_samples']\n",
    "params_n_estimators = 100\n",
    "params_max_samples = 0.3\n",
    "\n",
    "best_bagging_DT = ensemble.BaggingClassifier(DT, max_features = 1.0, \n",
    "                                             max_samples = params_max_samples, \n",
    "                                             n_estimators = params_n_estimators, \n",
    "                                             oob_score = True, n_jobs = -1)\n",
    "best_bagging_DT.fit(x_train, y_train)\n",
    "y_pred = best_bagging_DT.predict(x_test)\n",
    "y_pred_s = best_bagging_DT.predict_proba(x_test)[:,1]\n",
    "table = gen_table(table, 'bagging-DT', y_test, y_pred, y_pred_s)\n",
    "print(table)"
   ]
  },
  {
   "cell_type": "markdown",
   "metadata": {},
   "source": [
    "<a id='d'></a>\n",
    "## 1.4 Boosting (DecisionTree based)\n",
    "    1. Adaboost\n",
    "    2. GradientBoosting\n",
    "\n",
    "[back to contents list](#list)"
   ]
  },
  {
   "cell_type": "markdown",
   "metadata": {},
   "source": [
    "### 1.4.1 Adaboost\n",
    "Parameter setting:\n",
    "\n",
    "    'algorithm': 'SAMME'\n",
    "    'n_estimators': 20"
   ]
  },
  {
   "cell_type": "code",
   "execution_count": 48,
   "metadata": {},
   "outputs": [
    {
     "name": "stdout",
     "output_type": "stream",
     "text": [
      "{'algorithm': 'SAMME', 'n_estimators': 20}\n",
      "CPU times: user 8h 33min 50s, sys: 2min 28s, total: 8h 36min 18s\n",
      "Wall time: 8h 36min 57s\n"
     ]
    }
   ],
   "source": [
    "%%time\n",
    "boosting_Ada = ensemble.AdaBoostClassifier(tree.DecisionTreeClassifier(), random_state = 2020)\n",
    "\n",
    "fhalf_scorer = metrics.make_scorer(metrics.fbeta_score, beta = 0.5)\n",
    "grid4 = model_selection.GridSearchCV(boosting_Ada, \n",
    "                                     param_grid = {'algorithm': ['SAMME', 'SAMME.R'], \n",
    "                                                   'n_estimators': [10, 20, 50, 80, 100]}, \n",
    "                                     scoring = fhalf_scorer, cv = 10)\n",
    "grid4.fit(x_train, y_train)\n",
    "print(grid4.best_params_)"
   ]
  },
  {
   "cell_type": "markdown",
   "metadata": {},
   "source": [
    "    {'algorithm': 'SAMME', 'n_estimators': 20}<br>\n",
    "    CPU times: user 8h 33min 50s, sys: 2min 28s, total: 8h 36min 18s<br>\n",
    "    Wall time: 8h 36min 57s<br>"
   ]
  },
  {
   "cell_type": "code",
   "execution_count": 16,
   "metadata": {},
   "outputs": [
    {
     "name": "stdout",
     "output_type": "stream",
     "text": [
      "              model precision    recall    F_beta       AUC\n",
      "0          logistic  0.709591  0.336463  0.456479  0.854925\n",
      "1                DT  0.649097  0.606941  0.627311  0.793089\n",
      "2                RF  0.679593  0.625024  0.651167  0.922701\n",
      "3  bagging-logistic  0.709628  0.336617  0.456628  0.854954\n",
      "4        bagging-DT  0.739342  0.671271  0.703664  0.938534\n",
      "5   boosting-Ada-DT   0.66146  0.617483  0.638715   0.87244\n",
      "CPU times: user 3min 7s, sys: 1.2 s, total: 3min 8s\n",
      "Wall time: 3min 9s\n"
     ]
    }
   ],
   "source": [
    "%%time\n",
    "# params = grid4.best_params_\n",
    "# params_algorithm = params['algorithm']\n",
    "# params_n_estimators = params['n_estimators']\n",
    "params_algorithm = 'SAMME'\n",
    "params_n_estimators = 20\n",
    "\n",
    "best_boosting_Ada = ensemble.AdaBoostClassifier(tree.DecisionTreeClassifier(), \n",
    "                                                n_estimators = params_n_estimators, \n",
    "                                                algorithm = params_algorithm)\n",
    "best_boosting_Ada.fit(x_train, y_train)\n",
    "y_pred = best_boosting_Ada.predict(x_test)\n",
    "y_pred_s = best_boosting_Ada.predict_proba(x_test)[:,1]\n",
    "table = gen_table(table, 'boosting-Ada-DT', y_test, y_pred, y_pred_s)\n",
    "print(table)"
   ]
  },
  {
   "cell_type": "markdown",
   "metadata": {},
   "source": [
    "### 1.4.2 GradientBoosting\n",
    "Parameter setting:\n",
    "\n",
    "    'n_estimators': 100"
   ]
  },
  {
   "cell_type": "code",
   "execution_count": 49,
   "metadata": {},
   "outputs": [
    {
     "name": "stdout",
     "output_type": "stream",
     "text": [
      "{'n_estimators': 100}\n",
      "CPU times: user 1h 4min 35s, sys: 1min 8s, total: 1h 5min 44s\n",
      "Wall time: 1h 5min 45s\n"
     ]
    }
   ],
   "source": [
    "%%time\n",
    "boosting_G = ensemble.GradientBoostingClassifier()\n",
    "\n",
    "fhalf_scorer = metrics.make_scorer(metrics.fbeta_score, beta = 0.5)\n",
    "grid5 = model_selection.GridSearchCV(boosting_G, \n",
    "                                     param_grid = {'n_estimators': [10, 20, 50, 80, 100]}, \n",
    "                                     scoring = fhalf_scorer, cv = 10)\n",
    "grid5.fit(x_train, y_train)\n",
    "print(grid5.best_params_)"
   ]
  },
  {
   "cell_type": "markdown",
   "metadata": {},
   "source": [
    "    {'n_estimators': 100}\n",
    "    CPU times: user 1h 4min 35s, sys: 1min 8s, total: 1h 5min 44s\n",
    "    Wall time: 1h 5min 45s"
   ]
  },
  {
   "cell_type": "code",
   "execution_count": 17,
   "metadata": {},
   "outputs": [
    {
     "name": "stdout",
     "output_type": "stream",
     "text": [
      "               model precision    recall    F_beta       AUC\n",
      "0           logistic  0.709591  0.336463  0.456479  0.854925\n",
      "1                 DT  0.649097  0.606941  0.627311  0.793089\n",
      "2                 RF  0.679593  0.625024  0.651167  0.922701\n",
      "3   bagging-logistic  0.709628  0.336617  0.456628  0.854954\n",
      "4         bagging-DT  0.739342  0.671271  0.703664  0.938534\n",
      "5    boosting-Ada-DT   0.66146  0.617483  0.638715   0.87244\n",
      "6  boosting-Gradient  0.715461  0.749375  0.732025   0.96119\n",
      "CPU times: user 2min 41s, sys: 2.82 s, total: 2min 44s\n",
      "Wall time: 2min 44s\n"
     ]
    }
   ],
   "source": [
    "%%time\n",
    "# params = grid5.best_params_\n",
    "# params_n_estimators = params['n_estimators']\n",
    "params_n_estimators = 100\n",
    "\n",
    "best_boosting_G = ensemble.GradientBoostingClassifier(n_estimators = params_n_estimators)\n",
    "best_boosting_G.fit(x_train, y_train)\n",
    "y_pred = best_boosting_G.predict(x_test)\n",
    "y_pred_s = best_boosting_G.predict_proba(x_test)[:,1]\n",
    "table = gen_table(table, 'boosting-Gradient', y_test, y_pred, y_pred_s)\n",
    "print(table)"
   ]
  },
  {
   "cell_type": "markdown",
   "metadata": {},
   "source": [
    "<a id='e'></a>\n",
    "## 1.5 Stacking\n",
    "\n",
    "Move on to stacking model, we need to choose the high performance simple model as our final_estimator, in this case is Randomforest model.\n",
    "\n",
    "[back to contents list](#list)"
   ]
  },
  {
   "cell_type": "code",
   "execution_count": 18,
   "metadata": {},
   "outputs": [
    {
     "name": "stdout",
     "output_type": "stream",
     "text": [
      "               model precision    recall    F_beta       AUC\n",
      "0           logistic  0.709591  0.336463  0.456479  0.854925\n",
      "1                 DT  0.649097  0.606941  0.627311  0.793089\n",
      "2                 RF  0.679593  0.625024  0.651167  0.922701\n",
      "3   bagging-logistic  0.709628  0.336617  0.456628  0.854954\n",
      "4         bagging-DT  0.739342  0.671271  0.703664  0.938534\n",
      "5    boosting-Ada-DT   0.66146  0.617483  0.638715   0.87244\n",
      "6  boosting-Gradient  0.715461  0.749375  0.732025   0.96119\n",
      "7         stacking_3  0.619725  0.568389  0.592948  0.904773\n",
      "CPU times: user 28min 48s, sys: 20.4 s, total: 29min 8s\n",
      "Wall time: 27min 36s\n"
     ]
    }
   ],
   "source": [
    "%%time\n",
    "estimators = [('logit', logit), ('DT', DT), ('RF', RF)]\n",
    "stacking_1 = ensemble.StackingClassifier(estimators = estimators, final_estimator = RF)\n",
    "stacking_1.fit(x_train, y_train)\n",
    "y_pred = stacking_1.predict(x_test)\n",
    "y_pred_s = stacking_1.predict_proba(x_test)[:,1]\n",
    "table = gen_table(table, 'stacking_3', y_test, y_pred, y_pred_s)\n",
    "print(table)"
   ]
  },
  {
   "cell_type": "code",
   "execution_count": 22,
   "metadata": {},
   "outputs": [],
   "source": [
    "from sklearn.linear_model import RidgeClassifier\n",
    "ridge = RidgeClassifier()"
   ]
  },
  {
   "cell_type": "code",
   "execution_count": 23,
   "metadata": {},
   "outputs": [
    {
     "name": "stdout",
     "output_type": "stream",
     "text": [
      "               model precision    recall    F_beta       AUC\n",
      "0           logistic  0.709591  0.336463  0.456479  0.854925\n",
      "1                 DT  0.649097  0.606941  0.627311  0.793089\n",
      "2                 RF  0.679593  0.625024  0.651167  0.922701\n",
      "3   bagging-logistic  0.709628  0.336617  0.456628  0.854954\n",
      "4         bagging-DT  0.739342  0.671271  0.703664  0.938534\n",
      "5    boosting-Ada-DT   0.66146  0.617483  0.638715   0.87244\n",
      "6  boosting-Gradient  0.715461  0.749375  0.732025   0.96119\n",
      "7                KNN   0.59917  0.577661  0.588219  0.774524\n",
      "8                KNN  0.708381  0.637682  0.671175  0.899424\n",
      "9         stacking_4  0.633232  0.587088  0.609288   0.90763\n",
      "CPU times: user 2h 26min 22s, sys: 53.6 s, total: 2h 27min 15s\n",
      "Wall time: 2h 26min 6s\n"
     ]
    }
   ],
   "source": [
    "%%time\n",
    "estimators_more = [('logit', logit), ('DT', DT), ('RF', RF), ('knn', knn)]\n",
    "stacking_2 = ensemble.StackingClassifier(estimators = estimators_more, final_estimator = RF)\n",
    "stacking_2.fit(x_train, y_train)\n",
    "y_pred = stacking_2.predict(x_test)\n",
    "y_pred_s = stacking_2.predict_proba(x_test)[:,1]\n",
    "table = gen_table(table, 'stacking_4', y_test, y_pred, y_pred_s)\n",
    "print(table)"
   ]
  },
  {
   "cell_type": "code",
   "execution_count": null,
   "metadata": {},
   "outputs": [],
   "source": [
    "%%time\n",
    "estimators_morenmore = [('logit', logit), ('DT', DT), ('RF', RF), ('SVM', svc), ('ridge', ridge), ('lasso', lasso)]\n",
    "stacking_3 = ensemble.StackingClassifier(estimators = estimators_morenmore, final_estimator = RF)\n",
    "stacking_3.fit(x_train, y_train)\n",
    "y_pred = stacking_3.predict(x_test)\n",
    "y_pred_s = stacking_3.predict_proba(x_test)[:,1]\n",
    "table = gen_table(table, 'stacking_6', y_test, y_pred, y_pred_s)\n",
    "print(table)"
   ]
  },
  {
   "cell_type": "markdown",
   "metadata": {},
   "source": [
    "<a id='4'></a>\n",
    "<a id='f'></a>\n",
    "## 1.6 Performance Comparation"
   ]
  },
  {
   "cell_type": "markdown",
   "metadata": {},
   "source": [
    "**Simple Models:**"
   ]
  },
  {
   "cell_type": "markdown",
   "metadata": {},
   "source": [
    "|| Logistic | Decision Tree | Random Forest | KNN |\n",
    "|---| --- | --- | --- |---|\n",
    "|Parameter settings|C: 10<br>solver: 'newton-cg'|default|max_features:'log2'|default|\n",
    "|Precision|0.709591|0.649097|0.679593|0.708381|\n",
    "|Recall|0.336463|0.606941|0.625024|0.637682|\n",
    "|$F_{0.5}$|0.456479|0.627311|0.651167|0.671175|\n",
    "|AUC|0.854925|0.793089|0.922701|0.899424|"
   ]
  },
  {
   "cell_type": "markdown",
   "metadata": {},
   "source": [
    "**Ensemble Models:**"
   ]
  },
  {
   "cell_type": "markdown",
   "metadata": {},
   "source": [
    "|| Bagging | <code style=\"background:yellow\">Bagging</code> | Boosting | <code style=\"background:yellow\">Boosting</code> | <code style=\"background:yellow\">Stacking</code> |Stacking|\n",
    "| --- | --- | --- | --- | --- | --- | --- |\n",
    "|Base classifier| Logistic | **Decision Tree** | Decison Tree<br>Adaboost | **Decision Tree<br>Gradient Boost** | **logistic<br>Decison Tree<br>RandomForest** |logistic<br>Decison Tree<br>RandomForest<br>KNN|\n",
    "|Parameter settings|max_samples: 0.3<br>n_estimators: 80|**max_samples: 0.3<br>n_estimators: 100**|algorithm: 'SAMME'<br>n_estimators: 20|**n_estimators:100**|**final_estimator:RandomForest**|final_estimator:RandomForest|\n",
    "|Precision|0.709628|**0.739342**|0.66146|**0.715461**|**0.619725**|0.633232|\n",
    "|Recall|0.336617|**0.671271**|0.617483|**0.749375**|**0.568389**|0.587088|\n",
    "|$F_{0.5}$|0.456628|**0.703664**|0.638715|**0.732025**|**0.592948**|0.609288|\n",
    "|AUC|0.854954|**0.938534**|0.87244|**0.96119**|**0.904773**|0.90763|"
   ]
  },
  {
   "cell_type": "markdown",
   "metadata": {},
   "source": [
    "<code style=\"background:yellow\">**Comments:**</code>"
   ]
  },
  {
   "cell_type": "markdown",
   "metadata": {},
   "source": [
    "1. At the very beginning, I first use GridSearch to find the best params for 4 simple models. As the table shows, simple logistic has the lowest F_beta score and RandomForest generates fairly high F_beta and AUC. KNN has a relatively good result as well.\n",
    "\n",
    "\n",
    "2. Move on to the bagging model, however, Decision Tree based bagging model generates higher results (F_beta=0.7037, AUC=0.9385) than logistic based bagging model (F_beta=0.4566, AUC=0.8549) and there's almost no improvement from simple logistic to bagging logistic.\n",
    "\n",
    "\n",
    "3. For boosting model, which I use default Decision Tree based in this case, Gradient boosting has much better performance (F_beta=0.7320, AUC=0.9612) than Adaboost (F_beta=0.6387, AUC=0.8724). \n",
    "\n",
    "\n",
    "4. In terms of stacking model, from structuring perspective, it is considered as the most complex one among these three. 4 estimators stacking model has a slightly better results than the 3 estimators stacking model, which is very reasonable.\n",
    "\n",
    "5. To conclude, Decision Tree based Gradient boost model generates the best result which I think still can be improved by increasing the estimator number. All 3 ensemble model have relatively better perfomance than single model."
   ]
  },
  {
   "cell_type": "markdown",
   "metadata": {},
   "source": [
    "<a id='3'></a>\n",
    "<a id='list2'></a>\n",
    "# <code style=\"color:green\">[Question 2] Ensemble Learning with External Data</code>\n",
    "\n",
    "You are given some external data of income bracket indicators for each region of 5-digits zip code. In our original data, we have only the first three digits of zip code, which is at county level, rather than town level. Therefore, we need to aggregate the income brackets to estimate the income of loan applicants. Build ensemble models again and see if there is any improvement."
   ]
  },
  {
   "cell_type": "markdown",
   "metadata": {},
   "source": [
    "[1.1 Data preparation](#g)<br>\n",
    "[1.2 Simple Model (logistic, Decision Tree, Random Forest, KNN)](#h)<br>\n",
    "[1.3 Bagging](#i)<br>\n",
    "[1.4 Boosting (Adaboost, Gradient boosting)](#j)<br>\n",
    "[1.5 Stacking](#k)<br>\n",
    "[1.6 Performance Comparation](#l)<br>\n",
    "<br>\n",
    "<br>\n",
    "[back to main list](#all)"
   ]
  },
  {
   "cell_type": "markdown",
   "metadata": {},
   "source": [
    "<a id='g'></a>\n",
    "## 2.1 Data preparation\n",
    "\n",
    "[back to contents list](#list2)<br>"
   ]
  },
  {
   "cell_type": "code",
   "execution_count": 24,
   "metadata": {},
   "outputs": [],
   "source": [
    "f = open('16zpallagi.csv', 'r')\n",
    "f.readline()\n",
    "count = {}\n",
    "for l in f.readlines():\n",
    "    s = l.split(',')\n",
    "    if s[2] == '0':\n",
    "        count[s[1], int(s[3])] = int(s[4])\n",
    "    else:\n",
    "        count['%05d' % int(s[2]), int(s[3])] = int(s[4])\n",
    "agg_count = {}\n",
    "for k, v in count.items():\n",
    "    if k[0][:3] not in agg_count:\n",
    "        agg_count[k[0][:3]] = [0] * 7\n",
    "    agg_count[k[0][:3]][k[1]] += v\n",
    "f.close()\n",
    "\n",
    "# Assume incomes bracketed are [12500, 37500, 62500, 87500, 150000, 400000]\n",
    "# 1 = $1 under $25,000\n",
    "# 2 = $25,000 under $50,000\n",
    "# 3 = $50,000 under $75,000\n",
    "# 4 = $75,000 under $100,000\n",
    "# 5 = $100,000 under $200,000\n",
    "# 6 = $200,000 or more\n",
    "\n",
    "bracket_income = [0, 12500, 37500, 62500, 87500, 150000, 400000]\n",
    "estimated_zip_income = {}\n",
    "for k, v in agg_count.items():\n",
    "    sumn, sumd = 0, 0\n",
    "    for i in range(1, 7):\n",
    "        sumn += bracket_income[i] * v[i]\n",
    "        sumd += v[i]\n",
    "    estimated_zip_income[k] = sumn / sumd\n",
    "    \n",
    "#insert at the position of 4\n",
    "approved.insert(4, 'estimated_income', approved[['zip3', 'state']].apply(lambda x: estimated_zip_income[x[0]] if x[0] in estimated_zip_income else estimated_zip_income[x[1]] if x[1] in estimated_zip_income else 0, axis = 1))\n",
    "rejected.insert(4, 'estimated_income', rejected[['zip3', 'state']].apply(lambda x: estimated_zip_income[x[0]] if x[0] in estimated_zip_income else estimated_zip_income[x[1]] if x[1] in estimated_zip_income else 0, axis = 1))\n",
    "data_pos = approved.drop(['zip3', 'state'], axis = 1).values\n",
    "data_neg = rejected.drop(['zip3', 'state'], axis = 1).values"
   ]
  },
  {
   "cell_type": "code",
   "execution_count": 25,
   "metadata": {},
   "outputs": [],
   "source": [
    "data = np.vstack((data_pos, data_neg))\n",
    "x_train, x_test, y_train, y_test = model_selection.train_test_split(data[:,:-1], data[:,-1].astype(int), \n",
    "                                                                    test_size = 0.25, random_state = 2020)\n",
    "x_train = min_max_scaler.fit_transform(x_train)\n",
    "x_test = min_max_scaler.transform(x_test)"
   ]
  },
  {
   "cell_type": "code",
   "execution_count": 26,
   "metadata": {},
   "outputs": [],
   "source": [
    "table = pd.DataFrame(columns=['model','precision','recall','F_beta','AUC'])"
   ]
  },
  {
   "cell_type": "markdown",
   "metadata": {},
   "source": [
    "<a id='h'></a>\n",
    "## 2.2 Simple model\n",
    "- Logistic\n",
    "- Decision Tree\n",
    "- Random Forest\n",
    "- KNN\n",
    "    \n",
    "\n",
    "[back to contents list](#list2)<br>"
   ]
  },
  {
   "cell_type": "markdown",
   "metadata": {},
   "source": [
    "### 2.2.1 Logistc\n",
    "Parameter setting:\n",
    "\n",
    "    'C': 10\n",
    "    'solver': 'liblinear'"
   ]
  },
  {
   "cell_type": "code",
   "execution_count": 54,
   "metadata": {},
   "outputs": [
    {
     "name": "stderr",
     "output_type": "stream",
     "text": [
      "/Users/matt/opt/anaconda3/lib/python3.7/site-packages/scipy/optimize/linesearch.py:426: LineSearchWarning: Rounding errors prevent the line search from converging\n",
      "  warn(msg, LineSearchWarning)\n",
      "/Users/matt/opt/anaconda3/lib/python3.7/site-packages/scipy/optimize/linesearch.py:314: LineSearchWarning: The line search algorithm did not converge\n",
      "  warn('The line search algorithm did not converge', LineSearchWarning)\n",
      "/Users/matt/opt/anaconda3/lib/python3.7/site-packages/sklearn/utils/optimize.py:204: UserWarning: Line Search failed\n",
      "  warnings.warn('Line Search failed')\n",
      "/Users/matt/opt/anaconda3/lib/python3.7/site-packages/scipy/optimize/linesearch.py:314: LineSearchWarning: The line search algorithm did not converge\n",
      "  warn('The line search algorithm did not converge', LineSearchWarning)\n",
      "/Users/matt/opt/anaconda3/lib/python3.7/site-packages/sklearn/utils/optimize.py:204: UserWarning: Line Search failed\n",
      "  warnings.warn('Line Search failed')\n"
     ]
    },
    {
     "name": "stdout",
     "output_type": "stream",
     "text": [
      "{'C': 10, 'solver': 'liblinear'}\n",
      "CPU times: user 41min 25s, sys: 36.2 s, total: 42min 1s\n",
      "Wall time: 23min 44s\n"
     ]
    }
   ],
   "source": [
    "%%time\n",
    "fhalf_scorer = metrics.make_scorer(metrics.fbeta_score, beta = 0.5)\n",
    "grid_0 = model_selection.GridSearchCV(linear_model.LogisticRegression(), \n",
    "                                    param_grid = {'C': [1, 10, 100, 1000], \n",
    "                                                  'solver': ['liblinear', 'newton-cg', 'lbfgs', 'sag', 'saga']}, \n",
    "                                    scoring = fhalf_scorer, cv = 10)\n",
    "grid_0.fit(x_train, y_train)\n",
    "print(grid_0.best_params_)"
   ]
  },
  {
   "cell_type": "markdown",
   "metadata": {},
   "source": [
    "    {'C': 10, 'solver': 'liblinear'}\n",
    "    CPU times: user 41min 25s, sys: 36.2 s, total: 42min 1s\n",
    "    Wall time: 23min 44s"
   ]
  },
  {
   "cell_type": "code",
   "execution_count": 29,
   "metadata": {},
   "outputs": [
    {
     "name": "stdout",
     "output_type": "stream",
     "text": [
      "      model precision    recall    F_beta       AUC\n",
      "0        RF  0.727399  0.665577  0.695116  0.941825\n",
      "1       KNN  0.693066  0.646455  0.668949  0.896051\n",
      "2  logistic  0.709613  0.339695  0.459449  0.856003\n",
      "CPU times: user 3.24 s, sys: 160 ms, total: 3.4 s\n",
      "Wall time: 2.79 s\n"
     ]
    }
   ],
   "source": [
    "%%time\n",
    "# params = grid_0.best_params_\n",
    "# params_C = params['C']\n",
    "# params_solver = params['solver']\n",
    "params_C = 10\n",
    "params_solver = 'liblinear'\n",
    "\n",
    "logit = linear_model.LogisticRegression(C = params_C, solver = params_solver)\n",
    "logit.fit(x_train, y_train)\n",
    "y_pred = logit.predict(x_test)\n",
    "y_pred_s = logit.predict_proba(x_test)[:,1]\n",
    "table = gen_table(table, 'logistic', y_test, y_pred, y_pred_s)\n",
    "print(table)"
   ]
  },
  {
   "cell_type": "markdown",
   "metadata": {},
   "source": [
    "### 2.2.2 Decision Tree\n",
    "Parameter setting: \n",
    "\n",
    "    default"
   ]
  },
  {
   "cell_type": "code",
   "execution_count": 30,
   "metadata": {},
   "outputs": [
    {
     "name": "stdout",
     "output_type": "stream",
     "text": [
      "      model precision    recall    F_beta       AUC\n",
      "0        RF  0.727399  0.665577  0.695116  0.941825\n",
      "1       KNN  0.693066  0.646455  0.668949  0.896051\n",
      "2  logistic  0.709613  0.339695  0.459449  0.856003\n",
      "3        DT  0.604343  0.601785  0.603061  0.786339\n",
      "CPU times: user 8.56 s, sys: 85.2 ms, total: 8.65 s\n",
      "Wall time: 8.65 s\n"
     ]
    }
   ],
   "source": [
    "%%time\n",
    "DT = tree.DecisionTreeClassifier()\n",
    "DT.fit(x_train, y_train)\n",
    "y_pred = DT.predict(x_test)\n",
    "y_pred_s = DT.predict_proba(x_test)[:,1]\n",
    "table = gen_table(table, 'DT', y_test, y_pred, y_pred_s)\n",
    "print(table)"
   ]
  },
  {
   "cell_type": "markdown",
   "metadata": {},
   "source": [
    "### 2.2.3 Random Forest"
   ]
  },
  {
   "cell_type": "code",
   "execution_count": null,
   "metadata": {},
   "outputs": [],
   "source": [
    "%%time\n",
    "fhalf_scorer = metrics.make_scorer(metrics.fbeta_score, beta = 0.5)\n",
    "grid = model_selection.GridSearchCV(ensemble.RandomForestClassifier(), \n",
    "                                    param_grid = {'max_features':['auto', 'sqrt', 'log2']}, \n",
    "                                    scoring = fhalf_scorer, cv = 10)\n",
    "grid.fit(x_train, y_train)\n",
    "print(grid.best_params_)"
   ]
  },
  {
   "cell_type": "code",
   "execution_count": 27,
   "metadata": {},
   "outputs": [
    {
     "name": "stdout",
     "output_type": "stream",
     "text": [
      "  model precision    recall    F_beta       AUC\n",
      "0    RF  0.727399  0.665577  0.695116  0.941825\n",
      "CPU times: user 4min 36s, sys: 2.2 s, total: 4min 38s\n",
      "Wall time: 4min 38s\n"
     ]
    }
   ],
   "source": [
    "%%time\n",
    "# params = grid.best_params_\n",
    "# params_max_features = params['max_features']\n",
    "\n",
    "RF = ensemble.RandomForestClassifier(max_features = 'log2')\n",
    "RF.fit(x_train, y_train)\n",
    "y_pred = RF.predict(x_test)\n",
    "y_pred_s = RF.predict_proba(x_test)[:,1]\n",
    "table = gen_table(table, 'RF', y_test, y_pred, y_pred_s)\n",
    "print(table)"
   ]
  },
  {
   "cell_type": "markdown",
   "metadata": {},
   "source": [
    "### 2.2.4 KNN"
   ]
  },
  {
   "cell_type": "code",
   "execution_count": 28,
   "metadata": {},
   "outputs": [
    {
     "name": "stdout",
     "output_type": "stream",
     "text": [
      "  model precision    recall    F_beta       AUC\n",
      "0    RF  0.727399  0.665577  0.695116  0.941825\n",
      "1   KNN  0.693066  0.646455  0.668949  0.896051\n",
      "CPU times: user 43min 31s, sys: 6.59 s, total: 43min 37s\n",
      "Wall time: 43min 31s\n"
     ]
    }
   ],
   "source": [
    "%%time\n",
    "knn = KNeighborsClassifier()\n",
    "knn.fit(x_train, y_train)\n",
    "y_pred = knn.predict(x_test)\n",
    "y_pred_s = knn.predict_proba(x_test)[:,1]\n",
    "table = gen_table(table, 'KNN', y_test, y_pred, y_pred_s)\n",
    "print(table)   "
   ]
  },
  {
   "cell_type": "markdown",
   "metadata": {},
   "source": [
    "<a id='i'></a>\n",
    "## 2.3 Bagging\n",
    "    1. Logistic based bagging\n",
    "    2. Decision Tree based bagging\n",
    " \n",
    "[back to contents list](#list2)<br>"
   ]
  },
  {
   "cell_type": "markdown",
   "metadata": {},
   "source": [
    "### 2.3.1 Logistc based bagging\n",
    "Parameter setting:\n",
    "\n",
    "    'C': 10\n",
    "    'solver': 'liblinear'\n",
    "    'max_samples': 0.7\n",
    "    'n_estimators': 10"
   ]
  },
  {
   "cell_type": "code",
   "execution_count": 57,
   "metadata": {},
   "outputs": [
    {
     "name": "stderr",
     "output_type": "stream",
     "text": [
      "/Users/matt/opt/anaconda3/lib/python3.7/site-packages/sklearn/ensemble/_bagging.py:638: UserWarning: Some inputs do not have OOB scores. This probably means too few estimators were used to compute any reliable oob estimates.\n",
      "  warn(\"Some inputs do not have OOB scores. \"\n",
      "/Users/matt/opt/anaconda3/lib/python3.7/site-packages/sklearn/ensemble/_bagging.py:643: RuntimeWarning: invalid value encountered in true_divide\n",
      "  predictions.sum(axis=1)[:, np.newaxis])\n",
      "/Users/matt/opt/anaconda3/lib/python3.7/site-packages/sklearn/ensemble/_bagging.py:638: UserWarning: Some inputs do not have OOB scores. This probably means too few estimators were used to compute any reliable oob estimates.\n",
      "  warn(\"Some inputs do not have OOB scores. \"\n",
      "/Users/matt/opt/anaconda3/lib/python3.7/site-packages/sklearn/ensemble/_bagging.py:643: RuntimeWarning: invalid value encountered in true_divide\n",
      "  predictions.sum(axis=1)[:, np.newaxis])\n",
      "/Users/matt/opt/anaconda3/lib/python3.7/site-packages/sklearn/ensemble/_bagging.py:638: UserWarning: Some inputs do not have OOB scores. This probably means too few estimators were used to compute any reliable oob estimates.\n",
      "  warn(\"Some inputs do not have OOB scores. \"\n",
      "/Users/matt/opt/anaconda3/lib/python3.7/site-packages/sklearn/ensemble/_bagging.py:643: RuntimeWarning: invalid value encountered in true_divide\n",
      "  predictions.sum(axis=1)[:, np.newaxis])\n",
      "/Users/matt/opt/anaconda3/lib/python3.7/site-packages/sklearn/ensemble/_bagging.py:638: UserWarning: Some inputs do not have OOB scores. This probably means too few estimators were used to compute any reliable oob estimates.\n",
      "  warn(\"Some inputs do not have OOB scores. \"\n",
      "/Users/matt/opt/anaconda3/lib/python3.7/site-packages/sklearn/ensemble/_bagging.py:643: RuntimeWarning: invalid value encountered in true_divide\n",
      "  predictions.sum(axis=1)[:, np.newaxis])\n",
      "/Users/matt/opt/anaconda3/lib/python3.7/site-packages/sklearn/ensemble/_bagging.py:638: UserWarning: Some inputs do not have OOB scores. This probably means too few estimators were used to compute any reliable oob estimates.\n",
      "  warn(\"Some inputs do not have OOB scores. \"\n",
      "/Users/matt/opt/anaconda3/lib/python3.7/site-packages/sklearn/ensemble/_bagging.py:643: RuntimeWarning: invalid value encountered in true_divide\n",
      "  predictions.sum(axis=1)[:, np.newaxis])\n",
      "/Users/matt/opt/anaconda3/lib/python3.7/site-packages/sklearn/ensemble/_bagging.py:638: UserWarning: Some inputs do not have OOB scores. This probably means too few estimators were used to compute any reliable oob estimates.\n",
      "  warn(\"Some inputs do not have OOB scores. \"\n",
      "/Users/matt/opt/anaconda3/lib/python3.7/site-packages/sklearn/ensemble/_bagging.py:643: RuntimeWarning: invalid value encountered in true_divide\n",
      "  predictions.sum(axis=1)[:, np.newaxis])\n",
      "/Users/matt/opt/anaconda3/lib/python3.7/site-packages/sklearn/ensemble/_bagging.py:638: UserWarning: Some inputs do not have OOB scores. This probably means too few estimators were used to compute any reliable oob estimates.\n",
      "  warn(\"Some inputs do not have OOB scores. \"\n",
      "/Users/matt/opt/anaconda3/lib/python3.7/site-packages/sklearn/ensemble/_bagging.py:643: RuntimeWarning: invalid value encountered in true_divide\n",
      "  predictions.sum(axis=1)[:, np.newaxis])\n",
      "/Users/matt/opt/anaconda3/lib/python3.7/site-packages/sklearn/ensemble/_bagging.py:638: UserWarning: Some inputs do not have OOB scores. This probably means too few estimators were used to compute any reliable oob estimates.\n",
      "  warn(\"Some inputs do not have OOB scores. \"\n",
      "/Users/matt/opt/anaconda3/lib/python3.7/site-packages/sklearn/ensemble/_bagging.py:643: RuntimeWarning: invalid value encountered in true_divide\n",
      "  predictions.sum(axis=1)[:, np.newaxis])\n",
      "/Users/matt/opt/anaconda3/lib/python3.7/site-packages/sklearn/ensemble/_bagging.py:638: UserWarning: Some inputs do not have OOB scores. This probably means too few estimators were used to compute any reliable oob estimates.\n",
      "  warn(\"Some inputs do not have OOB scores. \"\n",
      "/Users/matt/opt/anaconda3/lib/python3.7/site-packages/sklearn/ensemble/_bagging.py:643: RuntimeWarning: invalid value encountered in true_divide\n",
      "  predictions.sum(axis=1)[:, np.newaxis])\n",
      "/Users/matt/opt/anaconda3/lib/python3.7/site-packages/sklearn/ensemble/_bagging.py:638: UserWarning: Some inputs do not have OOB scores. This probably means too few estimators were used to compute any reliable oob estimates.\n",
      "  warn(\"Some inputs do not have OOB scores. \"\n",
      "/Users/matt/opt/anaconda3/lib/python3.7/site-packages/sklearn/ensemble/_bagging.py:643: RuntimeWarning: invalid value encountered in true_divide\n",
      "  predictions.sum(axis=1)[:, np.newaxis])\n",
      "/Users/matt/opt/anaconda3/lib/python3.7/site-packages/sklearn/ensemble/_bagging.py:638: UserWarning: Some inputs do not have OOB scores. This probably means too few estimators were used to compute any reliable oob estimates.\n",
      "  warn(\"Some inputs do not have OOB scores. \"\n",
      "/Users/matt/opt/anaconda3/lib/python3.7/site-packages/sklearn/ensemble/_bagging.py:643: RuntimeWarning: invalid value encountered in true_divide\n",
      "  predictions.sum(axis=1)[:, np.newaxis])\n",
      "/Users/matt/opt/anaconda3/lib/python3.7/site-packages/sklearn/ensemble/_bagging.py:638: UserWarning: Some inputs do not have OOB scores. This probably means too few estimators were used to compute any reliable oob estimates.\n",
      "  warn(\"Some inputs do not have OOB scores. \"\n",
      "/Users/matt/opt/anaconda3/lib/python3.7/site-packages/sklearn/ensemble/_bagging.py:643: RuntimeWarning: invalid value encountered in true_divide\n",
      "  predictions.sum(axis=1)[:, np.newaxis])\n",
      "/Users/matt/opt/anaconda3/lib/python3.7/site-packages/sklearn/ensemble/_bagging.py:638: UserWarning: Some inputs do not have OOB scores. This probably means too few estimators were used to compute any reliable oob estimates.\n",
      "  warn(\"Some inputs do not have OOB scores. \"\n",
      "/Users/matt/opt/anaconda3/lib/python3.7/site-packages/sklearn/ensemble/_bagging.py:643: RuntimeWarning: invalid value encountered in true_divide\n",
      "  predictions.sum(axis=1)[:, np.newaxis])\n",
      "/Users/matt/opt/anaconda3/lib/python3.7/site-packages/sklearn/ensemble/_bagging.py:638: UserWarning: Some inputs do not have OOB scores. This probably means too few estimators were used to compute any reliable oob estimates.\n",
      "  warn(\"Some inputs do not have OOB scores. \"\n",
      "/Users/matt/opt/anaconda3/lib/python3.7/site-packages/sklearn/ensemble/_bagging.py:643: RuntimeWarning: invalid value encountered in true_divide\n",
      "  predictions.sum(axis=1)[:, np.newaxis])\n",
      "/Users/matt/opt/anaconda3/lib/python3.7/site-packages/sklearn/ensemble/_bagging.py:638: UserWarning: Some inputs do not have OOB scores. This probably means too few estimators were used to compute any reliable oob estimates.\n",
      "  warn(\"Some inputs do not have OOB scores. \"\n",
      "/Users/matt/opt/anaconda3/lib/python3.7/site-packages/sklearn/ensemble/_bagging.py:643: RuntimeWarning: invalid value encountered in true_divide\n",
      "  predictions.sum(axis=1)[:, np.newaxis])\n",
      "/Users/matt/opt/anaconda3/lib/python3.7/site-packages/sklearn/ensemble/_bagging.py:638: UserWarning: Some inputs do not have OOB scores. This probably means too few estimators were used to compute any reliable oob estimates.\n",
      "  warn(\"Some inputs do not have OOB scores. \"\n",
      "/Users/matt/opt/anaconda3/lib/python3.7/site-packages/sklearn/ensemble/_bagging.py:643: RuntimeWarning: invalid value encountered in true_divide\n",
      "  predictions.sum(axis=1)[:, np.newaxis])\n",
      "/Users/matt/opt/anaconda3/lib/python3.7/site-packages/sklearn/ensemble/_bagging.py:638: UserWarning: Some inputs do not have OOB scores. This probably means too few estimators were used to compute any reliable oob estimates.\n",
      "  warn(\"Some inputs do not have OOB scores. \"\n",
      "/Users/matt/opt/anaconda3/lib/python3.7/site-packages/sklearn/ensemble/_bagging.py:643: RuntimeWarning: invalid value encountered in true_divide\n",
      "  predictions.sum(axis=1)[:, np.newaxis])\n",
      "/Users/matt/opt/anaconda3/lib/python3.7/site-packages/sklearn/ensemble/_bagging.py:638: UserWarning: Some inputs do not have OOB scores. This probably means too few estimators were used to compute any reliable oob estimates.\n",
      "  warn(\"Some inputs do not have OOB scores. \"\n",
      "/Users/matt/opt/anaconda3/lib/python3.7/site-packages/sklearn/ensemble/_bagging.py:643: RuntimeWarning: invalid value encountered in true_divide\n",
      "  predictions.sum(axis=1)[:, np.newaxis])\n"
     ]
    },
    {
     "name": "stderr",
     "output_type": "stream",
     "text": [
      "/Users/matt/opt/anaconda3/lib/python3.7/site-packages/sklearn/ensemble/_bagging.py:638: UserWarning: Some inputs do not have OOB scores. This probably means too few estimators were used to compute any reliable oob estimates.\n",
      "  warn(\"Some inputs do not have OOB scores. \"\n",
      "/Users/matt/opt/anaconda3/lib/python3.7/site-packages/sklearn/ensemble/_bagging.py:643: RuntimeWarning: invalid value encountered in true_divide\n",
      "  predictions.sum(axis=1)[:, np.newaxis])\n",
      "/Users/matt/opt/anaconda3/lib/python3.7/site-packages/sklearn/ensemble/_bagging.py:638: UserWarning: Some inputs do not have OOB scores. This probably means too few estimators were used to compute any reliable oob estimates.\n",
      "  warn(\"Some inputs do not have OOB scores. \"\n",
      "/Users/matt/opt/anaconda3/lib/python3.7/site-packages/sklearn/ensemble/_bagging.py:643: RuntimeWarning: invalid value encountered in true_divide\n",
      "  predictions.sum(axis=1)[:, np.newaxis])\n",
      "/Users/matt/opt/anaconda3/lib/python3.7/site-packages/sklearn/ensemble/_bagging.py:638: UserWarning: Some inputs do not have OOB scores. This probably means too few estimators were used to compute any reliable oob estimates.\n",
      "  warn(\"Some inputs do not have OOB scores. \"\n",
      "/Users/matt/opt/anaconda3/lib/python3.7/site-packages/sklearn/ensemble/_bagging.py:643: RuntimeWarning: invalid value encountered in true_divide\n",
      "  predictions.sum(axis=1)[:, np.newaxis])\n",
      "/Users/matt/opt/anaconda3/lib/python3.7/site-packages/sklearn/ensemble/_bagging.py:638: UserWarning: Some inputs do not have OOB scores. This probably means too few estimators were used to compute any reliable oob estimates.\n",
      "  warn(\"Some inputs do not have OOB scores. \"\n",
      "/Users/matt/opt/anaconda3/lib/python3.7/site-packages/sklearn/ensemble/_bagging.py:643: RuntimeWarning: invalid value encountered in true_divide\n",
      "  predictions.sum(axis=1)[:, np.newaxis])\n",
      "/Users/matt/opt/anaconda3/lib/python3.7/site-packages/sklearn/ensemble/_bagging.py:638: UserWarning: Some inputs do not have OOB scores. This probably means too few estimators were used to compute any reliable oob estimates.\n",
      "  warn(\"Some inputs do not have OOB scores. \"\n",
      "/Users/matt/opt/anaconda3/lib/python3.7/site-packages/sklearn/ensemble/_bagging.py:643: RuntimeWarning: invalid value encountered in true_divide\n",
      "  predictions.sum(axis=1)[:, np.newaxis])\n",
      "/Users/matt/opt/anaconda3/lib/python3.7/site-packages/sklearn/ensemble/_bagging.py:638: UserWarning: Some inputs do not have OOB scores. This probably means too few estimators were used to compute any reliable oob estimates.\n",
      "  warn(\"Some inputs do not have OOB scores. \"\n",
      "/Users/matt/opt/anaconda3/lib/python3.7/site-packages/sklearn/ensemble/_bagging.py:643: RuntimeWarning: invalid value encountered in true_divide\n",
      "  predictions.sum(axis=1)[:, np.newaxis])\n",
      "/Users/matt/opt/anaconda3/lib/python3.7/site-packages/sklearn/ensemble/_bagging.py:638: UserWarning: Some inputs do not have OOB scores. This probably means too few estimators were used to compute any reliable oob estimates.\n",
      "  warn(\"Some inputs do not have OOB scores. \"\n",
      "/Users/matt/opt/anaconda3/lib/python3.7/site-packages/sklearn/ensemble/_bagging.py:643: RuntimeWarning: invalid value encountered in true_divide\n",
      "  predictions.sum(axis=1)[:, np.newaxis])\n",
      "/Users/matt/opt/anaconda3/lib/python3.7/site-packages/sklearn/ensemble/_bagging.py:638: UserWarning: Some inputs do not have OOB scores. This probably means too few estimators were used to compute any reliable oob estimates.\n",
      "  warn(\"Some inputs do not have OOB scores. \"\n",
      "/Users/matt/opt/anaconda3/lib/python3.7/site-packages/sklearn/ensemble/_bagging.py:643: RuntimeWarning: invalid value encountered in true_divide\n",
      "  predictions.sum(axis=1)[:, np.newaxis])\n",
      "/Users/matt/opt/anaconda3/lib/python3.7/site-packages/sklearn/ensemble/_bagging.py:638: UserWarning: Some inputs do not have OOB scores. This probably means too few estimators were used to compute any reliable oob estimates.\n",
      "  warn(\"Some inputs do not have OOB scores. \"\n",
      "/Users/matt/opt/anaconda3/lib/python3.7/site-packages/sklearn/ensemble/_bagging.py:643: RuntimeWarning: invalid value encountered in true_divide\n",
      "  predictions.sum(axis=1)[:, np.newaxis])\n",
      "/Users/matt/opt/anaconda3/lib/python3.7/site-packages/sklearn/ensemble/_bagging.py:638: UserWarning: Some inputs do not have OOB scores. This probably means too few estimators were used to compute any reliable oob estimates.\n",
      "  warn(\"Some inputs do not have OOB scores. \"\n",
      "/Users/matt/opt/anaconda3/lib/python3.7/site-packages/sklearn/ensemble/_bagging.py:643: RuntimeWarning: invalid value encountered in true_divide\n",
      "  predictions.sum(axis=1)[:, np.newaxis])\n",
      "/Users/matt/opt/anaconda3/lib/python3.7/site-packages/sklearn/ensemble/_bagging.py:638: UserWarning: Some inputs do not have OOB scores. This probably means too few estimators were used to compute any reliable oob estimates.\n",
      "  warn(\"Some inputs do not have OOB scores. \"\n",
      "/Users/matt/opt/anaconda3/lib/python3.7/site-packages/sklearn/ensemble/_bagging.py:643: RuntimeWarning: invalid value encountered in true_divide\n",
      "  predictions.sum(axis=1)[:, np.newaxis])\n",
      "/Users/matt/opt/anaconda3/lib/python3.7/site-packages/sklearn/ensemble/_bagging.py:638: UserWarning: Some inputs do not have OOB scores. This probably means too few estimators were used to compute any reliable oob estimates.\n",
      "  warn(\"Some inputs do not have OOB scores. \"\n",
      "/Users/matt/opt/anaconda3/lib/python3.7/site-packages/sklearn/ensemble/_bagging.py:643: RuntimeWarning: invalid value encountered in true_divide\n",
      "  predictions.sum(axis=1)[:, np.newaxis])\n",
      "/Users/matt/opt/anaconda3/lib/python3.7/site-packages/sklearn/ensemble/_bagging.py:638: UserWarning: Some inputs do not have OOB scores. This probably means too few estimators were used to compute any reliable oob estimates.\n",
      "  warn(\"Some inputs do not have OOB scores. \"\n",
      "/Users/matt/opt/anaconda3/lib/python3.7/site-packages/sklearn/ensemble/_bagging.py:643: RuntimeWarning: invalid value encountered in true_divide\n",
      "  predictions.sum(axis=1)[:, np.newaxis])\n",
      "/Users/matt/opt/anaconda3/lib/python3.7/site-packages/sklearn/ensemble/_bagging.py:638: UserWarning: Some inputs do not have OOB scores. This probably means too few estimators were used to compute any reliable oob estimates.\n",
      "  warn(\"Some inputs do not have OOB scores. \"\n",
      "/Users/matt/opt/anaconda3/lib/python3.7/site-packages/sklearn/ensemble/_bagging.py:643: RuntimeWarning: invalid value encountered in true_divide\n",
      "  predictions.sum(axis=1)[:, np.newaxis])\n",
      "/Users/matt/opt/anaconda3/lib/python3.7/site-packages/sklearn/ensemble/_bagging.py:638: UserWarning: Some inputs do not have OOB scores. This probably means too few estimators were used to compute any reliable oob estimates.\n",
      "  warn(\"Some inputs do not have OOB scores. \"\n",
      "/Users/matt/opt/anaconda3/lib/python3.7/site-packages/sklearn/ensemble/_bagging.py:643: RuntimeWarning: invalid value encountered in true_divide\n",
      "  predictions.sum(axis=1)[:, np.newaxis])\n",
      "/Users/matt/opt/anaconda3/lib/python3.7/site-packages/sklearn/ensemble/_bagging.py:638: UserWarning: Some inputs do not have OOB scores. This probably means too few estimators were used to compute any reliable oob estimates.\n",
      "  warn(\"Some inputs do not have OOB scores. \"\n",
      "/Users/matt/opt/anaconda3/lib/python3.7/site-packages/sklearn/ensemble/_bagging.py:643: RuntimeWarning: invalid value encountered in true_divide\n",
      "  predictions.sum(axis=1)[:, np.newaxis])\n",
      "/Users/matt/opt/anaconda3/lib/python3.7/site-packages/sklearn/ensemble/_bagging.py:638: UserWarning: Some inputs do not have OOB scores. This probably means too few estimators were used to compute any reliable oob estimates.\n",
      "  warn(\"Some inputs do not have OOB scores. \"\n",
      "/Users/matt/opt/anaconda3/lib/python3.7/site-packages/sklearn/ensemble/_bagging.py:643: RuntimeWarning: invalid value encountered in true_divide\n",
      "  predictions.sum(axis=1)[:, np.newaxis])\n",
      "/Users/matt/opt/anaconda3/lib/python3.7/site-packages/sklearn/ensemble/_bagging.py:638: UserWarning: Some inputs do not have OOB scores. This probably means too few estimators were used to compute any reliable oob estimates.\n",
      "  warn(\"Some inputs do not have OOB scores. \"\n",
      "/Users/matt/opt/anaconda3/lib/python3.7/site-packages/sklearn/ensemble/_bagging.py:643: RuntimeWarning: invalid value encountered in true_divide\n",
      "  predictions.sum(axis=1)[:, np.newaxis])\n"
     ]
    },
    {
     "name": "stderr",
     "output_type": "stream",
     "text": [
      "/Users/matt/opt/anaconda3/lib/python3.7/site-packages/sklearn/ensemble/_bagging.py:638: UserWarning: Some inputs do not have OOB scores. This probably means too few estimators were used to compute any reliable oob estimates.\n",
      "  warn(\"Some inputs do not have OOB scores. \"\n",
      "/Users/matt/opt/anaconda3/lib/python3.7/site-packages/sklearn/ensemble/_bagging.py:643: RuntimeWarning: invalid value encountered in true_divide\n",
      "  predictions.sum(axis=1)[:, np.newaxis])\n",
      "/Users/matt/opt/anaconda3/lib/python3.7/site-packages/sklearn/ensemble/_bagging.py:638: UserWarning: Some inputs do not have OOB scores. This probably means too few estimators were used to compute any reliable oob estimates.\n",
      "  warn(\"Some inputs do not have OOB scores. \"\n",
      "/Users/matt/opt/anaconda3/lib/python3.7/site-packages/sklearn/ensemble/_bagging.py:643: RuntimeWarning: invalid value encountered in true_divide\n",
      "  predictions.sum(axis=1)[:, np.newaxis])\n",
      "/Users/matt/opt/anaconda3/lib/python3.7/site-packages/sklearn/ensemble/_bagging.py:638: UserWarning: Some inputs do not have OOB scores. This probably means too few estimators were used to compute any reliable oob estimates.\n",
      "  warn(\"Some inputs do not have OOB scores. \"\n",
      "/Users/matt/opt/anaconda3/lib/python3.7/site-packages/sklearn/ensemble/_bagging.py:643: RuntimeWarning: invalid value encountered in true_divide\n",
      "  predictions.sum(axis=1)[:, np.newaxis])\n",
      "/Users/matt/opt/anaconda3/lib/python3.7/site-packages/sklearn/ensemble/_bagging.py:638: UserWarning: Some inputs do not have OOB scores. This probably means too few estimators were used to compute any reliable oob estimates.\n",
      "  warn(\"Some inputs do not have OOB scores. \"\n",
      "/Users/matt/opt/anaconda3/lib/python3.7/site-packages/sklearn/ensemble/_bagging.py:643: RuntimeWarning: invalid value encountered in true_divide\n",
      "  predictions.sum(axis=1)[:, np.newaxis])\n",
      "/Users/matt/opt/anaconda3/lib/python3.7/site-packages/sklearn/ensemble/_bagging.py:638: UserWarning: Some inputs do not have OOB scores. This probably means too few estimators were used to compute any reliable oob estimates.\n",
      "  warn(\"Some inputs do not have OOB scores. \"\n",
      "/Users/matt/opt/anaconda3/lib/python3.7/site-packages/sklearn/ensemble/_bagging.py:643: RuntimeWarning: invalid value encountered in true_divide\n",
      "  predictions.sum(axis=1)[:, np.newaxis])\n",
      "/Users/matt/opt/anaconda3/lib/python3.7/site-packages/sklearn/ensemble/_bagging.py:638: UserWarning: Some inputs do not have OOB scores. This probably means too few estimators were used to compute any reliable oob estimates.\n",
      "  warn(\"Some inputs do not have OOB scores. \"\n",
      "/Users/matt/opt/anaconda3/lib/python3.7/site-packages/sklearn/ensemble/_bagging.py:643: RuntimeWarning: invalid value encountered in true_divide\n",
      "  predictions.sum(axis=1)[:, np.newaxis])\n",
      "/Users/matt/opt/anaconda3/lib/python3.7/site-packages/sklearn/ensemble/_bagging.py:638: UserWarning: Some inputs do not have OOB scores. This probably means too few estimators were used to compute any reliable oob estimates.\n",
      "  warn(\"Some inputs do not have OOB scores. \"\n",
      "/Users/matt/opt/anaconda3/lib/python3.7/site-packages/sklearn/ensemble/_bagging.py:643: RuntimeWarning: invalid value encountered in true_divide\n",
      "  predictions.sum(axis=1)[:, np.newaxis])\n",
      "/Users/matt/opt/anaconda3/lib/python3.7/site-packages/sklearn/ensemble/_bagging.py:638: UserWarning: Some inputs do not have OOB scores. This probably means too few estimators were used to compute any reliable oob estimates.\n",
      "  warn(\"Some inputs do not have OOB scores. \"\n",
      "/Users/matt/opt/anaconda3/lib/python3.7/site-packages/sklearn/ensemble/_bagging.py:643: RuntimeWarning: invalid value encountered in true_divide\n",
      "  predictions.sum(axis=1)[:, np.newaxis])\n",
      "/Users/matt/opt/anaconda3/lib/python3.7/site-packages/sklearn/ensemble/_bagging.py:638: UserWarning: Some inputs do not have OOB scores. This probably means too few estimators were used to compute any reliable oob estimates.\n",
      "  warn(\"Some inputs do not have OOB scores. \"\n",
      "/Users/matt/opt/anaconda3/lib/python3.7/site-packages/sklearn/ensemble/_bagging.py:643: RuntimeWarning: invalid value encountered in true_divide\n",
      "  predictions.sum(axis=1)[:, np.newaxis])\n",
      "/Users/matt/opt/anaconda3/lib/python3.7/site-packages/sklearn/ensemble/_bagging.py:638: UserWarning: Some inputs do not have OOB scores. This probably means too few estimators were used to compute any reliable oob estimates.\n",
      "  warn(\"Some inputs do not have OOB scores. \"\n",
      "/Users/matt/opt/anaconda3/lib/python3.7/site-packages/sklearn/ensemble/_bagging.py:643: RuntimeWarning: invalid value encountered in true_divide\n",
      "  predictions.sum(axis=1)[:, np.newaxis])\n",
      "/Users/matt/opt/anaconda3/lib/python3.7/site-packages/sklearn/ensemble/_bagging.py:638: UserWarning: Some inputs do not have OOB scores. This probably means too few estimators were used to compute any reliable oob estimates.\n",
      "  warn(\"Some inputs do not have OOB scores. \"\n",
      "/Users/matt/opt/anaconda3/lib/python3.7/site-packages/sklearn/ensemble/_bagging.py:643: RuntimeWarning: invalid value encountered in true_divide\n",
      "  predictions.sum(axis=1)[:, np.newaxis])\n",
      "/Users/matt/opt/anaconda3/lib/python3.7/site-packages/sklearn/ensemble/_bagging.py:638: UserWarning: Some inputs do not have OOB scores. This probably means too few estimators were used to compute any reliable oob estimates.\n",
      "  warn(\"Some inputs do not have OOB scores. \"\n",
      "/Users/matt/opt/anaconda3/lib/python3.7/site-packages/sklearn/ensemble/_bagging.py:643: RuntimeWarning: invalid value encountered in true_divide\n",
      "  predictions.sum(axis=1)[:, np.newaxis])\n",
      "/Users/matt/opt/anaconda3/lib/python3.7/site-packages/sklearn/ensemble/_bagging.py:638: UserWarning: Some inputs do not have OOB scores. This probably means too few estimators were used to compute any reliable oob estimates.\n",
      "  warn(\"Some inputs do not have OOB scores. \"\n",
      "/Users/matt/opt/anaconda3/lib/python3.7/site-packages/sklearn/ensemble/_bagging.py:643: RuntimeWarning: invalid value encountered in true_divide\n",
      "  predictions.sum(axis=1)[:, np.newaxis])\n",
      "/Users/matt/opt/anaconda3/lib/python3.7/site-packages/sklearn/ensemble/_bagging.py:638: UserWarning: Some inputs do not have OOB scores. This probably means too few estimators were used to compute any reliable oob estimates.\n",
      "  warn(\"Some inputs do not have OOB scores. \"\n",
      "/Users/matt/opt/anaconda3/lib/python3.7/site-packages/sklearn/ensemble/_bagging.py:643: RuntimeWarning: invalid value encountered in true_divide\n",
      "  predictions.sum(axis=1)[:, np.newaxis])\n",
      "/Users/matt/opt/anaconda3/lib/python3.7/site-packages/sklearn/ensemble/_bagging.py:638: UserWarning: Some inputs do not have OOB scores. This probably means too few estimators were used to compute any reliable oob estimates.\n",
      "  warn(\"Some inputs do not have OOB scores. \"\n",
      "/Users/matt/opt/anaconda3/lib/python3.7/site-packages/sklearn/ensemble/_bagging.py:643: RuntimeWarning: invalid value encountered in true_divide\n",
      "  predictions.sum(axis=1)[:, np.newaxis])\n",
      "/Users/matt/opt/anaconda3/lib/python3.7/site-packages/sklearn/ensemble/_bagging.py:638: UserWarning: Some inputs do not have OOB scores. This probably means too few estimators were used to compute any reliable oob estimates.\n",
      "  warn(\"Some inputs do not have OOB scores. \"\n",
      "/Users/matt/opt/anaconda3/lib/python3.7/site-packages/sklearn/ensemble/_bagging.py:643: RuntimeWarning: invalid value encountered in true_divide\n",
      "  predictions.sum(axis=1)[:, np.newaxis])\n",
      "/Users/matt/opt/anaconda3/lib/python3.7/site-packages/sklearn/ensemble/_bagging.py:638: UserWarning: Some inputs do not have OOB scores. This probably means too few estimators were used to compute any reliable oob estimates.\n",
      "  warn(\"Some inputs do not have OOB scores. \"\n",
      "/Users/matt/opt/anaconda3/lib/python3.7/site-packages/sklearn/ensemble/_bagging.py:643: RuntimeWarning: invalid value encountered in true_divide\n",
      "  predictions.sum(axis=1)[:, np.newaxis])\n",
      "/Users/matt/opt/anaconda3/lib/python3.7/site-packages/sklearn/ensemble/_bagging.py:638: UserWarning: Some inputs do not have OOB scores. This probably means too few estimators were used to compute any reliable oob estimates.\n",
      "  warn(\"Some inputs do not have OOB scores. \"\n",
      "/Users/matt/opt/anaconda3/lib/python3.7/site-packages/sklearn/ensemble/_bagging.py:643: RuntimeWarning: invalid value encountered in true_divide\n",
      "  predictions.sum(axis=1)[:, np.newaxis])\n"
     ]
    },
    {
     "name": "stderr",
     "output_type": "stream",
     "text": [
      "/Users/matt/opt/anaconda3/lib/python3.7/site-packages/sklearn/ensemble/_bagging.py:638: UserWarning: Some inputs do not have OOB scores. This probably means too few estimators were used to compute any reliable oob estimates.\n",
      "  warn(\"Some inputs do not have OOB scores. \"\n",
      "/Users/matt/opt/anaconda3/lib/python3.7/site-packages/sklearn/ensemble/_bagging.py:643: RuntimeWarning: invalid value encountered in true_divide\n",
      "  predictions.sum(axis=1)[:, np.newaxis])\n",
      "/Users/matt/opt/anaconda3/lib/python3.7/site-packages/sklearn/ensemble/_bagging.py:638: UserWarning: Some inputs do not have OOB scores. This probably means too few estimators were used to compute any reliable oob estimates.\n",
      "  warn(\"Some inputs do not have OOB scores. \"\n",
      "/Users/matt/opt/anaconda3/lib/python3.7/site-packages/sklearn/ensemble/_bagging.py:643: RuntimeWarning: invalid value encountered in true_divide\n",
      "  predictions.sum(axis=1)[:, np.newaxis])\n",
      "/Users/matt/opt/anaconda3/lib/python3.7/site-packages/sklearn/ensemble/_bagging.py:638: UserWarning: Some inputs do not have OOB scores. This probably means too few estimators were used to compute any reliable oob estimates.\n",
      "  warn(\"Some inputs do not have OOB scores. \"\n",
      "/Users/matt/opt/anaconda3/lib/python3.7/site-packages/sklearn/ensemble/_bagging.py:643: RuntimeWarning: invalid value encountered in true_divide\n",
      "  predictions.sum(axis=1)[:, np.newaxis])\n",
      "/Users/matt/opt/anaconda3/lib/python3.7/site-packages/sklearn/ensemble/_bagging.py:638: UserWarning: Some inputs do not have OOB scores. This probably means too few estimators were used to compute any reliable oob estimates.\n",
      "  warn(\"Some inputs do not have OOB scores. \"\n",
      "/Users/matt/opt/anaconda3/lib/python3.7/site-packages/sklearn/ensemble/_bagging.py:643: RuntimeWarning: invalid value encountered in true_divide\n",
      "  predictions.sum(axis=1)[:, np.newaxis])\n",
      "/Users/matt/opt/anaconda3/lib/python3.7/site-packages/sklearn/ensemble/_bagging.py:638: UserWarning: Some inputs do not have OOB scores. This probably means too few estimators were used to compute any reliable oob estimates.\n",
      "  warn(\"Some inputs do not have OOB scores. \"\n",
      "/Users/matt/opt/anaconda3/lib/python3.7/site-packages/sklearn/ensemble/_bagging.py:643: RuntimeWarning: invalid value encountered in true_divide\n",
      "  predictions.sum(axis=1)[:, np.newaxis])\n",
      "/Users/matt/opt/anaconda3/lib/python3.7/site-packages/sklearn/ensemble/_bagging.py:638: UserWarning: Some inputs do not have OOB scores. This probably means too few estimators were used to compute any reliable oob estimates.\n",
      "  warn(\"Some inputs do not have OOB scores. \"\n",
      "/Users/matt/opt/anaconda3/lib/python3.7/site-packages/sklearn/ensemble/_bagging.py:643: RuntimeWarning: invalid value encountered in true_divide\n",
      "  predictions.sum(axis=1)[:, np.newaxis])\n",
      "/Users/matt/opt/anaconda3/lib/python3.7/site-packages/sklearn/ensemble/_bagging.py:638: UserWarning: Some inputs do not have OOB scores. This probably means too few estimators were used to compute any reliable oob estimates.\n",
      "  warn(\"Some inputs do not have OOB scores. \"\n",
      "/Users/matt/opt/anaconda3/lib/python3.7/site-packages/sklearn/ensemble/_bagging.py:643: RuntimeWarning: invalid value encountered in true_divide\n",
      "  predictions.sum(axis=1)[:, np.newaxis])\n"
     ]
    },
    {
     "name": "stdout",
     "output_type": "stream",
     "text": [
      "{'max_samples': 0.7, 'n_estimators': 10}\n",
      "CPU times: user 1h 35min 27s, sys: 5min 19s, total: 1h 40min 47s\n",
      "Wall time: 8h 31min 31s\n"
     ]
    }
   ],
   "source": [
    "%%time\n",
    "bagging_logistic = ensemble.BaggingClassifier(logit, \n",
    "                                              max_features = 1.0, \n",
    "                                              oob_score = True, \n",
    "                                              random_state = 2020, \n",
    "                                              n_jobs = -1)\n",
    "\n",
    "fhalf_scorer = metrics.make_scorer(metrics.fbeta_score, beta = 0.5)\n",
    "grid_1 = model_selection.GridSearchCV(bagging_logistic, \n",
    "                                     param_grid = {'n_estimators': [10, 20, 50, 80, 100], \n",
    "                                                   'max_samples':[0.3,0.5,0.7,0.8]}, \n",
    "                                     scoring = fhalf_scorer, cv = 10)\n",
    "grid_1.fit(x_train, y_train)\n",
    "print(grid_1.best_params_)"
   ]
  },
  {
   "cell_type": "markdown",
   "metadata": {},
   "source": [
    "    {'max_samples': 0.7, 'n_estimators': 10}\n",
    "    CPU times: user 1h 35min 27s, sys: 5min 19s, total: 1h 40min 47s\n",
    "    Wall time: 8h 31min 31s"
   ]
  },
  {
   "cell_type": "code",
   "execution_count": 27,
   "metadata": {},
   "outputs": [
    {
     "name": "stderr",
     "output_type": "stream",
     "text": [
      "/Users/matt/opt/anaconda3/lib/python3.7/site-packages/sklearn/ensemble/_bagging.py:638: UserWarning: Some inputs do not have OOB scores. This probably means too few estimators were used to compute any reliable oob estimates.\n",
      "  warn(\"Some inputs do not have OOB scores. \"\n",
      "/Users/matt/opt/anaconda3/lib/python3.7/site-packages/sklearn/ensemble/_bagging.py:643: RuntimeWarning: invalid value encountered in true_divide\n",
      "  predictions.sum(axis=1)[:, np.newaxis])\n"
     ]
    },
    {
     "name": "stdout",
     "output_type": "stream",
     "text": [
      "              model precision    recall    F_beta       AUC\n",
      "0          logistic  0.709613  0.339695  0.459449  0.856003\n",
      "1                DT  0.604286   0.60217  0.603226  0.786499\n",
      "2  bagging-logistic  0.709973  0.339348  0.459208  0.856001\n",
      "CPU times: user 8.4 s, sys: 1.45 s, total: 9.85 s\n",
      "Wall time: 23 s\n"
     ]
    }
   ],
   "source": [
    "%%time\n",
    "# params = grid_1.best_params_\n",
    "# params_n_estimators = params['n_estimators']\n",
    "# params_max_samples = params['max_samples']\n",
    "params_n_estimators = 10\n",
    "params_max_samples = 0.7\n",
    "\n",
    "best_bagging_logistic = ensemble.BaggingClassifier(logit, max_features = 1.0, \n",
    "                                                   max_samples = params_max_samples, \n",
    "                                                   n_estimators = params_n_estimators, \n",
    "                                                   oob_score = True, n_jobs = -1)\n",
    "best_bagging_logistic.fit(x_train, y_train)\n",
    "y_pred = best_bagging_logistic.predict(x_test)\n",
    "y_pred_s = best_bagging_logistic.predict_proba(x_test)[:,1]\n",
    "table = gen_table(table, 'bagging-logistic', y_test, y_pred, y_pred_s)\n",
    "print(table)"
   ]
  },
  {
   "cell_type": "markdown",
   "metadata": {},
   "source": [
    "### 2.3.1 Decision Tree based bagging\n",
    "Parameter setting:\n",
    "\n",
    "    'n_estimators': 100\n",
    "    'max_samples': 0.3"
   ]
  },
  {
   "cell_type": "code",
   "execution_count": 59,
   "metadata": {},
   "outputs": [
    {
     "name": "stderr",
     "output_type": "stream",
     "text": [
      "/Users/matt/opt/anaconda3/lib/python3.7/site-packages/sklearn/ensemble/_bagging.py:638: UserWarning: Some inputs do not have OOB scores. This probably means too few estimators were used to compute any reliable oob estimates.\n",
      "  warn(\"Some inputs do not have OOB scores. \"\n",
      "/Users/matt/opt/anaconda3/lib/python3.7/site-packages/sklearn/ensemble/_bagging.py:643: RuntimeWarning: invalid value encountered in true_divide\n",
      "  predictions.sum(axis=1)[:, np.newaxis])\n",
      "/Users/matt/opt/anaconda3/lib/python3.7/site-packages/sklearn/ensemble/_bagging.py:638: UserWarning: Some inputs do not have OOB scores. This probably means too few estimators were used to compute any reliable oob estimates.\n",
      "  warn(\"Some inputs do not have OOB scores. \"\n",
      "/Users/matt/opt/anaconda3/lib/python3.7/site-packages/sklearn/ensemble/_bagging.py:643: RuntimeWarning: invalid value encountered in true_divide\n",
      "  predictions.sum(axis=1)[:, np.newaxis])\n",
      "/Users/matt/opt/anaconda3/lib/python3.7/site-packages/sklearn/ensemble/_bagging.py:638: UserWarning: Some inputs do not have OOB scores. This probably means too few estimators were used to compute any reliable oob estimates.\n",
      "  warn(\"Some inputs do not have OOB scores. \"\n",
      "/Users/matt/opt/anaconda3/lib/python3.7/site-packages/sklearn/ensemble/_bagging.py:643: RuntimeWarning: invalid value encountered in true_divide\n",
      "  predictions.sum(axis=1)[:, np.newaxis])\n",
      "/Users/matt/opt/anaconda3/lib/python3.7/site-packages/sklearn/ensemble/_bagging.py:638: UserWarning: Some inputs do not have OOB scores. This probably means too few estimators were used to compute any reliable oob estimates.\n",
      "  warn(\"Some inputs do not have OOB scores. \"\n",
      "/Users/matt/opt/anaconda3/lib/python3.7/site-packages/sklearn/ensemble/_bagging.py:643: RuntimeWarning: invalid value encountered in true_divide\n",
      "  predictions.sum(axis=1)[:, np.newaxis])\n",
      "/Users/matt/opt/anaconda3/lib/python3.7/site-packages/sklearn/ensemble/_bagging.py:638: UserWarning: Some inputs do not have OOB scores. This probably means too few estimators were used to compute any reliable oob estimates.\n",
      "  warn(\"Some inputs do not have OOB scores. \"\n",
      "/Users/matt/opt/anaconda3/lib/python3.7/site-packages/sklearn/ensemble/_bagging.py:643: RuntimeWarning: invalid value encountered in true_divide\n",
      "  predictions.sum(axis=1)[:, np.newaxis])\n",
      "/Users/matt/opt/anaconda3/lib/python3.7/site-packages/sklearn/ensemble/_bagging.py:638: UserWarning: Some inputs do not have OOB scores. This probably means too few estimators were used to compute any reliable oob estimates.\n",
      "  warn(\"Some inputs do not have OOB scores. \"\n",
      "/Users/matt/opt/anaconda3/lib/python3.7/site-packages/sklearn/ensemble/_bagging.py:643: RuntimeWarning: invalid value encountered in true_divide\n",
      "  predictions.sum(axis=1)[:, np.newaxis])\n",
      "/Users/matt/opt/anaconda3/lib/python3.7/site-packages/sklearn/ensemble/_bagging.py:638: UserWarning: Some inputs do not have OOB scores. This probably means too few estimators were used to compute any reliable oob estimates.\n",
      "  warn(\"Some inputs do not have OOB scores. \"\n",
      "/Users/matt/opt/anaconda3/lib/python3.7/site-packages/sklearn/ensemble/_bagging.py:643: RuntimeWarning: invalid value encountered in true_divide\n",
      "  predictions.sum(axis=1)[:, np.newaxis])\n",
      "/Users/matt/opt/anaconda3/lib/python3.7/site-packages/sklearn/ensemble/_bagging.py:638: UserWarning: Some inputs do not have OOB scores. This probably means too few estimators were used to compute any reliable oob estimates.\n",
      "  warn(\"Some inputs do not have OOB scores. \"\n",
      "/Users/matt/opt/anaconda3/lib/python3.7/site-packages/sklearn/ensemble/_bagging.py:643: RuntimeWarning: invalid value encountered in true_divide\n",
      "  predictions.sum(axis=1)[:, np.newaxis])\n",
      "/Users/matt/opt/anaconda3/lib/python3.7/site-packages/sklearn/ensemble/_bagging.py:638: UserWarning: Some inputs do not have OOB scores. This probably means too few estimators were used to compute any reliable oob estimates.\n",
      "  warn(\"Some inputs do not have OOB scores. \"\n",
      "/Users/matt/opt/anaconda3/lib/python3.7/site-packages/sklearn/ensemble/_bagging.py:643: RuntimeWarning: invalid value encountered in true_divide\n",
      "  predictions.sum(axis=1)[:, np.newaxis])\n",
      "/Users/matt/opt/anaconda3/lib/python3.7/site-packages/sklearn/ensemble/_bagging.py:638: UserWarning: Some inputs do not have OOB scores. This probably means too few estimators were used to compute any reliable oob estimates.\n",
      "  warn(\"Some inputs do not have OOB scores. \"\n",
      "/Users/matt/opt/anaconda3/lib/python3.7/site-packages/sklearn/ensemble/_bagging.py:643: RuntimeWarning: invalid value encountered in true_divide\n",
      "  predictions.sum(axis=1)[:, np.newaxis])\n",
      "/Users/matt/opt/anaconda3/lib/python3.7/site-packages/sklearn/ensemble/_bagging.py:638: UserWarning: Some inputs do not have OOB scores. This probably means too few estimators were used to compute any reliable oob estimates.\n",
      "  warn(\"Some inputs do not have OOB scores. \"\n",
      "/Users/matt/opt/anaconda3/lib/python3.7/site-packages/sklearn/ensemble/_bagging.py:643: RuntimeWarning: invalid value encountered in true_divide\n",
      "  predictions.sum(axis=1)[:, np.newaxis])\n",
      "/Users/matt/opt/anaconda3/lib/python3.7/site-packages/sklearn/ensemble/_bagging.py:638: UserWarning: Some inputs do not have OOB scores. This probably means too few estimators were used to compute any reliable oob estimates.\n",
      "  warn(\"Some inputs do not have OOB scores. \"\n",
      "/Users/matt/opt/anaconda3/lib/python3.7/site-packages/sklearn/ensemble/_bagging.py:643: RuntimeWarning: invalid value encountered in true_divide\n",
      "  predictions.sum(axis=1)[:, np.newaxis])\n",
      "/Users/matt/opt/anaconda3/lib/python3.7/site-packages/sklearn/ensemble/_bagging.py:638: UserWarning: Some inputs do not have OOB scores. This probably means too few estimators were used to compute any reliable oob estimates.\n",
      "  warn(\"Some inputs do not have OOB scores. \"\n",
      "/Users/matt/opt/anaconda3/lib/python3.7/site-packages/sklearn/ensemble/_bagging.py:643: RuntimeWarning: invalid value encountered in true_divide\n",
      "  predictions.sum(axis=1)[:, np.newaxis])\n",
      "/Users/matt/opt/anaconda3/lib/python3.7/site-packages/sklearn/ensemble/_bagging.py:638: UserWarning: Some inputs do not have OOB scores. This probably means too few estimators were used to compute any reliable oob estimates.\n",
      "  warn(\"Some inputs do not have OOB scores. \"\n",
      "/Users/matt/opt/anaconda3/lib/python3.7/site-packages/sklearn/ensemble/_bagging.py:643: RuntimeWarning: invalid value encountered in true_divide\n",
      "  predictions.sum(axis=1)[:, np.newaxis])\n",
      "/Users/matt/opt/anaconda3/lib/python3.7/site-packages/sklearn/ensemble/_bagging.py:638: UserWarning: Some inputs do not have OOB scores. This probably means too few estimators were used to compute any reliable oob estimates.\n",
      "  warn(\"Some inputs do not have OOB scores. \"\n",
      "/Users/matt/opt/anaconda3/lib/python3.7/site-packages/sklearn/ensemble/_bagging.py:643: RuntimeWarning: invalid value encountered in true_divide\n",
      "  predictions.sum(axis=1)[:, np.newaxis])\n",
      "/Users/matt/opt/anaconda3/lib/python3.7/site-packages/sklearn/ensemble/_bagging.py:638: UserWarning: Some inputs do not have OOB scores. This probably means too few estimators were used to compute any reliable oob estimates.\n",
      "  warn(\"Some inputs do not have OOB scores. \"\n",
      "/Users/matt/opt/anaconda3/lib/python3.7/site-packages/sklearn/ensemble/_bagging.py:643: RuntimeWarning: invalid value encountered in true_divide\n",
      "  predictions.sum(axis=1)[:, np.newaxis])\n",
      "/Users/matt/opt/anaconda3/lib/python3.7/site-packages/sklearn/ensemble/_bagging.py:638: UserWarning: Some inputs do not have OOB scores. This probably means too few estimators were used to compute any reliable oob estimates.\n",
      "  warn(\"Some inputs do not have OOB scores. \"\n",
      "/Users/matt/opt/anaconda3/lib/python3.7/site-packages/sklearn/ensemble/_bagging.py:643: RuntimeWarning: invalid value encountered in true_divide\n",
      "  predictions.sum(axis=1)[:, np.newaxis])\n",
      "/Users/matt/opt/anaconda3/lib/python3.7/site-packages/sklearn/ensemble/_bagging.py:638: UserWarning: Some inputs do not have OOB scores. This probably means too few estimators were used to compute any reliable oob estimates.\n",
      "  warn(\"Some inputs do not have OOB scores. \"\n",
      "/Users/matt/opt/anaconda3/lib/python3.7/site-packages/sklearn/ensemble/_bagging.py:643: RuntimeWarning: invalid value encountered in true_divide\n",
      "  predictions.sum(axis=1)[:, np.newaxis])\n"
     ]
    },
    {
     "name": "stderr",
     "output_type": "stream",
     "text": [
      "/Users/matt/opt/anaconda3/lib/python3.7/site-packages/sklearn/ensemble/_bagging.py:638: UserWarning: Some inputs do not have OOB scores. This probably means too few estimators were used to compute any reliable oob estimates.\n",
      "  warn(\"Some inputs do not have OOB scores. \"\n",
      "/Users/matt/opt/anaconda3/lib/python3.7/site-packages/sklearn/ensemble/_bagging.py:643: RuntimeWarning: invalid value encountered in true_divide\n",
      "  predictions.sum(axis=1)[:, np.newaxis])\n",
      "/Users/matt/opt/anaconda3/lib/python3.7/site-packages/sklearn/ensemble/_bagging.py:638: UserWarning: Some inputs do not have OOB scores. This probably means too few estimators were used to compute any reliable oob estimates.\n",
      "  warn(\"Some inputs do not have OOB scores. \"\n",
      "/Users/matt/opt/anaconda3/lib/python3.7/site-packages/sklearn/ensemble/_bagging.py:643: RuntimeWarning: invalid value encountered in true_divide\n",
      "  predictions.sum(axis=1)[:, np.newaxis])\n",
      "/Users/matt/opt/anaconda3/lib/python3.7/site-packages/sklearn/ensemble/_bagging.py:638: UserWarning: Some inputs do not have OOB scores. This probably means too few estimators were used to compute any reliable oob estimates.\n",
      "  warn(\"Some inputs do not have OOB scores. \"\n",
      "/Users/matt/opt/anaconda3/lib/python3.7/site-packages/sklearn/ensemble/_bagging.py:643: RuntimeWarning: invalid value encountered in true_divide\n",
      "  predictions.sum(axis=1)[:, np.newaxis])\n",
      "/Users/matt/opt/anaconda3/lib/python3.7/site-packages/sklearn/ensemble/_bagging.py:638: UserWarning: Some inputs do not have OOB scores. This probably means too few estimators were used to compute any reliable oob estimates.\n",
      "  warn(\"Some inputs do not have OOB scores. \"\n",
      "/Users/matt/opt/anaconda3/lib/python3.7/site-packages/sklearn/ensemble/_bagging.py:643: RuntimeWarning: invalid value encountered in true_divide\n",
      "  predictions.sum(axis=1)[:, np.newaxis])\n",
      "/Users/matt/opt/anaconda3/lib/python3.7/site-packages/sklearn/ensemble/_bagging.py:638: UserWarning: Some inputs do not have OOB scores. This probably means too few estimators were used to compute any reliable oob estimates.\n",
      "  warn(\"Some inputs do not have OOB scores. \"\n",
      "/Users/matt/opt/anaconda3/lib/python3.7/site-packages/sklearn/ensemble/_bagging.py:643: RuntimeWarning: invalid value encountered in true_divide\n",
      "  predictions.sum(axis=1)[:, np.newaxis])\n",
      "/Users/matt/opt/anaconda3/lib/python3.7/site-packages/sklearn/ensemble/_bagging.py:638: UserWarning: Some inputs do not have OOB scores. This probably means too few estimators were used to compute any reliable oob estimates.\n",
      "  warn(\"Some inputs do not have OOB scores. \"\n",
      "/Users/matt/opt/anaconda3/lib/python3.7/site-packages/sklearn/ensemble/_bagging.py:643: RuntimeWarning: invalid value encountered in true_divide\n",
      "  predictions.sum(axis=1)[:, np.newaxis])\n",
      "/Users/matt/opt/anaconda3/lib/python3.7/site-packages/sklearn/ensemble/_bagging.py:638: UserWarning: Some inputs do not have OOB scores. This probably means too few estimators were used to compute any reliable oob estimates.\n",
      "  warn(\"Some inputs do not have OOB scores. \"\n",
      "/Users/matt/opt/anaconda3/lib/python3.7/site-packages/sklearn/ensemble/_bagging.py:643: RuntimeWarning: invalid value encountered in true_divide\n",
      "  predictions.sum(axis=1)[:, np.newaxis])\n",
      "/Users/matt/opt/anaconda3/lib/python3.7/site-packages/sklearn/ensemble/_bagging.py:638: UserWarning: Some inputs do not have OOB scores. This probably means too few estimators were used to compute any reliable oob estimates.\n",
      "  warn(\"Some inputs do not have OOB scores. \"\n",
      "/Users/matt/opt/anaconda3/lib/python3.7/site-packages/sklearn/ensemble/_bagging.py:643: RuntimeWarning: invalid value encountered in true_divide\n",
      "  predictions.sum(axis=1)[:, np.newaxis])\n",
      "/Users/matt/opt/anaconda3/lib/python3.7/site-packages/sklearn/ensemble/_bagging.py:638: UserWarning: Some inputs do not have OOB scores. This probably means too few estimators were used to compute any reliable oob estimates.\n",
      "  warn(\"Some inputs do not have OOB scores. \"\n",
      "/Users/matt/opt/anaconda3/lib/python3.7/site-packages/sklearn/ensemble/_bagging.py:643: RuntimeWarning: invalid value encountered in true_divide\n",
      "  predictions.sum(axis=1)[:, np.newaxis])\n",
      "/Users/matt/opt/anaconda3/lib/python3.7/site-packages/sklearn/ensemble/_bagging.py:638: UserWarning: Some inputs do not have OOB scores. This probably means too few estimators were used to compute any reliable oob estimates.\n",
      "  warn(\"Some inputs do not have OOB scores. \"\n",
      "/Users/matt/opt/anaconda3/lib/python3.7/site-packages/sklearn/ensemble/_bagging.py:643: RuntimeWarning: invalid value encountered in true_divide\n",
      "  predictions.sum(axis=1)[:, np.newaxis])\n",
      "/Users/matt/opt/anaconda3/lib/python3.7/site-packages/sklearn/ensemble/_bagging.py:638: UserWarning: Some inputs do not have OOB scores. This probably means too few estimators were used to compute any reliable oob estimates.\n",
      "  warn(\"Some inputs do not have OOB scores. \"\n",
      "/Users/matt/opt/anaconda3/lib/python3.7/site-packages/sklearn/ensemble/_bagging.py:643: RuntimeWarning: invalid value encountered in true_divide\n",
      "  predictions.sum(axis=1)[:, np.newaxis])\n",
      "/Users/matt/opt/anaconda3/lib/python3.7/site-packages/sklearn/ensemble/_bagging.py:638: UserWarning: Some inputs do not have OOB scores. This probably means too few estimators were used to compute any reliable oob estimates.\n",
      "  warn(\"Some inputs do not have OOB scores. \"\n",
      "/Users/matt/opt/anaconda3/lib/python3.7/site-packages/sklearn/ensemble/_bagging.py:643: RuntimeWarning: invalid value encountered in true_divide\n",
      "  predictions.sum(axis=1)[:, np.newaxis])\n",
      "/Users/matt/opt/anaconda3/lib/python3.7/site-packages/sklearn/ensemble/_bagging.py:638: UserWarning: Some inputs do not have OOB scores. This probably means too few estimators were used to compute any reliable oob estimates.\n",
      "  warn(\"Some inputs do not have OOB scores. \"\n",
      "/Users/matt/opt/anaconda3/lib/python3.7/site-packages/sklearn/ensemble/_bagging.py:643: RuntimeWarning: invalid value encountered in true_divide\n",
      "  predictions.sum(axis=1)[:, np.newaxis])\n",
      "/Users/matt/opt/anaconda3/lib/python3.7/site-packages/sklearn/ensemble/_bagging.py:638: UserWarning: Some inputs do not have OOB scores. This probably means too few estimators were used to compute any reliable oob estimates.\n",
      "  warn(\"Some inputs do not have OOB scores. \"\n",
      "/Users/matt/opt/anaconda3/lib/python3.7/site-packages/sklearn/ensemble/_bagging.py:643: RuntimeWarning: invalid value encountered in true_divide\n",
      "  predictions.sum(axis=1)[:, np.newaxis])\n",
      "/Users/matt/opt/anaconda3/lib/python3.7/site-packages/sklearn/ensemble/_bagging.py:638: UserWarning: Some inputs do not have OOB scores. This probably means too few estimators were used to compute any reliable oob estimates.\n",
      "  warn(\"Some inputs do not have OOB scores. \"\n",
      "/Users/matt/opt/anaconda3/lib/python3.7/site-packages/sklearn/ensemble/_bagging.py:643: RuntimeWarning: invalid value encountered in true_divide\n",
      "  predictions.sum(axis=1)[:, np.newaxis])\n",
      "/Users/matt/opt/anaconda3/lib/python3.7/site-packages/sklearn/ensemble/_bagging.py:638: UserWarning: Some inputs do not have OOB scores. This probably means too few estimators were used to compute any reliable oob estimates.\n",
      "  warn(\"Some inputs do not have OOB scores. \"\n",
      "/Users/matt/opt/anaconda3/lib/python3.7/site-packages/sklearn/ensemble/_bagging.py:643: RuntimeWarning: invalid value encountered in true_divide\n",
      "  predictions.sum(axis=1)[:, np.newaxis])\n",
      "/Users/matt/opt/anaconda3/lib/python3.7/site-packages/sklearn/ensemble/_bagging.py:638: UserWarning: Some inputs do not have OOB scores. This probably means too few estimators were used to compute any reliable oob estimates.\n",
      "  warn(\"Some inputs do not have OOB scores. \"\n",
      "/Users/matt/opt/anaconda3/lib/python3.7/site-packages/sklearn/ensemble/_bagging.py:643: RuntimeWarning: invalid value encountered in true_divide\n",
      "  predictions.sum(axis=1)[:, np.newaxis])\n",
      "/Users/matt/opt/anaconda3/lib/python3.7/site-packages/sklearn/ensemble/_bagging.py:638: UserWarning: Some inputs do not have OOB scores. This probably means too few estimators were used to compute any reliable oob estimates.\n",
      "  warn(\"Some inputs do not have OOB scores. \"\n",
      "/Users/matt/opt/anaconda3/lib/python3.7/site-packages/sklearn/ensemble/_bagging.py:643: RuntimeWarning: invalid value encountered in true_divide\n",
      "  predictions.sum(axis=1)[:, np.newaxis])\n"
     ]
    },
    {
     "name": "stderr",
     "output_type": "stream",
     "text": [
      "/Users/matt/opt/anaconda3/lib/python3.7/site-packages/sklearn/ensemble/_bagging.py:638: UserWarning: Some inputs do not have OOB scores. This probably means too few estimators were used to compute any reliable oob estimates.\n",
      "  warn(\"Some inputs do not have OOB scores. \"\n",
      "/Users/matt/opt/anaconda3/lib/python3.7/site-packages/sklearn/ensemble/_bagging.py:643: RuntimeWarning: invalid value encountered in true_divide\n",
      "  predictions.sum(axis=1)[:, np.newaxis])\n",
      "/Users/matt/opt/anaconda3/lib/python3.7/site-packages/sklearn/ensemble/_bagging.py:638: UserWarning: Some inputs do not have OOB scores. This probably means too few estimators were used to compute any reliable oob estimates.\n",
      "  warn(\"Some inputs do not have OOB scores. \"\n",
      "/Users/matt/opt/anaconda3/lib/python3.7/site-packages/sklearn/ensemble/_bagging.py:643: RuntimeWarning: invalid value encountered in true_divide\n",
      "  predictions.sum(axis=1)[:, np.newaxis])\n",
      "/Users/matt/opt/anaconda3/lib/python3.7/site-packages/sklearn/ensemble/_bagging.py:638: UserWarning: Some inputs do not have OOB scores. This probably means too few estimators were used to compute any reliable oob estimates.\n",
      "  warn(\"Some inputs do not have OOB scores. \"\n",
      "/Users/matt/opt/anaconda3/lib/python3.7/site-packages/sklearn/ensemble/_bagging.py:643: RuntimeWarning: invalid value encountered in true_divide\n",
      "  predictions.sum(axis=1)[:, np.newaxis])\n",
      "/Users/matt/opt/anaconda3/lib/python3.7/site-packages/sklearn/ensemble/_bagging.py:638: UserWarning: Some inputs do not have OOB scores. This probably means too few estimators were used to compute any reliable oob estimates.\n",
      "  warn(\"Some inputs do not have OOB scores. \"\n",
      "/Users/matt/opt/anaconda3/lib/python3.7/site-packages/sklearn/ensemble/_bagging.py:643: RuntimeWarning: invalid value encountered in true_divide\n",
      "  predictions.sum(axis=1)[:, np.newaxis])\n",
      "/Users/matt/opt/anaconda3/lib/python3.7/site-packages/sklearn/ensemble/_bagging.py:638: UserWarning: Some inputs do not have OOB scores. This probably means too few estimators were used to compute any reliable oob estimates.\n",
      "  warn(\"Some inputs do not have OOB scores. \"\n",
      "/Users/matt/opt/anaconda3/lib/python3.7/site-packages/sklearn/ensemble/_bagging.py:643: RuntimeWarning: invalid value encountered in true_divide\n",
      "  predictions.sum(axis=1)[:, np.newaxis])\n",
      "/Users/matt/opt/anaconda3/lib/python3.7/site-packages/sklearn/ensemble/_bagging.py:638: UserWarning: Some inputs do not have OOB scores. This probably means too few estimators were used to compute any reliable oob estimates.\n",
      "  warn(\"Some inputs do not have OOB scores. \"\n",
      "/Users/matt/opt/anaconda3/lib/python3.7/site-packages/sklearn/ensemble/_bagging.py:643: RuntimeWarning: invalid value encountered in true_divide\n",
      "  predictions.sum(axis=1)[:, np.newaxis])\n",
      "/Users/matt/opt/anaconda3/lib/python3.7/site-packages/sklearn/ensemble/_bagging.py:638: UserWarning: Some inputs do not have OOB scores. This probably means too few estimators were used to compute any reliable oob estimates.\n",
      "  warn(\"Some inputs do not have OOB scores. \"\n",
      "/Users/matt/opt/anaconda3/lib/python3.7/site-packages/sklearn/ensemble/_bagging.py:643: RuntimeWarning: invalid value encountered in true_divide\n",
      "  predictions.sum(axis=1)[:, np.newaxis])\n",
      "/Users/matt/opt/anaconda3/lib/python3.7/site-packages/sklearn/ensemble/_bagging.py:638: UserWarning: Some inputs do not have OOB scores. This probably means too few estimators were used to compute any reliable oob estimates.\n",
      "  warn(\"Some inputs do not have OOB scores. \"\n",
      "/Users/matt/opt/anaconda3/lib/python3.7/site-packages/sklearn/ensemble/_bagging.py:643: RuntimeWarning: invalid value encountered in true_divide\n",
      "  predictions.sum(axis=1)[:, np.newaxis])\n",
      "/Users/matt/opt/anaconda3/lib/python3.7/site-packages/sklearn/ensemble/_bagging.py:638: UserWarning: Some inputs do not have OOB scores. This probably means too few estimators were used to compute any reliable oob estimates.\n",
      "  warn(\"Some inputs do not have OOB scores. \"\n",
      "/Users/matt/opt/anaconda3/lib/python3.7/site-packages/sklearn/ensemble/_bagging.py:643: RuntimeWarning: invalid value encountered in true_divide\n",
      "  predictions.sum(axis=1)[:, np.newaxis])\n",
      "/Users/matt/opt/anaconda3/lib/python3.7/site-packages/sklearn/ensemble/_bagging.py:638: UserWarning: Some inputs do not have OOB scores. This probably means too few estimators were used to compute any reliable oob estimates.\n",
      "  warn(\"Some inputs do not have OOB scores. \"\n",
      "/Users/matt/opt/anaconda3/lib/python3.7/site-packages/sklearn/ensemble/_bagging.py:643: RuntimeWarning: invalid value encountered in true_divide\n",
      "  predictions.sum(axis=1)[:, np.newaxis])\n",
      "/Users/matt/opt/anaconda3/lib/python3.7/site-packages/sklearn/ensemble/_bagging.py:638: UserWarning: Some inputs do not have OOB scores. This probably means too few estimators were used to compute any reliable oob estimates.\n",
      "  warn(\"Some inputs do not have OOB scores. \"\n",
      "/Users/matt/opt/anaconda3/lib/python3.7/site-packages/sklearn/ensemble/_bagging.py:643: RuntimeWarning: invalid value encountered in true_divide\n",
      "  predictions.sum(axis=1)[:, np.newaxis])\n",
      "/Users/matt/opt/anaconda3/lib/python3.7/site-packages/sklearn/ensemble/_bagging.py:638: UserWarning: Some inputs do not have OOB scores. This probably means too few estimators were used to compute any reliable oob estimates.\n",
      "  warn(\"Some inputs do not have OOB scores. \"\n",
      "/Users/matt/opt/anaconda3/lib/python3.7/site-packages/sklearn/ensemble/_bagging.py:643: RuntimeWarning: invalid value encountered in true_divide\n",
      "  predictions.sum(axis=1)[:, np.newaxis])\n",
      "/Users/matt/opt/anaconda3/lib/python3.7/site-packages/sklearn/ensemble/_bagging.py:638: UserWarning: Some inputs do not have OOB scores. This probably means too few estimators were used to compute any reliable oob estimates.\n",
      "  warn(\"Some inputs do not have OOB scores. \"\n",
      "/Users/matt/opt/anaconda3/lib/python3.7/site-packages/sklearn/ensemble/_bagging.py:643: RuntimeWarning: invalid value encountered in true_divide\n",
      "  predictions.sum(axis=1)[:, np.newaxis])\n",
      "/Users/matt/opt/anaconda3/lib/python3.7/site-packages/sklearn/ensemble/_bagging.py:638: UserWarning: Some inputs do not have OOB scores. This probably means too few estimators were used to compute any reliable oob estimates.\n",
      "  warn(\"Some inputs do not have OOB scores. \"\n",
      "/Users/matt/opt/anaconda3/lib/python3.7/site-packages/sklearn/ensemble/_bagging.py:643: RuntimeWarning: invalid value encountered in true_divide\n",
      "  predictions.sum(axis=1)[:, np.newaxis])\n",
      "/Users/matt/opt/anaconda3/lib/python3.7/site-packages/sklearn/ensemble/_bagging.py:638: UserWarning: Some inputs do not have OOB scores. This probably means too few estimators were used to compute any reliable oob estimates.\n",
      "  warn(\"Some inputs do not have OOB scores. \"\n",
      "/Users/matt/opt/anaconda3/lib/python3.7/site-packages/sklearn/ensemble/_bagging.py:643: RuntimeWarning: invalid value encountered in true_divide\n",
      "  predictions.sum(axis=1)[:, np.newaxis])\n",
      "/Users/matt/opt/anaconda3/lib/python3.7/site-packages/sklearn/ensemble/_bagging.py:638: UserWarning: Some inputs do not have OOB scores. This probably means too few estimators were used to compute any reliable oob estimates.\n",
      "  warn(\"Some inputs do not have OOB scores. \"\n",
      "/Users/matt/opt/anaconda3/lib/python3.7/site-packages/sklearn/ensemble/_bagging.py:643: RuntimeWarning: invalid value encountered in true_divide\n",
      "  predictions.sum(axis=1)[:, np.newaxis])\n",
      "/Users/matt/opt/anaconda3/lib/python3.7/site-packages/sklearn/ensemble/_bagging.py:638: UserWarning: Some inputs do not have OOB scores. This probably means too few estimators were used to compute any reliable oob estimates.\n",
      "  warn(\"Some inputs do not have OOB scores. \"\n",
      "/Users/matt/opt/anaconda3/lib/python3.7/site-packages/sklearn/ensemble/_bagging.py:643: RuntimeWarning: invalid value encountered in true_divide\n",
      "  predictions.sum(axis=1)[:, np.newaxis])\n",
      "/Users/matt/opt/anaconda3/lib/python3.7/site-packages/sklearn/ensemble/_bagging.py:638: UserWarning: Some inputs do not have OOB scores. This probably means too few estimators were used to compute any reliable oob estimates.\n",
      "  warn(\"Some inputs do not have OOB scores. \"\n",
      "/Users/matt/opt/anaconda3/lib/python3.7/site-packages/sklearn/ensemble/_bagging.py:643: RuntimeWarning: invalid value encountered in true_divide\n",
      "  predictions.sum(axis=1)[:, np.newaxis])\n"
     ]
    },
    {
     "name": "stderr",
     "output_type": "stream",
     "text": [
      "/Users/matt/opt/anaconda3/lib/python3.7/site-packages/sklearn/ensemble/_bagging.py:638: UserWarning: Some inputs do not have OOB scores. This probably means too few estimators were used to compute any reliable oob estimates.\n",
      "  warn(\"Some inputs do not have OOB scores. \"\n",
      "/Users/matt/opt/anaconda3/lib/python3.7/site-packages/sklearn/ensemble/_bagging.py:643: RuntimeWarning: invalid value encountered in true_divide\n",
      "  predictions.sum(axis=1)[:, np.newaxis])\n",
      "/Users/matt/opt/anaconda3/lib/python3.7/site-packages/sklearn/ensemble/_bagging.py:638: UserWarning: Some inputs do not have OOB scores. This probably means too few estimators were used to compute any reliable oob estimates.\n",
      "  warn(\"Some inputs do not have OOB scores. \"\n",
      "/Users/matt/opt/anaconda3/lib/python3.7/site-packages/sklearn/ensemble/_bagging.py:643: RuntimeWarning: invalid value encountered in true_divide\n",
      "  predictions.sum(axis=1)[:, np.newaxis])\n",
      "/Users/matt/opt/anaconda3/lib/python3.7/site-packages/sklearn/ensemble/_bagging.py:638: UserWarning: Some inputs do not have OOB scores. This probably means too few estimators were used to compute any reliable oob estimates.\n",
      "  warn(\"Some inputs do not have OOB scores. \"\n",
      "/Users/matt/opt/anaconda3/lib/python3.7/site-packages/sklearn/ensemble/_bagging.py:643: RuntimeWarning: invalid value encountered in true_divide\n",
      "  predictions.sum(axis=1)[:, np.newaxis])\n",
      "/Users/matt/opt/anaconda3/lib/python3.7/site-packages/sklearn/ensemble/_bagging.py:638: UserWarning: Some inputs do not have OOB scores. This probably means too few estimators were used to compute any reliable oob estimates.\n",
      "  warn(\"Some inputs do not have OOB scores. \"\n",
      "/Users/matt/opt/anaconda3/lib/python3.7/site-packages/sklearn/ensemble/_bagging.py:643: RuntimeWarning: invalid value encountered in true_divide\n",
      "  predictions.sum(axis=1)[:, np.newaxis])\n",
      "/Users/matt/opt/anaconda3/lib/python3.7/site-packages/sklearn/ensemble/_bagging.py:638: UserWarning: Some inputs do not have OOB scores. This probably means too few estimators were used to compute any reliable oob estimates.\n",
      "  warn(\"Some inputs do not have OOB scores. \"\n",
      "/Users/matt/opt/anaconda3/lib/python3.7/site-packages/sklearn/ensemble/_bagging.py:643: RuntimeWarning: invalid value encountered in true_divide\n",
      "  predictions.sum(axis=1)[:, np.newaxis])\n",
      "/Users/matt/opt/anaconda3/lib/python3.7/site-packages/sklearn/ensemble/_bagging.py:638: UserWarning: Some inputs do not have OOB scores. This probably means too few estimators were used to compute any reliable oob estimates.\n",
      "  warn(\"Some inputs do not have OOB scores. \"\n",
      "/Users/matt/opt/anaconda3/lib/python3.7/site-packages/sklearn/ensemble/_bagging.py:643: RuntimeWarning: invalid value encountered in true_divide\n",
      "  predictions.sum(axis=1)[:, np.newaxis])\n"
     ]
    },
    {
     "name": "stdout",
     "output_type": "stream",
     "text": [
      "{'max_samples': 0.3, 'n_estimators': 100}\n",
      "CPU times: user 46min 53s, sys: 5min 30s, total: 52min 23s\n",
      "Wall time: 3h 43min 16s\n"
     ]
    }
   ],
   "source": [
    "%%time\n",
    "bagging_DT = ensemble.BaggingClassifier(DT, \n",
    "                                        max_features = 1.0, \n",
    "                                        oob_score = True, \n",
    "                                        random_state = 2020, \n",
    "                                        n_jobs = -1)\n",
    "\n",
    "fhalf_scorer = metrics.make_scorer(metrics.fbeta_score, beta = 0.5)\n",
    "grid_2 = model_selection.GridSearchCV(bagging_DT, \n",
    "                                     param_grid = {'n_estimators': [10, 20, 50, 80, 100], \n",
    "                                                   'max_samples':[0.3,0.5,0.7,0.8]}, \n",
    "                                     scoring = fhalf_scorer, cv = 10)\n",
    "grid_2.fit(x_train, y_train)\n",
    "print(grid_2.best_params_)"
   ]
  },
  {
   "cell_type": "markdown",
   "metadata": {},
   "source": [
    "    {'max_samples': 0.3, 'n_estimators': 100}\n",
    "    CPU times: user 46min 53s, sys: 5min 30s, total: 52min 23s\n",
    "    Wall time: 3h 43min 16s"
   ]
  },
  {
   "cell_type": "code",
   "execution_count": 28,
   "metadata": {},
   "outputs": [
    {
     "name": "stdout",
     "output_type": "stream",
     "text": [
      "              model precision    recall    F_beta       AUC\n",
      "0          logistic  0.709613  0.339695  0.459449  0.856003\n",
      "1                DT  0.604286   0.60217  0.603226  0.786499\n",
      "2  bagging-logistic  0.709973  0.339348  0.459208  0.856001\n",
      "3        bagging-DT  0.741219  0.685237  0.712129  0.948858\n",
      "CPU times: user 48.8 s, sys: 6.73 s, total: 55.5 s\n",
      "Wall time: 4min 46s\n"
     ]
    }
   ],
   "source": [
    "%%time\n",
    "# params = grid_2.best_params_\n",
    "# params_n_estimators = params['n_estimators']\n",
    "# params_max_samples = params['max_samples']\n",
    "params_n_estimators = 100\n",
    "params_max_samples = 0.3\n",
    "\n",
    "best_bagging_DT = ensemble.BaggingClassifier(DT, max_features = 1.0, \n",
    "                                             max_samples = params_max_samples, \n",
    "                                             n_estimators = params_n_estimators, \n",
    "                                             oob_score = True, n_jobs = -1)\n",
    "best_bagging_DT.fit(x_train, y_train)\n",
    "y_pred = best_bagging_DT.predict(x_test)\n",
    "y_pred_s = best_bagging_DT.predict_proba(x_test)[:,1]\n",
    "table = gen_table(table, 'bagging-DT', y_test, y_pred, y_pred_s)\n",
    "print(table)"
   ]
  },
  {
   "cell_type": "markdown",
   "metadata": {},
   "source": [
    "<a id='j'></a>   \n",
    "## 2.4 Boosting (DecisionTree based)\n",
    "    1. Adaboost\n",
    "    2. GradientBoosting\n",
    "    \n",
    "\n",
    "[back to contents list](#list2)<br>    "
   ]
  },
  {
   "cell_type": "markdown",
   "metadata": {},
   "source": [
    "### 2.4.1 Adaboost\n",
    "Parameter setting:\n",
    "\n",
    "    'algorithm': 'SAMME'\n",
    "    'n_estimators': 50"
   ]
  },
  {
   "cell_type": "code",
   "execution_count": 61,
   "metadata": {},
   "outputs": [
    {
     "name": "stdout",
     "output_type": "stream",
     "text": [
      "{'algorithm': 'SAMME', 'n_estimators': 50}\n",
      "CPU times: user 11h 15min 9s, sys: 4min 14s, total: 11h 19min 24s\n",
      "Wall time: 11h 22min 10s\n"
     ]
    }
   ],
   "source": [
    "%%time\n",
    "boosting_Ada = ensemble.AdaBoostClassifier(tree.DecisionTreeClassifier(), random_state = 2020)\n",
    "\n",
    "fhalf_scorer = metrics.make_scorer(metrics.fbeta_score, beta = 0.5)\n",
    "grid_3 = model_selection.GridSearchCV(boosting_Ada, \n",
    "                                     param_grid = {'algorithm': ['SAMME', 'SAMME.R'], \n",
    "                                                   'n_estimators': [10, 20, 50, 80, 100]}, \n",
    "                                     scoring = fhalf_scorer, cv = 10)\n",
    "grid_3.fit(x_train, y_train)\n",
    "print(grid_3.best_params_)"
   ]
  },
  {
   "cell_type": "markdown",
   "metadata": {},
   "source": [
    "    {'algorithm': 'SAMME', 'n_estimators': 50}\n",
    "    CPU times: user 11h 15min 9s, sys: 4min 14s, total: 11h 19min 24s\n",
    "    Wall time: 11h 22min 10s"
   ]
  },
  {
   "cell_type": "code",
   "execution_count": 30,
   "metadata": {},
   "outputs": [
    {
     "name": "stdout",
     "output_type": "stream",
     "text": [
      "              model precision    recall    F_beta       AUC\n",
      "0          logistic  0.709613  0.339695  0.459449  0.856003\n",
      "1                DT  0.604286   0.60217  0.603226  0.786499\n",
      "2  bagging-logistic  0.709973  0.339348  0.459208  0.856001\n",
      "3        bagging-DT  0.741219  0.685237  0.712129  0.948858\n",
      "4   boosting-Ada-DT  0.643488  0.622023  0.632574  0.896162\n",
      "CPU times: user 18min 18s, sys: 23.2 s, total: 18min 42s\n",
      "Wall time: 19min 8s\n"
     ]
    }
   ],
   "source": [
    "%%time\n",
    "# params = grid_3.best_params_\n",
    "# params_algorithm = params['algorithm']\n",
    "# params_n_estimators = params['n_estimators']\n",
    "params_algorithm = 'SAMME'\n",
    "params_n_estimators = 50\n",
    "\n",
    "best_boosting_Ada = ensemble.AdaBoostClassifier(tree.DecisionTreeClassifier(), \n",
    "                                                n_estimators = params_n_estimators, \n",
    "                                                algorithm = params_algorithm)\n",
    "best_boosting_Ada.fit(x_train, y_train)\n",
    "y_pred = best_boosting_Ada.predict(x_test)\n",
    "y_pred_s = best_boosting_Ada.predict_proba(x_test)[:,1]\n",
    "table = gen_table(table, 'boosting-Ada-DT', y_test, y_pred, y_pred_s)\n",
    "print(table)"
   ]
  },
  {
   "cell_type": "markdown",
   "metadata": {},
   "source": [
    "### 2.4.2 GradientBoosting\n",
    "Parameter setting:\n",
    "\n",
    "    'n_estimators': 100"
   ]
  },
  {
   "cell_type": "code",
   "execution_count": 63,
   "metadata": {},
   "outputs": [
    {
     "name": "stdout",
     "output_type": "stream",
     "text": [
      "{'n_estimators': 100}\n",
      "CPU times: user 1h 17min 3s, sys: 1min 14s, total: 1h 18min 17s\n",
      "Wall time: 1h 18min 18s\n"
     ]
    }
   ],
   "source": [
    "%%time\n",
    "boosting_G = ensemble.GradientBoostingClassifier()\n",
    "\n",
    "fhalf_scorer = metrics.make_scorer(metrics.fbeta_score, beta = 0.5)\n",
    "grid_4 = model_selection.GridSearchCV(boosting_G, \n",
    "                                     param_grid = {'n_estimators': [10, 20, 50, 80, 100]}, \n",
    "                                     scoring = fhalf_scorer, cv = 10)\n",
    "grid_4.fit(x_train, y_train)\n",
    "print(grid_4.best_params_)"
   ]
  },
  {
   "cell_type": "markdown",
   "metadata": {},
   "source": [
    "    {'n_estimators': 100}\n",
    "    CPU times: user 1h 17min 3s, sys: 1min 14s, total: 1h 18min 17s\n",
    "    Wall time: 1h 18min 18s"
   ]
  },
  {
   "cell_type": "code",
   "execution_count": 31,
   "metadata": {},
   "outputs": [
    {
     "name": "stdout",
     "output_type": "stream",
     "text": [
      "               model precision    recall    F_beta       AUC\n",
      "0           logistic  0.709613  0.339695  0.459449  0.856003\n",
      "1                 DT  0.604286   0.60217  0.603226  0.786499\n",
      "2   bagging-logistic  0.709973  0.339348  0.459208  0.856001\n",
      "3         bagging-DT  0.741219  0.685237  0.712129  0.948858\n",
      "4    boosting-Ada-DT  0.643488  0.622023  0.632574  0.896162\n",
      "5  boosting-Gradient  0.714218  0.750875  0.732088  0.960931\n",
      "CPU times: user 4min 19s, sys: 9.66 s, total: 4min 28s\n",
      "Wall time: 4min 34s\n"
     ]
    }
   ],
   "source": [
    "%%time\n",
    "# params = grid_4.best_params_\n",
    "# params_n_estimators = params['n_estimators']\n",
    "params_n_estimators = 100\n",
    "\n",
    "best_boosting_G = ensemble.GradientBoostingClassifier(n_estimators = params_n_estimators)\n",
    "best_boosting_G.fit(x_train, y_train)\n",
    "y_pred = best_boosting_G.predict(x_test)\n",
    "y_pred_s = best_boosting_G.predict_proba(x_test)[:,1]\n",
    "table = gen_table(table, 'boosting-Gradient', y_test, y_pred, y_pred_s)\n",
    "print(table)"
   ]
  },
  {
   "cell_type": "markdown",
   "metadata": {},
   "source": [
    "<a id='k'></a>  \n",
    "## 2.5 Stacking\n",
    "\n",
    "[back to contents list](#list2)<br>  "
   ]
  },
  {
   "cell_type": "code",
   "execution_count": 31,
   "metadata": {},
   "outputs": [
    {
     "name": "stdout",
     "output_type": "stream",
     "text": [
      "        model precision    recall    F_beta       AUC\n",
      "0          RF  0.727399  0.665577  0.695116  0.941825\n",
      "1         KNN  0.693066  0.646455  0.668949  0.896051\n",
      "2    logistic  0.709613  0.339695  0.459449  0.856003\n",
      "3          DT  0.604343  0.601785  0.603061  0.786339\n",
      "4  stacking_3  0.598557  0.571429  0.584678  0.900239\n",
      "CPU times: user 28min 36s, sys: 15 s, total: 28min 51s\n",
      "Wall time: 28min 48s\n"
     ]
    }
   ],
   "source": [
    "%%time\n",
    "estimators = [('logit', logit), ('DT', DT), ('RF', RF)]\n",
    "stacking_1 = ensemble.StackingClassifier(estimators = estimators, final_estimator = RF)\n",
    "stacking_1.fit(x_train, y_train)\n",
    "y_pred = stacking_1.predict(x_test)\n",
    "y_pred_s = stacking_1.predict_proba(x_test)[:,1]\n",
    "table = gen_table(table, 'stacking_3', y_test, y_pred, y_pred_s)\n",
    "print(table)"
   ]
  },
  {
   "cell_type": "code",
   "execution_count": 32,
   "metadata": {},
   "outputs": [
    {
     "name": "stdout",
     "output_type": "stream",
     "text": [
      "        model precision    recall    F_beta       AUC\n",
      "0          RF  0.727399  0.665577  0.695116  0.941825\n",
      "1         KNN  0.693066  0.646455  0.668949  0.896051\n",
      "2    logistic  0.709613  0.339695  0.459449  0.856003\n",
      "3          DT  0.604343  0.601785  0.603061  0.786339\n",
      "4  stacking_3  0.598557  0.571429  0.584678  0.900239\n",
      "5  stacking_4  0.602709  0.576969  0.589558  0.902733\n",
      "CPU times: user 2h 42min 7s, sys: 46.3 s, total: 2h 42min 53s\n",
      "Wall time: 2h 42min 58s\n"
     ]
    }
   ],
   "source": [
    "%%time\n",
    "estimators_more = [('logit', logit), ('DT', DT), ('RF', RF), ('knn', knn)]\n",
    "stacking_2 = ensemble.StackingClassifier(estimators = estimators_more, final_estimator = RF)\n",
    "stacking_2.fit(x_train, y_train)\n",
    "y_pred = stacking_2.predict(x_test)\n",
    "y_pred_s = stacking_2.predict_proba(x_test)[:,1]\n",
    "table = gen_table(table, 'stacking_4', y_test, y_pred, y_pred_s)\n",
    "print(table)"
   ]
  },
  {
   "cell_type": "markdown",
   "metadata": {},
   "source": [
    "<a id='5'></a>\n",
    "<a id='l'></a>  \n",
    "## 2.6 Performance Comparation"
   ]
  },
  {
   "cell_type": "markdown",
   "metadata": {},
   "source": [
    "**Simple Models:**"
   ]
  },
  {
   "cell_type": "markdown",
   "metadata": {},
   "source": [
    "|| Logistic | Decision Tree | **Random Forest** | **KNN** |\n",
    "|---| --- | --- | --- |---|\n",
    "|Parameter settings|C: 10<br>solver: 'liblinear'|default|max_features:'log2'|default|\n",
    "|Precision|0.709613|0.604343|0.727399|0.693066|\n",
    "|Recall|0.339695|0.601785|0.665577|0.646455|\n",
    "|$F_{0.5}$|0.459449|0.603061|0.695116|0.668949|\n",
    "|AUC|0.856003|0.786339|0.941825|0.896051|"
   ]
  },
  {
   "cell_type": "markdown",
   "metadata": {},
   "source": [
    "**Ensemble Models with external data:**"
   ]
  },
  {
   "cell_type": "markdown",
   "metadata": {},
   "source": [
    "|| Bagging | <code style=\"background:yellow\">Bagging</code> | Boosting | <code style=\"background:yellow\">Boosting</code> | <code style=\"background:yellow\">Stacking</code> |Stacking|\n",
    "| --- | --- | --- | --- | --- | --- | --- |\n",
    "|Base classifier| Logistic | **Decision Tree** | Decison Tree<br>Adaboost | **Decision Tree<br>Gradient Boost** | **logistic<br>Decison Tree<br>RandomForest**|logistic<br>Decison Tree<br>RandomForest<br>KNN|\n",
    "|Parameter settings|max_samples: 0.7<br>n_estimators: 10|**max_samples: 0.3<br>n_estimators: 100**|algorithm: 'SAMME'<br>n_estimators: 50|**n_estimators:100**|**final_estimator:RandomForest**|final_estimator:RandomForest|\n",
    "|Precision|0.709973|**0.741219**|0.643488|**0.714218**|**0.598557**|0.602709|\n",
    "|Recall|0.339348|**0.685237**|0.62202|**0.750875**|**0.571429**|0.576969|\n",
    "|$F_{0.5}$|0.459208|**0.712129**|0.632574|**0.732088**|**0.584678**|0.589558|\n",
    "|AUC|0.856001|**0.948858**|0.896162|**0.960931**|**0.900239**|0.902733"
   ]
  },
  {
   "cell_type": "markdown",
   "metadata": {},
   "source": [
    "To clearly see the improvements after adding external data, here we show the result of **Ensemble Models without external data** again."
   ]
  },
  {
   "cell_type": "markdown",
   "metadata": {},
   "source": [
    "|| Bagging | <code style=\"background:yellow\">Bagging</code> | Boosting | <code style=\"background:yellow\">Boosting</code> | <code style=\"background:yellow\">Stacking</code> |Stacking|\n",
    "| --- | --- | --- | --- | --- | --- | --- |\n",
    "|Base classifier| Logistic | **Decision Tree** | Decison Tree<br>Adaboost | **Decision Tree<br>Gradient Boost** | **logistic<br>Decison Tree<br>RandomForest** |logistic<br>Decison Tree<br>RandomForest<br>KNN|\n",
    "|Parameter settings|max_samples: 0.3<br>n_estimators: 80|**max_samples: 0.3<br>n_estimators: 100**|algorithm: 'SAMME'<br>n_estimators: 20|**n_estimators:100**|**final_estimator:RandomForest**|final_estimator:RandomForest|\n",
    "|Precision|0.709628|**0.739342**|0.66146|**0.715461**|**0.619725**|0.633232|\n",
    "|Recall|0.336617|**0.671271**|0.617483|**0.749375**|**0.568389**|0.587088|\n",
    "|$F_{0.5}$|0.456628|**0.703664**|0.638715|**0.732025**|**0.592948**|0.609288|\n",
    "|AUC|0.854954|**0.938534**|0.87244|**0.96119**|**0.904773**|0.90763|"
   ]
  },
  {
   "cell_type": "markdown",
   "metadata": {},
   "source": [
    "**Comments:**"
   ]
  },
  {
   "cell_type": "markdown",
   "metadata": {},
   "source": [
    "1. At the very beginning, I still first use GridSearch to find the best params for 4 simple models. As the table shows, there's some slight improvements for the logistic and random forest model in F_beta and AUC.\n",
    "\n",
    "\n",
    "2. Move on to the bagging model, after introducing external data, both Logistic and Decision Tree based bagging model show some improvements, especially the Decision Tree based bagging model which has F_beta=0.7121 and AUC=0.9489.\n",
    "\n",
    "\n",
    "3. For boosting model, there's a quite clear improvement for Adaboost (AUC from 0.8724 to 0.8962) after new data added in. But for Gradient Boost, thought it still has higher performance than Adaboost, the acutal F_beta and AUC is getting lower. It is mainly because when I did model selection, the param_grid is setted as {'n_estimators': [10, 20, 50, 80, 100]}, in this case, the gradient boost model actually can get higher result if we set the n_estimators higher than 100.\n",
    "\n",
    "\n",
    "4. In terms of stacking model, it also has a slight improvement for 3 estimators. Though in this case, adding KNN in does not have much better result and overall result is not better than final estimator.\n",
    "\n",
    "\n",
    "5. To conclude, in this case, for binary classification, Decision Tree based Gradient Boost model gives us the best results in terms of $F_{0.5}$ and AUC even it's a not balanced dataset. Both precision and recall are relatively high. And it can certainly be improved by expanding the grid search range, e.g. the estimator number, which is just a cost of time."
   ]
  },
  {
   "cell_type": "markdown",
   "metadata": {},
   "source": [
    "[back to contents list](#list2)<br> \n",
    "[back to main list](#all)"
   ]
  }
 ],
 "metadata": {
  "kernelspec": {
   "display_name": "Python 3",
   "language": "python",
   "name": "python3"
  },
  "language_info": {
   "codemirror_mode": {
    "name": "ipython",
    "version": 3
   },
   "file_extension": ".py",
   "mimetype": "text/x-python",
   "name": "python",
   "nbconvert_exporter": "python",
   "pygments_lexer": "ipython3",
   "version": "3.7.6"
  }
 },
 "nbformat": 4,
 "nbformat_minor": 4
}
